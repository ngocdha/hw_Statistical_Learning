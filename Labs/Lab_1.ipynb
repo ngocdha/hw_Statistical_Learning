{
 "cells": [
  {
   "cell_type": "markdown",
   "metadata": {},
   "source": [
    "# Ngoc Ha\n",
    "# Lab #1 - STAT 453"
   ]
  },
  {
   "cell_type": "markdown",
   "metadata": {},
   "source": [
    "### (a) Attach faithful"
   ]
  },
  {
   "cell_type": "code",
   "execution_count": 2,
   "metadata": {},
   "outputs": [],
   "source": [
    "attach(faithful)"
   ]
  },
  {
   "cell_type": "markdown",
   "metadata": {},
   "source": [
    "### (b) Determine the variable names in faithful"
   ]
  },
  {
   "cell_type": "code",
   "execution_count": 8,
   "metadata": {},
   "outputs": [
    {
     "data": {
      "text/html": [
       "<ol class=list-inline>\n",
       "\t<li>'eruptions'</li>\n",
       "\t<li>'waiting'</li>\n",
       "</ol>\n"
      ],
      "text/latex": [
       "\\begin{enumerate*}\n",
       "\\item 'eruptions'\n",
       "\\item 'waiting'\n",
       "\\end{enumerate*}\n"
      ],
      "text/markdown": [
       "1. 'eruptions'\n",
       "2. 'waiting'\n",
       "\n",
       "\n"
      ],
      "text/plain": [
       "[1] \"eruptions\" \"waiting\"  "
      ]
     },
     "metadata": {},
     "output_type": "display_data"
    }
   ],
   "source": [
    "names(faithful)"
   ]
  },
  {
   "cell_type": "markdown",
   "metadata": {},
   "source": [
    "### (c) Determine the number of observations in faithful"
   ]
  },
  {
   "cell_type": "code",
   "execution_count": 12,
   "metadata": {},
   "outputs": [
    {
     "data": {
      "text/html": [
       "272"
      ],
      "text/latex": [
       "272"
      ],
      "text/markdown": [
       "272"
      ],
      "text/plain": [
       "[1] 272"
      ]
     },
     "metadata": {},
     "output_type": "display_data"
    }
   ],
   "source": [
    "length(faithful[,1])"
   ]
  },
  {
   "cell_type": "code",
   "execution_count": 3,
   "metadata": {},
   "outputs": [
    {
     "data": {
      "text/plain": [
       "   eruptions        waiting    \n",
       " Min.   :1.600   Min.   :43.0  \n",
       " 1st Qu.:2.163   1st Qu.:58.0  \n",
       " Median :4.000   Median :76.0  \n",
       " Mean   :3.488   Mean   :70.9  \n",
       " 3rd Qu.:4.454   3rd Qu.:82.0  \n",
       " Max.   :5.100   Max.   :96.0  "
      ]
     },
     "metadata": {},
     "output_type": "display_data"
    }
   ],
   "source": [
    "summary(faithful)"
   ]
  },
  {
   "cell_type": "markdown",
   "metadata": {},
   "source": [
    "### (d) Plot a density histogram of eruptions with density line. Be sure your plot is titled."
   ]
  },
  {
   "cell_type": "code",
   "execution_count": 10,
   "metadata": {},
   "outputs": [
    {
     "data": {
      "image/png": "[encoded data removed]",
      "text/plain": [
       "Plot with title \"Histogram of eruption times\""
      ]
     },
     "metadata": {},
     "output_type": "display_data",
     "source": "R display func"
    }
   ],
   "source": [
    "eruptions = faithful$eruptions\n",
    "hist(eruptions, prob = T, xlab = \"Eruption time (mins)\", ylab = \"Density\", main = \"Histogram of eruption times\")\n",
    "lines(density(eruptions))"
   ]
  },
  {
   "cell_type": "markdown",
   "metadata": {},
   "source": [
    "### (e) Plot an outlier boxplot of eruptions. Make sure your plot is titled."
   ]
  },
  {
   "cell_type": "code",
   "execution_count": 14,
   "metadata": {},
   "outputs": [
    {
     "data": {
      "image/png": "[encoded data removed]",
      "text/plain": [
       "Plot with title \"Boxplot of eruption times\""
      ]
     },
     "metadata": {},
     "output_type": "display_data",
     "source": "R display func"
    }
   ],
   "source": [
    "boxplot(eruptions, prob = T, horizontal = T, xlab = \"Eruption time (mins)\", main = \"Boxplot of eruption times\")"
   ]
  },
  {
   "cell_type": "markdown",
   "metadata": {},
   "source": [
    "### (f) Compute the deciles of eruptions"
   ]
  },
  {
   "cell_type": "code",
   "execution_count": 17,
   "metadata": {},
   "outputs": [
    {
     "data": {
      "text/html": [
       "<dl class=dl-horizontal>\n",
       "\t<dt>0%</dt>\n",
       "\t\t<dd>1.6</dd>\n",
       "\t<dt>10%</dt>\n",
       "\t\t<dd>1.8517</dd>\n",
       "\t<dt>20%</dt>\n",
       "\t\t<dd>2.0034</dd>\n",
       "\t<dt>30%</dt>\n",
       "\t\t<dd>2.3051</dd>\n",
       "\t<dt>40%</dt>\n",
       "\t\t<dd>3.6</dd>\n",
       "\t<dt>50%</dt>\n",
       "\t\t<dd>4</dd>\n",
       "\t<dt>60%</dt>\n",
       "\t\t<dd>4.167</dd>\n",
       "\t<dt>70%</dt>\n",
       "\t\t<dd>4.3667</dd>\n",
       "\t<dt>80%</dt>\n",
       "\t\t<dd>4.533</dd>\n",
       "\t<dt>90%</dt>\n",
       "\t\t<dd>4.7</dd>\n",
       "\t<dt>100%</dt>\n",
       "\t\t<dd>5.1</dd>\n",
       "</dl>\n"
      ],
      "text/latex": [
       "\\begin{description*}\n",
       "\\item[0\\textbackslash{}\\%] 1.6\n",
       "\\item[10\\textbackslash{}\\%] 1.8517\n",
       "\\item[20\\textbackslash{}\\%] 2.0034\n",
       "\\item[30\\textbackslash{}\\%] 2.3051\n",
       "\\item[40\\textbackslash{}\\%] 3.6\n",
       "\\item[50\\textbackslash{}\\%] 4\n",
       "\\item[60\\textbackslash{}\\%] 4.167\n",
       "\\item[70\\textbackslash{}\\%] 4.3667\n",
       "\\item[80\\textbackslash{}\\%] 4.533\n",
       "\\item[90\\textbackslash{}\\%] 4.7\n",
       "\\item[100\\textbackslash{}\\%] 5.1\n",
       "\\end{description*}\n"
      ],
      "text/markdown": [
       "0%\n",
       ":   1.610%\n",
       ":   1.851720%\n",
       ":   2.003430%\n",
       ":   2.305140%\n",
       ":   3.650%\n",
       ":   460%\n",
       ":   4.16770%\n",
       ":   4.366780%\n",
       ":   4.53390%\n",
       ":   4.7100%\n",
       ":   5.1\n",
       "\n"
      ],
      "text/plain": [
       "    0%    10%    20%    30%    40%    50%    60%    70%    80%    90%   100% \n",
       "1.6000 1.8517 2.0034 2.3051 3.6000 4.0000 4.1670 4.3667 4.5330 4.7000 5.1000 "
      ]
     },
     "metadata": {},
     "output_type": "display_data"
    }
   ],
   "source": [
    "decile = quantile(eruptions, seq(0,1,0.1))\n",
    "decile"
   ]
  },
  {
   "cell_type": "markdown",
   "metadata": {},
   "source": [
    "### (g) Compute the basic summary statistics for eruptions - five-number summary, mean, 10% trimmed mean, sd, inter-quartile range, sample size"
   ]
  },
  {
   "cell_type": "code",
   "execution_count": 18,
   "metadata": {},
   "outputs": [
    {
     "data": {
      "text/plain": [
       "   Min. 1st Qu.  Median    Mean 3rd Qu.    Max. \n",
       "  1.600   2.163   4.000   3.488   4.454   5.100 "
      ]
     },
     "metadata": {},
     "output_type": "display_data"
    }
   ],
   "source": [
    "summary(eruptions)"
   ]
  },
  {
   "cell_type": "code",
   "execution_count": 19,
   "metadata": {},
   "outputs": [
    {
     "data": {
      "text/html": [
       "3.48778308823529"
      ],
      "text/latex": [
       "3.48778308823529"
      ],
      "text/markdown": [
       "3.48778308823529"
      ],
      "text/plain": [
       "[1] 3.487783"
      ]
     },
     "metadata": {},
     "output_type": "display_data"
    }
   ],
   "source": [
    "mean(eruptions)"
   ]
  },
  {
   "cell_type": "code",
   "execution_count": 20,
   "metadata": {},
   "outputs": [
    {
     "data": {
      "text/html": [
       "3.52980733944954"
      ],
      "text/latex": [
       "3.52980733944954"
      ],
      "text/markdown": [
       "3.52980733944954"
      ],
      "text/plain": [
       "[1] 3.529807"
      ]
     },
     "metadata": {},
     "output_type": "display_data"
    }
   ],
   "source": [
    "mean(eruptions, 0.1)"
   ]
  },
  {
   "cell_type": "code",
   "execution_count": 21,
   "metadata": {},
   "outputs": [
    {
     "data": {
      "text/html": [
       "1.14137125110521"
      ],
      "text/latex": [
       "1.14137125110521"
      ],
      "text/markdown": [
       "1.14137125110521"
      ],
      "text/plain": [
       "[1] 1.141371"
      ]
     },
     "metadata": {},
     "output_type": "display_data"
    }
   ],
   "source": [
    "sd(eruptions)"
   ]
  },
  {
   "cell_type": "code",
   "execution_count": 22,
   "metadata": {},
   "outputs": [
    {
     "data": {
      "text/html": [
       "2.2915"
      ],
      "text/latex": [
       "2.2915"
      ],
      "text/markdown": [
       "2.2915"
      ],
      "text/plain": [
       "[1] 2.2915"
      ]
     },
     "metadata": {},
     "output_type": "display_data"
    }
   ],
   "source": [
    "IQR(eruptions)"
   ]
  },
  {
   "cell_type": "code",
   "execution_count": 24,
   "metadata": {},
   "outputs": [
    {
     "data": {
      "text/html": [
       "272"
      ],
      "text/latex": [
       "272"
      ],
      "text/markdown": [
       "272"
      ],
      "text/plain": [
       "[1] 272"
      ]
     },
     "metadata": {},
     "output_type": "display_data"
    }
   ],
   "source": [
    "length(eruptions)"
   ]
  },
  {
   "cell_type": "markdown",
   "metadata": {},
   "source": [
    "### (h) Which measure of location (i.e."
   ]
  },
  {
   "cell_type": "markdown",
   "metadata": {},
   "source": [
    "#### mean"
   ]
  },
  {
   "cell_type": "code",
   "execution_count": null,
   "metadata": {},
   "outputs": [],
   "source": []
  }
 ],
 "metadata": {
  "kernelspec": {
   "display_name": "R",
   "language": "R",
   "name": "ir"
  },
  "language_info": {
   "codemirror_mode": "r",
   "file_extension": ".r",
   "mimetype": "text/x-r-source",
   "name": "R",
   "pygments_lexer": "r",
   "version": "3.4.3"
  }
 },
 "nbformat": 4,
 "nbformat_minor": 2
}
