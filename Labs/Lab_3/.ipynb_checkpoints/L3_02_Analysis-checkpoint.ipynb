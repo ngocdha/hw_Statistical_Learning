{
 "cells": [
  {
   "cell_type": "markdown",
   "metadata": {},
   "source": [
    "# Ngoc Ha\n",
    "# STAT 453 - Statistical Learning and Data Science I\n",
    "# Lab 3"
   ]
  },
  {
   "cell_type": "markdown",
   "metadata": {},
   "source": [
    "# Data Analysis"
   ]
  },
  {
   "cell_type": "code",
   "execution_count": 2,
   "metadata": {},
   "outputs": [],
   "source": [
    "library(readxl)\n",
    "library(dplyr)\n",
    "library(chron)\n",
    "library(fitdistrplus)\n",
    "library(ggplot2)\n",
    "options(warn = -1)"
   ]
  },
  {
   "cell_type": "markdown",
   "metadata": {},
   "source": [
    "## 3. Graphical Analysis of discharge for June 1, June 15, and June 30"
   ]
  },
  {
   "cell_type": "markdown",
   "metadata": {},
   "source": [
    "#### Import data and Overview of data"
   ]
  },
  {
   "cell_type": "code",
   "execution_count": 3,
   "metadata": {},
   "outputs": [],
   "source": [
    "data <- read_excel('data.xlsx')"
   ]
  },
  {
   "cell_type": "code",
   "execution_count": 4,
   "metadata": {},
   "outputs": [
    {
     "name": "stdout",
     "output_type": "stream",
     "text": [
      "Classes 'tbl_df', 'tbl' and 'data.frame':\t124741 obs. of  4 variables:\n",
      " $ Date      : POSIXct, format: \"2009-08-07\" \"2009-08-07\" ...\n",
      " $ Time      : chr  \"00:15:00\" \"00:30:00\" \"00:45:00\" \"01:00:00\" ...\n",
      " $ DischargeM: num  210 210 215 215 219 219 224 224 224 229 ...\n",
      " $ DischargeW: num  365 365 371 371 378 384 384 384 390 390 ...\n"
     ]
    }
   ],
   "source": [
    "str(data)"
   ]
  },
  {
   "cell_type": "markdown",
   "metadata": {},
   "source": [
    "#### Convert Date and Time to Date and Time format"
   ]
  },
  {
   "cell_type": "code",
   "execution_count": 37,
   "metadata": {},
   "outputs": [
    {
     "data": {
      "text/html": [
       "<table>\n",
       "<thead><tr><th scope=col>Date</th><th scope=col>Time</th><th scope=col>DischargeM</th><th scope=col>DischargeW</th></tr></thead>\n",
       "<tbody>\n",
       "\t<tr><td>2009-08-07</td><td>00:15:00  </td><td>210       </td><td>365       </td></tr>\n",
       "\t<tr><td>2009-08-07</td><td>00:30:00  </td><td>210       </td><td>365       </td></tr>\n",
       "\t<tr><td>2009-08-07</td><td>00:45:00  </td><td>215       </td><td>371       </td></tr>\n",
       "\t<tr><td>2009-08-07</td><td>01:00:00  </td><td>215       </td><td>371       </td></tr>\n",
       "\t<tr><td>2009-08-07</td><td>01:15:00  </td><td>219       </td><td>378       </td></tr>\n",
       "\t<tr><td>2009-08-07</td><td>01:30:00  </td><td>219       </td><td>384       </td></tr>\n",
       "</tbody>\n",
       "</table>\n"
      ],
      "text/latex": [
       "\\begin{tabular}{r|llll}\n",
       " Date & Time & DischargeM & DischargeW\\\\\n",
       "\\hline\n",
       "\t 2009-08-07 & 00:15:00   & 210        & 365       \\\\\n",
       "\t 2009-08-07 & 00:30:00   & 210        & 365       \\\\\n",
       "\t 2009-08-07 & 00:45:00   & 215        & 371       \\\\\n",
       "\t 2009-08-07 & 01:00:00   & 215        & 371       \\\\\n",
       "\t 2009-08-07 & 01:15:00   & 219        & 378       \\\\\n",
       "\t 2009-08-07 & 01:30:00   & 219        & 384       \\\\\n",
       "\\end{tabular}\n"
      ],
      "text/markdown": [
       "\n",
       "Date | Time | DischargeM | DischargeW | \n",
       "|---|---|---|---|---|---|\n",
       "| 2009-08-07 | 00:15:00   | 210        | 365        | \n",
       "| 2009-08-07 | 00:30:00   | 210        | 365        | \n",
       "| 2009-08-07 | 00:45:00   | 215        | 371        | \n",
       "| 2009-08-07 | 01:00:00   | 215        | 371        | \n",
       "| 2009-08-07 | 01:15:00   | 219        | 378        | \n",
       "| 2009-08-07 | 01:30:00   | 219        | 384        | \n",
       "\n",
       "\n"
      ],
      "text/plain": [
       "  Date       Time     DischargeM DischargeW\n",
       "1 2009-08-07 00:15:00 210        365       \n",
       "2 2009-08-07 00:30:00 210        365       \n",
       "3 2009-08-07 00:45:00 215        371       \n",
       "4 2009-08-07 01:00:00 215        371       \n",
       "5 2009-08-07 01:15:00 219        378       \n",
       "6 2009-08-07 01:30:00 219        384       "
      ]
     },
     "metadata": {},
     "output_type": "display_data"
    }
   ],
   "source": [
    "data$Date <- as.Date(data$Date)\n",
    "\n",
    "data$Time <- times(data$Time)\n",
    "\n",
    "head(data)"
   ]
  },
  {
   "cell_type": "markdown",
   "metadata": {},
   "source": [
    "#### Subset only necessary data"
   ]
  },
  {
   "cell_type": "code",
   "execution_count": 6,
   "metadata": {},
   "outputs": [],
   "source": [
    "data_0601 = subset(data, format(Date, \"%m-%d\") == \"06-01\")\n",
    "\n",
    "data_0615 = subset(data, format(Date, \"%m-%d\") == \"06-15\")\n",
    "\n",
    "data_0630 = subset(data, format(Date, \"%m-%d\") == \"06-30\")"
   ]
  },
  {
   "cell_type": "markdown",
   "metadata": {},
   "source": [
    "### (3a) Density histogram"
   ]
  },
  {
   "cell_type": "markdown",
   "metadata": {},
   "source": [
    "#### Mudd Creek"
   ]
  },
  {
   "cell_type": "code",
   "execution_count": 7,
   "metadata": {},
   "outputs": [
    {
     "data": {
      "image/png": "[encoded data removed]",
      "text/plain": [
       "Plot with title \"Mudd Creek, 06/30\""
      ]
     },
     "metadata": {},
     "output_type": "display_data",
     "source": "R display func"
    }
   ],
   "source": [
    "par(mfrow=c(3,1))\n",
    "\n",
    "hist(data_0601$DischargeM, main = \"Mudd Creek, 06/01\", xlab = \"Discharge (cfs)\", prob=T)\n",
    "lines(density(data_0601$DischargeM), add=T)\n",
    "\n",
    "hist(data_0615$DischargeM, main = \"Mudd Creek, 06/15\", xlab = \"Discharge (cfs)\", prob = T)\n",
    "lines(density(data_0615$DischargeM), add=T)\n",
    "\n",
    "hist(data_0630$DischargeM, main = \"Mudd Creek, 06/30\", xlab = \"Discharge (cfs)\", prob = T)\n",
    "lines(density(data_0630$DischargeM), add=T)"
   ]
  },
  {
   "cell_type": "code",
   "execution_count": 8,
   "metadata": {},
   "outputs": [
    {
     "data": {
      "text/html": [
       "'June 1'"
      ],
      "text/latex": [
       "'June 1'"
      ],
      "text/markdown": [
       "'June 1'"
      ],
      "text/plain": [
       "[1] \"June 1\""
      ]
     },
     "metadata": {},
     "output_type": "display_data"
    },
    {
     "data": {
      "text/plain": [
       "   Min. 1st Qu.  Median    Mean 3rd Qu.    Max. \n",
       "    843    1120    1900    2069    2800    3820 "
      ]
     },
     "metadata": {},
     "output_type": "display_data"
    },
    {
     "data": {
      "text/html": [
       "'June 15'"
      ],
      "text/latex": [
       "'June 15'"
      ],
      "text/markdown": [
       "'June 15'"
      ],
      "text/plain": [
       "[1] \"June 15\""
      ]
     },
     "metadata": {},
     "output_type": "display_data"
    },
    {
     "data": {
      "text/plain": [
       "   Min. 1st Qu.  Median    Mean 3rd Qu.    Max. \n",
       "    657    1240    1480    2098    1850    5480 "
      ]
     },
     "metadata": {},
     "output_type": "display_data"
    },
    {
     "data": {
      "text/html": [
       "'June 30'"
      ],
      "text/latex": [
       "'June 30'"
      ],
      "text/markdown": [
       "'June 30'"
      ],
      "text/plain": [
       "[1] \"June 30\""
      ]
     },
     "metadata": {},
     "output_type": "display_data"
    },
    {
     "data": {
      "text/plain": [
       "   Min. 1st Qu.  Median    Mean 3rd Qu.    Max. \n",
       "    152     379    1310    1312    1562    3100 "
      ]
     },
     "metadata": {},
     "output_type": "display_data"
    }
   ],
   "source": [
    "'June 1'\n",
    "summary(data_0601$DischargeM)\n",
    "'June 15'\n",
    "summary(data_0615$DischargeM)\n",
    "'June 30'\n",
    "summary(data_0630$DischargeM)"
   ]
  },
  {
   "cell_type": "markdown",
   "metadata": {},
   "source": [
    "#### Mudd Creek:\n",
    "##### - On average, discharge during early- to mid-June is bigger than during late-June\n",
    "##### - There are a lot of gaps in the data, distributed unevenly across these 3 dates\n",
    "##### - For June 15, Mean discharge is significantly bigger than Median discharge"
   ]
  },
  {
   "cell_type": "markdown",
   "metadata": {},
   "source": [
    "#### Wise River"
   ]
  },
  {
   "cell_type": "code",
   "execution_count": 9,
   "metadata": {},
   "outputs": [
    {
     "data": {
      "image/png": "[encoded data removed]",
      "text/plain": [
       "Plot with title \"Wise River, 06/30\""
      ]
     },
     "metadata": {},
     "output_type": "display_data",
     "source": "R display func"
    }
   ],
   "source": [
    "par(mfrow=c(3,1))\n",
    "\n",
    "hist(data_0601$DischargeW, main = \"Wise River, 06/01\", xlab = \"Discharge (cfs)\", prob=T)\n",
    "lines(density(data_0601$DischargeW), add=T)\n",
    "\n",
    "hist(data_0615$DischargeW, main = \"Wise River, 06/15\", xlab = \"Discharge (cfs)\", prob=T)\n",
    "lines(density(data_0615$DischargeW), add=T)\n",
    "\n",
    "hist(data_0630$DischargeW, main = \"Wise River, 06/30\", xlab = \"Discharge (cfs)\", prob=T)\n",
    "lines(density(data_0630$DischargeW), add=T)"
   ]
  },
  {
   "cell_type": "code",
   "execution_count": 10,
   "metadata": {},
   "outputs": [
    {
     "data": {
      "text/html": [
       "'June 1'"
      ],
      "text/latex": [
       "'June 1'"
      ],
      "text/markdown": [
       "'June 1'"
      ],
      "text/plain": [
       "[1] \"June 1\""
      ]
     },
     "metadata": {},
     "output_type": "display_data"
    },
    {
     "data": {
      "text/plain": [
       "   Min. 1st Qu.  Median    Mean 3rd Qu.    Max. \n",
       "   1410    1610    2505    2904    4480    5060 "
      ]
     },
     "metadata": {},
     "output_type": "display_data"
    },
    {
     "data": {
      "text/html": [
       "'June 15'"
      ],
      "text/latex": [
       "'June 15'"
      ],
      "text/markdown": [
       "'June 15'"
      ],
      "text/plain": [
       "[1] \"June 15\""
      ]
     },
     "metadata": {},
     "output_type": "display_data"
    },
    {
     "data": {
      "text/plain": [
       "   Min. 1st Qu.  Median    Mean 3rd Qu.    Max. \n",
       "   1290    1745    2220    3003    2855    7330 "
      ]
     },
     "metadata": {},
     "output_type": "display_data"
    },
    {
     "data": {
      "text/html": [
       "'June 30'"
      ],
      "text/latex": [
       "'June 30'"
      ],
      "text/markdown": [
       "'June 30'"
      ],
      "text/plain": [
       "[1] \"June 30\""
      ]
     },
     "metadata": {},
     "output_type": "display_data"
    },
    {
     "data": {
      "text/plain": [
       "   Min. 1st Qu.  Median    Mean 3rd Qu.    Max. \n",
       "    429     654    1935    2035    2560    4790 "
      ]
     },
     "metadata": {},
     "output_type": "display_data"
    }
   ],
   "source": [
    "'June 1'\n",
    "summary(data_0601$DischargeW)\n",
    "'June 15'\n",
    "summary(data_0615$DischargeW)\n",
    "'June 30'\n",
    "summary(data_0630$DischargeW)"
   ]
  },
  {
   "cell_type": "markdown",
   "metadata": {},
   "source": [
    "#### Wise River\n",
    "##### - On average, discharge during early- to mid-June is bigger than during late-June\n",
    "##### - There are a lot of gaps in the data, distributed unevenly across these 3 dates\n",
    "##### - For June 15, Mean discharge is significantly bigger than Median discharge"
   ]
  },
  {
   "cell_type": "markdown",
   "metadata": {},
   "source": [
    "### (3b) Outlier boxplot"
   ]
  },
  {
   "cell_type": "code",
   "execution_count": 11,
   "metadata": {},
   "outputs": [
    {
     "data": {
      "image/png": "[encoded data removed]",
      "text/plain": [
       "Plot with title \"Mudd Creek, 06/30\""
      ]
     },
     "metadata": {},
     "output_type": "display_data",
     "source": "R display func"
    }
   ],
   "source": [
    "par(mfrow=c(3,1))\n",
    "\n",
    "boxplot(data_0601$DischargeM, horizontal = T, main = \"Mudd Creek, 06/01\", xlab = \"Discharge (cfs)\")\n",
    "\n",
    "boxplot(data_0615$DischargeM, horizontal = T, main = \"Mudd Creek, 06/15\", xlab = \"Discharge (cfs)\")\n",
    "\n",
    "boxplot(data_0630$DischargeM, horizontal = T, main = \"Mudd Creek, 06/30\", xlab = \"Discharge (cfs)\")"
   ]
  },
  {
   "cell_type": "markdown",
   "metadata": {},
   "source": [
    "#### Mudd Creek\n",
    "##### There are tens of extreme outliers on June 15. This is why the Mean is significantly bigger than the Median"
   ]
  },
  {
   "cell_type": "code",
   "execution_count": 12,
   "metadata": {},
   "outputs": [
    {
     "data": {
      "image/png": "[encoded data removed]",
      "text/plain": [
       "Plot with title \"Wise River, 06/30\""
      ]
     },
     "metadata": {},
     "output_type": "display_data",
     "source": "R display func"
    }
   ],
   "source": [
    "par(mfrow=c(3,1))\n",
    "\n",
    "boxplot(data_0601$DischargeW, horizontal = T, main = \"Wise River, 06/01\", xlab = \"Discharge (cfs)\")\n",
    "\n",
    "boxplot(data_0615$DischargeW, horizontal = T, main = \"Wise River, 06/15\", xlab = \"Discharge (cfs)\")\n",
    "\n",
    "boxplot(data_0630$DischargeW, horizontal = T, main = \"Wise River, 06/30\", xlab = \"Discharge (cfs)\")"
   ]
  },
  {
   "cell_type": "markdown",
   "metadata": {},
   "source": [
    "#### Wise River\n",
    "##### There are tens of extreme outliers on June 15. This is why the Mean is significantly bigger than the Median"
   ]
  },
  {
   "cell_type": "markdown",
   "metadata": {},
   "source": [
    "### (3c) Normal plot"
   ]
  },
  {
   "cell_type": "code",
   "execution_count": 13,
   "metadata": {},
   "outputs": [
    {
     "data": {
      "image/png": "[encoded data removed]",
      "text/plain": [
       "Plot with title \"Normal Q-Q Plot\""
      ]
     },
     "metadata": {},
     "output_type": "display_data",
     "source": "R display func"
    }
   ],
   "source": [
    "par(mfrow = c(3,1))\n",
    "\n",
    "qqnorm(data_0601$DischargeM)\n",
    "\n",
    "qqnorm(data_0615$DischargeM)\n",
    "\n",
    "qqnorm(data_0630$DischargeM)"
   ]
  },
  {
   "cell_type": "markdown",
   "metadata": {},
   "source": [
    "#### Mudd Creek\n",
    "##### - Does not pass fat pencil test => NOT normal."
   ]
  },
  {
   "cell_type": "code",
   "execution_count": 14,
   "metadata": {},
   "outputs": [
    {
     "data": {
      "image/png": "[encoded data removed]",
      "text/plain": [
       "Plot with title \"Normal Q-Q Plot\""
      ]
     },
     "metadata": {},
     "output_type": "display_data",
     "source": "R display func"
    }
   ],
   "source": [
    "par(mfrow = c(3,1))\n",
    "\n",
    "qqnorm(data_0601$DischargeW)\n",
    "\n",
    "qqnorm(data_0615$DischargeW)\n",
    "\n",
    "qqnorm(data_0630$DischargeW)"
   ]
  },
  {
   "cell_type": "markdown",
   "metadata": {},
   "source": [
    "#### Wise River\n",
    "##### Does not pass fat pencil test => NOT normal."
   ]
  },
  {
   "cell_type": "markdown",
   "metadata": {},
   "source": [
    "## 4. Basic summary statistics"
   ]
  },
  {
   "cell_type": "markdown",
   "metadata": {},
   "source": [
    "### Mudd Creek"
   ]
  },
  {
   "cell_type": "markdown",
   "metadata": {},
   "source": [
    "#### June 1"
   ]
  },
  {
   "cell_type": "code",
   "execution_count": 15,
   "metadata": {},
   "outputs": [
    {
     "data": {
      "text/html": [
       "'6-number summary'"
      ],
      "text/latex": [
       "'6-number summary'"
      ],
      "text/markdown": [
       "'6-number summary'"
      ],
      "text/plain": [
       "[1] \"6-number summary\""
      ]
     },
     "metadata": {},
     "output_type": "display_data"
    },
    {
     "data": {
      "text/plain": [
       "   Min. 1st Qu.  Median    Mean 3rd Qu.    Max. \n",
       "    843    1120    1900    2069    2800    3820 "
      ]
     },
     "metadata": {},
     "output_type": "display_data"
    },
    {
     "data": {
      "text/html": [
       "'Trimmed mean'"
      ],
      "text/latex": [
       "'Trimmed mean'"
      ],
      "text/markdown": [
       "'Trimmed mean'"
      ],
      "text/plain": [
       "[1] \"Trimmed mean\""
      ]
     },
     "metadata": {},
     "output_type": "display_data"
    },
    {
     "name": "stdout",
     "output_type": "stream",
     "text": [
      "[1] 2069.095\n"
     ]
    },
    {
     "data": {
      "text/html": [
       "'Standard Deviation'"
      ],
      "text/latex": [
       "'Standard Deviation'"
      ],
      "text/markdown": [
       "'Standard Deviation'"
      ],
      "text/plain": [
       "[1] \"Standard Deviation\""
      ]
     },
     "metadata": {},
     "output_type": "display_data"
    },
    {
     "name": "stdout",
     "output_type": "stream",
     "text": [
      "[1] 1098.128\n"
     ]
    },
    {
     "data": {
      "text/html": [
       "'Inter-Quartile range'"
      ],
      "text/latex": [
       "'Inter-Quartile range'"
      ],
      "text/markdown": [
       "'Inter-Quartile range'"
      ],
      "text/plain": [
       "[1] \"Inter-Quartile range\""
      ]
     },
     "metadata": {},
     "output_type": "display_data"
    },
    {
     "name": "stdout",
     "output_type": "stream",
     "text": [
      "[1] 1680\n"
     ]
    }
   ],
   "source": [
    "'6-number summary'\n",
    "summary(data_0601$DischargeM)\n",
    "'Trimmed mean'\n",
    "print(mean(data_0601$DischargeM, trimmed = 0.1))\n",
    "'Standard Deviation'\n",
    "print(sd(summary(data_0601$DischargeM)))\n",
    "'Inter-Quartile range'\n",
    "print(IQR(data_0601$DischargeM))"
   ]
  },
  {
   "cell_type": "markdown",
   "metadata": {},
   "source": [
    "#### June 15"
   ]
  },
  {
   "cell_type": "code",
   "execution_count": 16,
   "metadata": {},
   "outputs": [
    {
     "data": {
      "text/html": [
       "'6-number summary'"
      ],
      "text/latex": [
       "'6-number summary'"
      ],
      "text/markdown": [
       "'6-number summary'"
      ],
      "text/plain": [
       "[1] \"6-number summary\""
      ]
     },
     "metadata": {},
     "output_type": "display_data"
    },
    {
     "data": {
      "text/plain": [
       "   Min. 1st Qu.  Median    Mean 3rd Qu.    Max. \n",
       "    657    1240    1480    2098    1850    5480 "
      ]
     },
     "metadata": {},
     "output_type": "display_data"
    },
    {
     "data": {
      "text/html": [
       "'Trimmed mean'"
      ],
      "text/latex": [
       "'Trimmed mean'"
      ],
      "text/markdown": [
       "'Trimmed mean'"
      ],
      "text/plain": [
       "[1] \"Trimmed mean\""
      ]
     },
     "metadata": {},
     "output_type": "display_data"
    },
    {
     "name": "stdout",
     "output_type": "stream",
     "text": [
      "[1] 2097.706\n"
     ]
    },
    {
     "data": {
      "text/html": [
       "'Standard Deviation'"
      ],
      "text/latex": [
       "'Standard Deviation'"
      ],
      "text/markdown": [
       "'Standard Deviation'"
      ],
      "text/plain": [
       "[1] \"Standard Deviation\""
      ]
     },
     "metadata": {},
     "output_type": "display_data"
    },
    {
     "name": "stdout",
     "output_type": "stream",
     "text": [
      "[1] 1713.836\n"
     ]
    },
    {
     "data": {
      "text/html": [
       "'Inter-Quartile range'"
      ],
      "text/latex": [
       "'Inter-Quartile range'"
      ],
      "text/markdown": [
       "'Inter-Quartile range'"
      ],
      "text/plain": [
       "[1] \"Inter-Quartile range\""
      ]
     },
     "metadata": {},
     "output_type": "display_data"
    },
    {
     "name": "stdout",
     "output_type": "stream",
     "text": [
      "[1] 610\n"
     ]
    }
   ],
   "source": [
    "'6-number summary'\n",
    "summary(data_0615$DischargeM)\n",
    "'Trimmed mean'\n",
    "print(mean(data_0615$DischargeM, trimmed = 0.1))\n",
    "'Standard Deviation'\n",
    "print(sd(summary(data_0615$DischargeM)))\n",
    "'Inter-Quartile range'\n",
    "print(IQR(data_0615$DischargeM))"
   ]
  },
  {
   "cell_type": "markdown",
   "metadata": {},
   "source": [
    "#### June 30"
   ]
  },
  {
   "cell_type": "code",
   "execution_count": 17,
   "metadata": {},
   "outputs": [
    {
     "data": {
      "text/html": [
       "'6-number summary'"
      ],
      "text/latex": [
       "'6-number summary'"
      ],
      "text/markdown": [
       "'6-number summary'"
      ],
      "text/plain": [
       "[1] \"6-number summary\""
      ]
     },
     "metadata": {},
     "output_type": "display_data"
    },
    {
     "data": {
      "text/plain": [
       "   Min. 1st Qu.  Median    Mean 3rd Qu.    Max. \n",
       "    152     379    1310    1312    1562    3100 "
      ]
     },
     "metadata": {},
     "output_type": "display_data"
    },
    {
     "data": {
      "text/html": [
       "'Trimmed mean'"
      ],
      "text/latex": [
       "'Trimmed mean'"
      ],
      "text/markdown": [
       "'Trimmed mean'"
      ],
      "text/plain": [
       "[1] \"Trimmed mean\""
      ]
     },
     "metadata": {},
     "output_type": "display_data"
    },
    {
     "name": "stdout",
     "output_type": "stream",
     "text": [
      "[1] 1311.509\n"
     ]
    },
    {
     "data": {
      "text/html": [
       "'Standard Deviation'"
      ],
      "text/latex": [
       "'Standard Deviation'"
      ],
      "text/markdown": [
       "'Standard Deviation'"
      ],
      "text/plain": [
       "[1] \"Standard Deviation\""
      ]
     },
     "metadata": {},
     "output_type": "display_data"
    },
    {
     "name": "stdout",
     "output_type": "stream",
     "text": [
      "[1] 1046.446\n"
     ]
    },
    {
     "data": {
      "text/html": [
       "'Inter-Quartile range'"
      ],
      "text/latex": [
       "'Inter-Quartile range'"
      ],
      "text/markdown": [
       "'Inter-Quartile range'"
      ],
      "text/plain": [
       "[1] \"Inter-Quartile range\""
      ]
     },
     "metadata": {},
     "output_type": "display_data"
    },
    {
     "name": "stdout",
     "output_type": "stream",
     "text": [
      "[1] 1183.5\n"
     ]
    }
   ],
   "source": [
    "'6-number summary'\n",
    "summary(data_0630$DischargeM)\n",
    "'Trimmed mean'\n",
    "print(mean(data_0630$DischargeM, trimmed = 0.1))\n",
    "'Standard Deviation'\n",
    "print(sd(summary(data_0630$DischargeM)))\n",
    "'Inter-Quartile range'\n",
    "print(IQR(data_0630$DischargeM))"
   ]
  },
  {
   "cell_type": "markdown",
   "metadata": {},
   "source": [
    "### Wise River"
   ]
  },
  {
   "cell_type": "markdown",
   "metadata": {},
   "source": [
    "### June 1"
   ]
  },
  {
   "cell_type": "code",
   "execution_count": 18,
   "metadata": {},
   "outputs": [
    {
     "data": {
      "text/html": [
       "'6-number summary'"
      ],
      "text/latex": [
       "'6-number summary'"
      ],
      "text/markdown": [
       "'6-number summary'"
      ],
      "text/plain": [
       "[1] \"6-number summary\""
      ]
     },
     "metadata": {},
     "output_type": "display_data"
    },
    {
     "data": {
      "text/plain": [
       "   Min. 1st Qu.  Median    Mean 3rd Qu.    Max. \n",
       "    843    1120    1900    2069    2800    3820 "
      ]
     },
     "metadata": {},
     "output_type": "display_data"
    },
    {
     "data": {
      "text/html": [
       "'Trimmed mean'"
      ],
      "text/latex": [
       "'Trimmed mean'"
      ],
      "text/markdown": [
       "'Trimmed mean'"
      ],
      "text/plain": [
       "[1] \"Trimmed mean\""
      ]
     },
     "metadata": {},
     "output_type": "display_data"
    },
    {
     "name": "stdout",
     "output_type": "stream",
     "text": [
      "[1] 2069.095\n"
     ]
    },
    {
     "data": {
      "text/html": [
       "'Standard Deviation'"
      ],
      "text/latex": [
       "'Standard Deviation'"
      ],
      "text/markdown": [
       "'Standard Deviation'"
      ],
      "text/plain": [
       "[1] \"Standard Deviation\""
      ]
     },
     "metadata": {},
     "output_type": "display_data"
    },
    {
     "name": "stdout",
     "output_type": "stream",
     "text": [
      "[1] 1098.128\n"
     ]
    },
    {
     "data": {
      "text/html": [
       "'Inter-Quartile range'"
      ],
      "text/latex": [
       "'Inter-Quartile range'"
      ],
      "text/markdown": [
       "'Inter-Quartile range'"
      ],
      "text/plain": [
       "[1] \"Inter-Quartile range\""
      ]
     },
     "metadata": {},
     "output_type": "display_data"
    },
    {
     "name": "stdout",
     "output_type": "stream",
     "text": [
      "[1] 1680\n"
     ]
    }
   ],
   "source": [
    "'6-number summary'\n",
    "summary(data_0601$DischargeM)\n",
    "'Trimmed mean'\n",
    "print(mean(data_0601$DischargeM, trimmed = 0.1))\n",
    "'Standard Deviation'\n",
    "print(sd(summary(data_0601$DischargeM)))\n",
    "'Inter-Quartile range'\n",
    "print(IQR(data_0601$DischargeM))"
   ]
  },
  {
   "cell_type": "markdown",
   "metadata": {},
   "source": [
    "### June 15"
   ]
  },
  {
   "cell_type": "code",
   "execution_count": 19,
   "metadata": {},
   "outputs": [
    {
     "data": {
      "text/html": [
       "'6-number summary'"
      ],
      "text/latex": [
       "'6-number summary'"
      ],
      "text/markdown": [
       "'6-number summary'"
      ],
      "text/plain": [
       "[1] \"6-number summary\""
      ]
     },
     "metadata": {},
     "output_type": "display_data"
    },
    {
     "data": {
      "text/plain": [
       "   Min. 1st Qu.  Median    Mean 3rd Qu.    Max. \n",
       "    657    1240    1480    2098    1850    5480 "
      ]
     },
     "metadata": {},
     "output_type": "display_data"
    },
    {
     "data": {
      "text/html": [
       "'Trimmed mean'"
      ],
      "text/latex": [
       "'Trimmed mean'"
      ],
      "text/markdown": [
       "'Trimmed mean'"
      ],
      "text/plain": [
       "[1] \"Trimmed mean\""
      ]
     },
     "metadata": {},
     "output_type": "display_data"
    },
    {
     "name": "stdout",
     "output_type": "stream",
     "text": [
      "[1] 2097.706\n"
     ]
    },
    {
     "data": {
      "text/html": [
       "'Standard Deviation'"
      ],
      "text/latex": [
       "'Standard Deviation'"
      ],
      "text/markdown": [
       "'Standard Deviation'"
      ],
      "text/plain": [
       "[1] \"Standard Deviation\""
      ]
     },
     "metadata": {},
     "output_type": "display_data"
    },
    {
     "name": "stdout",
     "output_type": "stream",
     "text": [
      "[1] 1713.836\n"
     ]
    },
    {
     "data": {
      "text/html": [
       "'Inter-Quartile range'"
      ],
      "text/latex": [
       "'Inter-Quartile range'"
      ],
      "text/markdown": [
       "'Inter-Quartile range'"
      ],
      "text/plain": [
       "[1] \"Inter-Quartile range\""
      ]
     },
     "metadata": {},
     "output_type": "display_data"
    },
    {
     "name": "stdout",
     "output_type": "stream",
     "text": [
      "[1] 610\n"
     ]
    }
   ],
   "source": [
    "'6-number summary'\n",
    "summary(data_0615$DischargeM)\n",
    "'Trimmed mean'\n",
    "print(mean(data_0615$DischargeM, trimmed = 0.1))\n",
    "'Standard Deviation'\n",
    "print(sd(summary(data_0615$DischargeM)))\n",
    "'Inter-Quartile range'\n",
    "print(IQR(data_0615$DischargeM))"
   ]
  },
  {
   "cell_type": "markdown",
   "metadata": {},
   "source": [
    "### June 30"
   ]
  },
  {
   "cell_type": "code",
   "execution_count": 20,
   "metadata": {},
   "outputs": [
    {
     "data": {
      "text/html": [
       "'6-number summary'"
      ],
      "text/latex": [
       "'6-number summary'"
      ],
      "text/markdown": [
       "'6-number summary'"
      ],
      "text/plain": [
       "[1] \"6-number summary\""
      ]
     },
     "metadata": {},
     "output_type": "display_data"
    },
    {
     "data": {
      "text/plain": [
       "   Min. 1st Qu.  Median    Mean 3rd Qu.    Max. \n",
       "    152     379    1310    1312    1562    3100 "
      ]
     },
     "metadata": {},
     "output_type": "display_data"
    },
    {
     "data": {
      "text/html": [
       "'Trimmed mean'"
      ],
      "text/latex": [
       "'Trimmed mean'"
      ],
      "text/markdown": [
       "'Trimmed mean'"
      ],
      "text/plain": [
       "[1] \"Trimmed mean\""
      ]
     },
     "metadata": {},
     "output_type": "display_data"
    },
    {
     "name": "stdout",
     "output_type": "stream",
     "text": [
      "[1] 1311.509\n"
     ]
    },
    {
     "data": {
      "text/html": [
       "'Standard Deviation'"
      ],
      "text/latex": [
       "'Standard Deviation'"
      ],
      "text/markdown": [
       "'Standard Deviation'"
      ],
      "text/plain": [
       "[1] \"Standard Deviation\""
      ]
     },
     "metadata": {},
     "output_type": "display_data"
    },
    {
     "name": "stdout",
     "output_type": "stream",
     "text": [
      "[1] 1046.446\n"
     ]
    },
    {
     "data": {
      "text/html": [
       "'Inter-Quartile range'"
      ],
      "text/latex": [
       "'Inter-Quartile range'"
      ],
      "text/markdown": [
       "'Inter-Quartile range'"
      ],
      "text/plain": [
       "[1] \"Inter-Quartile range\""
      ]
     },
     "metadata": {},
     "output_type": "display_data"
    },
    {
     "name": "stdout",
     "output_type": "stream",
     "text": [
      "[1] 1183.5\n"
     ]
    }
   ],
   "source": [
    "'6-number summary'\n",
    "summary(data_0630$DischargeM)\n",
    "'Trimmed mean'\n",
    "print(mean(data_0630$DischargeM, trimmed = 0.1))\n",
    "'Standard Deviation'\n",
    "print(sd(summary(data_0630$DischargeM)))\n",
    "'Inter-Quartile range'\n",
    "print(IQR(data_0630$DischargeM))"
   ]
  },
  {
   "cell_type": "markdown",
   "metadata": {},
   "source": [
    "## 5 & 6. Density histogram and potential probability model for Wise River's discharge on 04/10/2018"
   ]
  },
  {
   "cell_type": "markdown",
   "metadata": {},
   "source": [
    "### Load data and Overview of data"
   ]
  },
  {
   "cell_type": "code",
   "execution_count": 13,
   "metadata": {},
   "outputs": [],
   "source": [
    "data_p5 <- read_excel('Wise_041018.xlsx')"
   ]
  },
  {
   "cell_type": "code",
   "execution_count": 14,
   "metadata": {},
   "outputs": [
    {
     "name": "stdout",
     "output_type": "stream",
     "text": [
      "Classes 'tbl_df', 'tbl' and 'data.frame':\t96 obs. of  3 variables:\n",
      " $ Date      : POSIXct, format: \"2018-04-10\" \"2018-04-10\" ...\n",
      " $ Time      : chr  \"00:00:00\" \"00:15:00\" \"00:30:00\" \"00:45:00\" ...\n",
      " $ DischargeW: num  1480 1450 1430 1410 1390 1370 1360 1350 1350 1350 ...\n"
     ]
    }
   ],
   "source": [
    "str(data_p5)"
   ]
  },
  {
   "cell_type": "code",
   "execution_count": 15,
   "metadata": {},
   "outputs": [],
   "source": [
    "data_p5$Date = as.Date(data_p5$Date, \"%Y-%m-%d\")\n",
    "data_p5$Time = times(data_p5$Time)"
   ]
  },
  {
   "cell_type": "code",
   "execution_count": 16,
   "metadata": {},
   "outputs": [
    {
     "name": "stdout",
     "output_type": "stream",
     "text": [
      "Classes 'tbl_df', 'tbl' and 'data.frame':\t96 obs. of  3 variables:\n",
      " $ Date      : Date, format: \"2018-04-10\" \"2018-04-10\" ...\n",
      " $ Time      : 'times' num  00:00:00 00:15:00 00:30:00 00:45:00 01:00:00 ...\n",
      "  ..- attr(*, \"format\")= chr \"h:m:s\"\n",
      " $ DischargeW: num  1480 1450 1430 1410 1390 1370 1360 1350 1350 1350 ...\n"
     ]
    }
   ],
   "source": [
    "str(data_p5)"
   ]
  },
  {
   "cell_type": "markdown",
   "metadata": {},
   "source": [
    "### Histogram"
   ]
  },
  {
   "cell_type": "code",
   "execution_count": 17,
   "metadata": {},
   "outputs": [
    {
     "data": {
      "image/png": "[encoded data removed]",
      "text/plain": [
       "Plot with title \"Wise River, 04/10/2018\""
      ]
     },
     "metadata": {},
     "output_type": "display_data"
    }
   ],
   "source": [
    "hist(data_p5$DischargeW, prob = T, main = 'Wise River, 04/10/2018', xlab = 'Discharge (cfs)')\n",
    "lines(density(data_p5$DischargeW), add=T)"
   ]
  },
  {
   "cell_type": "markdown",
   "metadata": {},
   "source": [
    "#### Histogram has a long tail on the right\n",
    "#### => A potential probability model that might be used to model Wise River's discharge for 04/10/2017 is a Gamma Model."
   ]
  },
  {
   "cell_type": "markdown",
   "metadata": {},
   "source": [
    "## 7. fitdistrplus"
   ]
  },
  {
   "cell_type": "markdown",
   "metadata": {},
   "source": [
    "#### Try gamma model"
   ]
  },
  {
   "cell_type": "code",
   "execution_count": 27,
   "metadata": {},
   "outputs": [],
   "source": [
    "fit_gamma <- fitdist(data_p5$DischargeW, \"gamma\")"
   ]
  },
  {
   "cell_type": "code",
   "execution_count": 29,
   "metadata": {},
   "outputs": [
    {
     "data": {
      "text/plain": [
       "Fitting of the distribution ' gamma ' by maximum likelihood \n",
       "Parameters:\n",
       "         estimate  Std. Error\n",
       "shape 495.7514678 71.12390037\n",
       "rate    0.3417788  0.04905825"
      ]
     },
     "metadata": {},
     "output_type": "display_data"
    }
   ],
   "source": [
    "fit_gamma"
   ]
  },
  {
   "cell_type": "code",
   "execution_count": 30,
   "metadata": {},
   "outputs": [
    {
     "data": {
      "image/png": "[encoded data removed]",
      "text/plain": [
       "Plot with title \"P-P plot\""
      ]
     },
     "metadata": {},
     "output_type": "display_data"
    }
   ],
   "source": [
    "plot(fit_gamma)"
   ]
  },
  {
   "cell_type": "markdown",
   "metadata": {},
   "source": [
    "## 8. 04/10/2017"
   ]
  },
  {
   "cell_type": "markdown",
   "metadata": {},
   "source": [
    "##### I don't believe the model for 04/10/2018 can be used for 04/10/2017, because data on a single day does not necessararily resemble data on the same day next year. Only the general trend over a relatively long period of time should stay similar."
   ]
  },
  {
   "cell_type": "code",
   "execution_count": 38,
   "metadata": {},
   "outputs": [],
   "source": [
    "data_p8 = subset(data, Date == \"2017-04-10\")"
   ]
  },
  {
   "cell_type": "code",
   "execution_count": 39,
   "metadata": {},
   "outputs": [
    {
     "name": "stdout",
     "output_type": "stream",
     "text": [
      "Classes 'tbl_df', 'tbl' and 'data.frame':\t96 obs. of  4 variables:\n",
      " $ Date      : Date, format: \"2017-04-10\" \"2017-04-10\" ...\n",
      " $ Time      : 'times' num  00:00:00 00:15:00 00:30:00 00:45:00 01:00:00 ...\n",
      "  ..- attr(*, \"format\")= chr \"h:m:s\"\n",
      " $ DischargeM: num  886 886 886 886 875 875 875 875 875 864 ...\n",
      " $ DischargeW: num  1320 1320 1320 1320 1310 1310 1310 1310 1300 1310 ...\n"
     ]
    }
   ],
   "source": [
    "str(data_p8)"
   ]
  },
  {
   "cell_type": "code",
   "execution_count": 40,
   "metadata": {},
   "outputs": [
    {
     "data": {
      "image/png": "[encoded data removed]",
      "text/plain": [
       "Plot with title \"Wise River, 04/10/2017\""
      ]
     },
     "metadata": {},
     "output_type": "display_data"
    }
   ],
   "source": [
    "hist(data_p8$DischargeW, prob = T, main = 'Wise River, 04/10/2017', xlab = 'Discharge (cfs)')\n",
    "lines(density(data_p8$DischargeW), add=T)"
   ]
  },
  {
   "cell_type": "markdown",
   "metadata": {},
   "source": [
    "##### The distribution for 04/10/2017 looks like a Bimodal distribution."
   ]
  },
  {
   "cell_type": "markdown",
   "metadata": {},
   "source": [
    "## 9. DischargeM and DischargeW"
   ]
  },
  {
   "cell_type": "markdown",
   "metadata": {},
   "source": [
    "### (9a) Smoothed Scatterplot"
   ]
  },
  {
   "cell_type": "markdown",
   "metadata": {},
   "source": [
    "#### Loess"
   ]
  },
  {
   "cell_type": "code",
   "execution_count": 30,
   "metadata": {},
   "outputs": [],
   "source": [
    "data_loess <- loess(data$DischargeM ~ data$DischargeW)"
   ]
  },
  {
   "cell_type": "code",
   "execution_count": 34,
   "metadata": {},
   "outputs": [
    {
     "data": {
      "image/png": "[encoded data removed]",
      "text/plain": [
       "Plot with title \"Smoothed Scatterplot (loess) of DischargeM versus DischargeW\""
      ]
     },
     "metadata": {},
     "output_type": "display_data"
    }
   ],
   "source": [
    "plot(data_loess, xlab = \"Wise River's discharge (cfs)\",\n",
    "     ylab = \"Mudd Creek's discharge (cfs)\",\n",
    "     main = \"Smoothed Scatterplot (loess) of DischargeM versus DischargeW\"\n",
    "    )"
   ]
  },
  {
   "cell_type": "markdown",
   "metadata": {},
   "source": [
    "### (9b) Correlation"
   ]
  },
  {
   "cell_type": "code",
   "execution_count": 42,
   "metadata": {},
   "outputs": [
    {
     "data": {
      "text/html": [
       "0.994767545384271"
      ],
      "text/latex": [
       "0.994767545384271"
      ],
      "text/markdown": [
       "0.994767545384271"
      ],
      "text/plain": [
       "[1] 0.9947675"
      ]
     },
     "metadata": {},
     "output_type": "display_data"
    }
   ],
   "source": [
    "cor(data$DischargeW, data$DischargeM)"
   ]
  },
  {
   "cell_type": "markdown",
   "metadata": {},
   "source": [
    "### (9c) hexbin plot"
   ]
  },
  {
   "cell_type": "code",
   "execution_count": 65,
   "metadata": {},
   "outputs": [
    {
     "data": {},
     "metadata": {},
     "output_type": "display_data"
    },
    {
     "data": {
      "image/png": "[encoded data removed]",
      "text/plain": [
       "plot without title"
      ]
     },
     "metadata": {},
     "output_type": "display_data"
    }
   ],
   "source": [
    "d <- ggplot(data, aes(data$DischargeW, data$DischargeM))\n",
    "d + geom_hex(binwidth = c(150, 120)) +\n",
    "xlab(\"Wise River's discharge (cfs)\") +\n",
    "ylab(\"Mudd Creek's discharge (cfs)\") +\n",
    "ggtitle(\"Hexbin plot of DischargeM versus DischargeW\") + theme(plot.title = element_text(hjust = 0.5))"
   ]
  },
  {
   "cell_type": "markdown",
   "metadata": {},
   "source": [
    "### (9d) Least squares"
   ]
  },
  {
   "cell_type": "markdown",
   "metadata": {},
   "source": [
    "#### Find least squares line"
   ]
  },
  {
   "cell_type": "code",
   "execution_count": 85,
   "metadata": {},
   "outputs": [
    {
     "name": "stdout",
     "output_type": "stream",
     "text": [
      "Residual Standard Error=112.6926\n",
      "R-Square=0.9896\n",
      "F-statistic (df=1, 124739)=11826268\n",
      "p-value=0\n",
      "\n",
      "          Estimate Std.Err   t-value Pr(>|t|)\n",
      "Intercept -36.7770  0.4175  -88.0899        0\n",
      "X           0.7424  0.0002 3438.9341        0\n",
      "\n",
      "\n"
     ]
    }
   ],
   "source": [
    "leastSquares <- lsfit(data$DischargeW, data$DischargeM)\n",
    "ls.print(leastSquares)"
   ]
  },
  {
   "cell_type": "markdown",
   "metadata": {},
   "source": [
    "#### Plot"
   ]
  },
  {
   "cell_type": "code",
   "execution_count": 99,
   "metadata": {},
   "outputs": [
    {
     "data": {
      "image/png": "[encoded data removed]",
      "text/plain": [
       "Plot with title \"Scatterplot of DischargeM versus DischargeW\""
      ]
     },
     "metadata": {},
     "output_type": "display_data"
    }
   ],
   "source": [
    "plot(data$DischargeM ~ data$DischargeW, col = rgb(red = 0, green = 0, blue = 0, alpha = 0.1),\n",
    "     xlab = \"Wise River's discharge (cfs)\",\n",
    "     ylab = \"Mudd Creek's discharge (cfs)\",\n",
    "     main = \"Scatterplot of DischargeM versus DischargeW\")\n",
    "abline(reg = leastSquares, col = \"red\", lwd = 5)\n",
    "text(5000, 6000, expression(y == 0.7424 * x - 36.777))\n",
    "text(4400, 5600, expression(R^2 == 0.9896))"
   ]
  },
  {
   "cell_type": "markdown",
   "metadata": {},
   "source": [
    "##### When discharge at Wise River is 4000 cfs, discharge at Mudd Creek is 0.7424*4000 - 36.777 = _2932_ (cfs)"
   ]
  },
  {
   "cell_type": "markdown",
   "metadata": {},
   "source": [
    "### (9e) Plot by month"
   ]
  },
  {
   "cell_type": "markdown",
   "metadata": {},
   "source": [
    "#### Create \"Month\" column for color code"
   ]
  },
  {
   "cell_type": "code",
   "execution_count": 105,
   "metadata": {},
   "outputs": [],
   "source": [
    "data$Month <- format(data$Date, \"%m\")"
   ]
  },
  {
   "cell_type": "markdown",
   "metadata": {},
   "source": [
    "#### Plot"
   ]
  },
  {
   "cell_type": "code",
   "execution_count": 111,
   "metadata": {},
   "outputs": [
    {
     "data": {},
     "metadata": {},
     "output_type": "display_data"
    },
    {
     "data": {
      "image/png": "[encoded data removed]",
      "text/plain": [
       "plot without title"
      ]
     },
     "metadata": {},
     "output_type": "display_data"
    }
   ],
   "source": [
    "ggplot(data, aes(x = DischargeW, y = DischargeM, color = Month)) + geom_point(alpha = 0.2) +\n",
    "xlab(\"Wise River discharge (cfs)\") +\n",
    "ylab(\"Mudd Creek discharge (cfs)\") +\n",
    "ggtitle(\"Discharge by month\") + theme(plot.title = element_text(hjust = 0.5))"
   ]
  },
  {
   "cell_type": "markdown",
   "metadata": {},
   "source": [
    "# End of Lab 3"
   ]
  }
 ],
 "metadata": {
  "kernelspec": {
   "display_name": "R",
   "language": "R",
   "name": "ir"
  },
  "language_info": {
   "codemirror_mode": "r",
   "file_extension": ".r",
   "mimetype": "text/x-r-source",
   "name": "R",
   "pygments_lexer": "r",
   "version": "3.5.1"
  }
 },
 "nbformat": 4,
 "nbformat_minor": 2
}
