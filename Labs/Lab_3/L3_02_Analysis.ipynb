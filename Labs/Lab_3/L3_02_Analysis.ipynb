{
 "cells": [
  {
   "cell_type": "markdown",
   "metadata": {},
   "source": [
    "# Data Analysis"
   ]
  },
  {
   "cell_type": "code",
   "execution_count": 4,
   "metadata": {},
   "outputs": [
    {
     "ename": "ERROR",
     "evalue": "Error in library(readxl): there is no package called 'readxl'\n",
     "output_type": "error",
     "traceback": [
      "Error in library(readxl): there is no package called 'readxl'\nTraceback:\n",
      "1. library(readxl)",
      "2. stop(txt, domain = NA)"
     ]
    }
   ],
   "source": [
    "library(readxl)\n",
    "library(dplyr)\n",
    "library(chron)\n",
    "library(fitdistrplus)\n",
    "options(warn = -1)"
   ]
  },
  {
   "cell_type": "markdown",
   "metadata": {},
   "source": [
    "## 3. Graphical Analysis of discharge for June 1, June 15, and June 30"
   ]
  },
  {
   "cell_type": "markdown",
   "metadata": {},
   "source": [
    "#### Import data and Overview of data"
   ]
  },
  {
   "cell_type": "code",
   "execution_count": 4,
   "metadata": {},
   "outputs": [],
   "source": [
    "data <- read_excel('data.xlsx')"
   ]
  },
  {
   "cell_type": "code",
   "execution_count": 6,
   "metadata": {},
   "outputs": [
    {
     "name": "stdout",
     "output_type": "stream",
     "text": [
      "Classes 'tbl_df', 'tbl' and 'data.frame':\t124741 obs. of  4 variables:\n",
      " $ Date      : POSIXct, format: \"2009-08-07\" \"2009-08-07\" ...\n",
      " $ Time      : chr  \"00:15:00\" \"00:30:00\" \"00:45:00\" \"01:00:00\" ...\n",
      " $ DischargeM: num  210 210 215 215 219 219 224 224 224 229 ...\n",
      " $ DischargeW: num  365 365 371 371 378 384 384 384 390 390 ...\n"
     ]
    }
   ],
   "source": [
    "str(data)"
   ]
  },
  {
   "cell_type": "markdown",
   "metadata": {},
   "source": [
    "#### Convert Date and Time to Date and Time format"
   ]
  },
  {
   "cell_type": "code",
   "execution_count": 134,
   "metadata": {},
   "outputs": [
    {
     "data": {
      "text/html": [
       "<table>\n",
       "<thead><tr><th scope=col>Date</th><th scope=col>Time</th><th scope=col>DischargeM</th><th scope=col>DischargeW</th></tr></thead>\n",
       "<tbody>\n",
       "\t<tr><td>2009-08-07</td><td>00:15:00  </td><td>210       </td><td>365       </td></tr>\n",
       "\t<tr><td>2009-08-07</td><td>00:30:00  </td><td>210       </td><td>365       </td></tr>\n",
       "\t<tr><td>2009-08-07</td><td>00:45:00  </td><td>215       </td><td>371       </td></tr>\n",
       "\t<tr><td>2009-08-07</td><td>01:00:00  </td><td>215       </td><td>371       </td></tr>\n",
       "\t<tr><td>2009-08-07</td><td>01:15:00  </td><td>219       </td><td>378       </td></tr>\n",
       "\t<tr><td>2009-08-07</td><td>01:30:00  </td><td>219       </td><td>384       </td></tr>\n",
       "</tbody>\n",
       "</table>\n"
      ],
      "text/latex": [
       "\\begin{tabular}{r|llll}\n",
       " Date & Time & DischargeM & DischargeW\\\\\n",
       "\\hline\n",
       "\t 2009-08-07 & 00:15:00   & 210        & 365       \\\\\n",
       "\t 2009-08-07 & 00:30:00   & 210        & 365       \\\\\n",
       "\t 2009-08-07 & 00:45:00   & 215        & 371       \\\\\n",
       "\t 2009-08-07 & 01:00:00   & 215        & 371       \\\\\n",
       "\t 2009-08-07 & 01:15:00   & 219        & 378       \\\\\n",
       "\t 2009-08-07 & 01:30:00   & 219        & 384       \\\\\n",
       "\\end{tabular}\n"
      ],
      "text/markdown": [
       "\n",
       "Date | Time | DischargeM | DischargeW | \n",
       "|---|---|---|---|---|---|\n",
       "| 2009-08-07 | 00:15:00   | 210        | 365        | \n",
       "| 2009-08-07 | 00:30:00   | 210        | 365        | \n",
       "| 2009-08-07 | 00:45:00   | 215        | 371        | \n",
       "| 2009-08-07 | 01:00:00   | 215        | 371        | \n",
       "| 2009-08-07 | 01:15:00   | 219        | 378        | \n",
       "| 2009-08-07 | 01:30:00   | 219        | 384        | \n",
       "\n",
       "\n"
      ],
      "text/plain": [
       "  Date       Time     DischargeM DischargeW\n",
       "1 2009-08-07 00:15:00 210        365       \n",
       "2 2009-08-07 00:30:00 210        365       \n",
       "3 2009-08-07 00:45:00 215        371       \n",
       "4 2009-08-07 01:00:00 215        371       \n",
       "5 2009-08-07 01:15:00 219        378       \n",
       "6 2009-08-07 01:30:00 219        384       "
      ]
     },
     "metadata": {},
     "output_type": "display_data"
    }
   ],
   "source": [
    "data$Date <- as.Date(data$Date)\n",
    "\n",
    "data$Time <- times(data$Time)\n",
    "\n",
    "head(data)"
   ]
  },
  {
   "cell_type": "markdown",
   "metadata": {},
   "source": [
    "#### Subset only necessary data"
   ]
  },
  {
   "cell_type": "code",
   "execution_count": 133,
   "metadata": {},
   "outputs": [],
   "source": [
    "data_0601 = subset(data, format(Date, \"%m-%d\") == \"06-01\")\n",
    "\n",
    "data_0615 = subset(data, format(Date, \"%m-%d\") == \"06-15\")\n",
    "\n",
    "data_0630 = subset(data, format(Date, \"%m-%d\") == \"06-30\")"
   ]
  },
  {
   "cell_type": "markdown",
   "metadata": {},
   "source": [
    "### (3a) Density histogram"
   ]
  },
  {
   "cell_type": "markdown",
   "metadata": {},
   "source": [
    "#### Mudd Creek"
   ]
  },
  {
   "cell_type": "code",
   "execution_count": 135,
   "metadata": {},
   "outputs": [
    {
     "data": {
      "image/png": "[encoded data removed]",
      "text/plain": [
       "Plot with title \"Mudd Creek, 06/30\""
      ]
     },
     "metadata": {},
     "output_type": "display_data"
    }
   ],
   "source": [
    "par(mfrow=c(3,1))\n",
    "\n",
    "hist(data_0601$DischargeM, main = \"Mudd Creek, 06/01\", xlab = \"Discharge (cfs)\", prob=T)\n",
    "lines(density(data_0601$DischargeM), add=T)\n",
    "\n",
    "hist(data_0615$DischargeM, main = \"Mudd Creek, 06/15\", xlab = \"Discharge (cfs)\", prob = T)\n",
    "lines(density(data_0615$DischargeM), add=T)\n",
    "\n",
    "hist(data_0630$DischargeM, main = \"Mudd Creek, 06/30\", xlab = \"Discharge (cfs)\", prob = T)\n",
    "lines(density(data_0630$DischargeM), add=T)"
   ]
  },
  {
   "cell_type": "code",
   "execution_count": 91,
   "metadata": {},
   "outputs": [
    {
     "data": {
      "text/html": [
       "'June 1'"
      ],
      "text/latex": [
       "'June 1'"
      ],
      "text/markdown": [
       "'June 1'"
      ],
      "text/plain": [
       "[1] \"June 1\""
      ]
     },
     "metadata": {},
     "output_type": "display_data"
    },
    {
     "data": {
      "text/plain": [
       "   Min. 1st Qu.  Median    Mean 3rd Qu.    Max. \n",
       "    843    1120    1900    2069    2800    3820 "
      ]
     },
     "metadata": {},
     "output_type": "display_data"
    },
    {
     "data": {
      "text/html": [
       "'June 15'"
      ],
      "text/latex": [
       "'June 15'"
      ],
      "text/markdown": [
       "'June 15'"
      ],
      "text/plain": [
       "[1] \"June 15\""
      ]
     },
     "metadata": {},
     "output_type": "display_data"
    },
    {
     "data": {
      "text/plain": [
       "   Min. 1st Qu.  Median    Mean 3rd Qu.    Max. \n",
       "    657    1240    1480    2098    1850    5480 "
      ]
     },
     "metadata": {},
     "output_type": "display_data"
    },
    {
     "data": {
      "text/html": [
       "'June 30'"
      ],
      "text/latex": [
       "'June 30'"
      ],
      "text/markdown": [
       "'June 30'"
      ],
      "text/plain": [
       "[1] \"June 30\""
      ]
     },
     "metadata": {},
     "output_type": "display_data"
    },
    {
     "data": {
      "text/plain": [
       "   Min. 1st Qu.  Median    Mean 3rd Qu.    Max. \n",
       "    152     379    1310    1312    1562    3100 "
      ]
     },
     "metadata": {},
     "output_type": "display_data"
    }
   ],
   "source": [
    "'June 1'\n",
    "summary(data_0601$DischargeM)\n",
    "'June 15'\n",
    "summary(data_0615$DischargeM)\n",
    "'June 30'\n",
    "summary(data_0630$DischargeM)"
   ]
  },
  {
   "cell_type": "markdown",
   "metadata": {},
   "source": [
    "#### Mudd Creek:\n",
    "##### - On average, discharge during early- to mid-June is bigger than during late-June\n",
    "##### - There are a lot of gaps in the data, distributed unevenly across these 3 dates\n",
    "##### - For June 15, Mean discharge is significantly bigger than Median discharge"
   ]
  },
  {
   "cell_type": "markdown",
   "metadata": {},
   "source": [
    "#### Wise River"
   ]
  },
  {
   "cell_type": "code",
   "execution_count": 131,
   "metadata": {},
   "outputs": [
    {
     "data": {
      "image/png": "[encoded data removed]",
      "text/plain": [
       "Plot with title \"Wise River, 06/30\""
      ]
     },
     "metadata": {},
     "output_type": "display_data"
    }
   ],
   "source": [
    "par(mfrow=c(3,1))\n",
    "\n",
    "hist(data_0601$DischargeW, main = \"Wise River, 06/01\", xlab = \"Discharge (cfs)\", prob=T)\n",
    "lines(density(data_0601$DischargeW), add=T)\n",
    "\n",
    "hist(data_0615$DischargeW, main = \"Wise River, 06/15\", xlab = \"Discharge (cfs)\", prob=T)\n",
    "lines(density(data_0615$DischargeW), add=T)\n",
    "\n",
    "hist(data_0630$DischargeW, main = \"Wise River, 06/30\", xlab = \"Discharge (cfs)\", prob=T)\n",
    "lines(density(data_0630$DischargeW), add=T)"
   ]
  },
  {
   "cell_type": "code",
   "execution_count": 92,
   "metadata": {},
   "outputs": [
    {
     "data": {
      "text/html": [
       "'June 1'"
      ],
      "text/latex": [
       "'June 1'"
      ],
      "text/markdown": [
       "'June 1'"
      ],
      "text/plain": [
       "[1] \"June 1\""
      ]
     },
     "metadata": {},
     "output_type": "display_data"
    },
    {
     "data": {
      "text/plain": [
       "   Min. 1st Qu.  Median    Mean 3rd Qu.    Max. \n",
       "   1410    1610    2505    2904    4480    5060 "
      ]
     },
     "metadata": {},
     "output_type": "display_data"
    },
    {
     "data": {
      "text/html": [
       "'June 15'"
      ],
      "text/latex": [
       "'June 15'"
      ],
      "text/markdown": [
       "'June 15'"
      ],
      "text/plain": [
       "[1] \"June 15\""
      ]
     },
     "metadata": {},
     "output_type": "display_data"
    },
    {
     "data": {
      "text/plain": [
       "   Min. 1st Qu.  Median    Mean 3rd Qu.    Max. \n",
       "   1290    1745    2220    3003    2855    7330 "
      ]
     },
     "metadata": {},
     "output_type": "display_data"
    },
    {
     "data": {
      "text/html": [
       "'June 30'"
      ],
      "text/latex": [
       "'June 30'"
      ],
      "text/markdown": [
       "'June 30'"
      ],
      "text/plain": [
       "[1] \"June 30\""
      ]
     },
     "metadata": {},
     "output_type": "display_data"
    },
    {
     "data": {
      "text/plain": [
       "   Min. 1st Qu.  Median    Mean 3rd Qu.    Max. \n",
       "    429     654    1935    2035    2560    4790 "
      ]
     },
     "metadata": {},
     "output_type": "display_data"
    }
   ],
   "source": [
    "'June 1'\n",
    "summary(data_0601$DischargeW)\n",
    "'June 15'\n",
    "summary(data_0615$DischargeW)\n",
    "'June 30'\n",
    "summary(data_0630$DischargeW)"
   ]
  },
  {
   "cell_type": "markdown",
   "metadata": {},
   "source": [
    "#### Wise River\n",
    "##### - On average, discharge during early- to mid-June is bigger than during late-June\n",
    "##### - There are a lot of gaps in the data, distributed unevenly across these 3 dates\n",
    "##### - For June 15, Mean discharge is significantly bigger than Median discharge"
   ]
  },
  {
   "cell_type": "markdown",
   "metadata": {},
   "source": [
    "### (3b) Outlier boxplot"
   ]
  },
  {
   "cell_type": "code",
   "execution_count": 136,
   "metadata": {},
   "outputs": [
    {
     "data": {
      "image/png": "[encoded data removed]",
      "text/plain": [
       "Plot with title \"Mudd Creek, 06/30\""
      ]
     },
     "metadata": {},
     "output_type": "display_data"
    }
   ],
   "source": [
    "par(mfrow=c(3,1))\n",
    "\n",
    "boxplot(data_0601$DischargeM, horizontal = T, main = \"Mudd Creek, 06/01\", xlab = \"Discharge (cfs)\")\n",
    "\n",
    "boxplot(data_0615$DischargeM, horizontal = T, main = \"Mudd Creek, 06/15\", xlab = \"Discharge (cfs)\")\n",
    "\n",
    "boxplot(data_0630$DischargeM, horizontal = T, main = \"Mudd Creek, 06/30\", xlab = \"Discharge (cfs)\")"
   ]
  },
  {
   "cell_type": "markdown",
   "metadata": {},
   "source": [
    "#### Mudd Creek\n",
    "##### There are tens of extreme outliers on June 15. This is why the Mean is significantly bigger than the Median"
   ]
  },
  {
   "cell_type": "code",
   "execution_count": 137,
   "metadata": {},
   "outputs": [
    {
     "data": {
      "image/png": "[encoded data removed]",
      "text/plain": [
       "Plot with title \"Wise River, 06/30\""
      ]
     },
     "metadata": {},
     "output_type": "display_data"
    }
   ],
   "source": [
    "par(mfrow=c(3,1))\n",
    "\n",
    "boxplot(data_0601$DischargeW, horizontal = T, main = \"Wise River, 06/01\", xlab = \"Discharge (cfs)\")\n",
    "\n",
    "boxplot(data_0615$DischargeW, horizontal = T, main = \"Wise River, 06/15\", xlab = \"Discharge (cfs)\")\n",
    "\n",
    "boxplot(data_0630$DischargeW, horizontal = T, main = \"Wise River, 06/30\", xlab = \"Discharge (cfs)\")"
   ]
  },
  {
   "cell_type": "markdown",
   "metadata": {},
   "source": [
    "#### Wise River\n",
    "##### There are tens of extreme outliers on June 15. This is why the Mean is significantly bigger than the Median"
   ]
  },
  {
   "cell_type": "markdown",
   "metadata": {},
   "source": [
    "### (3c) Normal plot"
   ]
  },
  {
   "cell_type": "code",
   "execution_count": 138,
   "metadata": {},
   "outputs": [
    {
     "data": {
      "image/png": "[encoded data removed]",
      "text/plain": [
       "Plot with title \"Normal Q-Q Plot\""
      ]
     },
     "metadata": {},
     "output_type": "display_data"
    }
   ],
   "source": [
    "par(mfrow = c(3,1))\n",
    "\n",
    "qqnorm(data_0601$DischargeM)\n",
    "\n",
    "qqnorm(data_0615$DischargeM)\n",
    "\n",
    "qqnorm(data_0630$DischargeM)"
   ]
  },
  {
   "cell_type": "markdown",
   "metadata": {},
   "source": [
    "#### Mudd Creek\n",
    "##### - Does not pass fat pencil test => NOT normal."
   ]
  },
  {
   "cell_type": "code",
   "execution_count": 139,
   "metadata": {},
   "outputs": [
    {
     "data": {
      "image/png": "[encoded data removed]",
      "text/plain": [
       "Plot with title \"Normal Q-Q Plot\""
      ]
     },
     "metadata": {},
     "output_type": "display_data"
    }
   ],
   "source": [
    "par(mfrow = c(3,1))\n",
    "\n",
    "qqnorm(data_0601$DischargeW)\n",
    "\n",
    "qqnorm(data_0615$DischargeW)\n",
    "\n",
    "qqnorm(data_0630$DischargeW)"
   ]
  },
  {
   "cell_type": "markdown",
   "metadata": {},
   "source": [
    "#### Wise River\n",
    "##### Does not pass fat pencil test => NOT normal."
   ]
  },
  {
   "cell_type": "markdown",
   "metadata": {},
   "source": [
    "## 4. Basic summary statistics"
   ]
  },
  {
   "cell_type": "markdown",
   "metadata": {},
   "source": [
    "### Mudd Creek"
   ]
  },
  {
   "cell_type": "markdown",
   "metadata": {},
   "source": [
    "#### June 1"
   ]
  },
  {
   "cell_type": "code",
   "execution_count": 103,
   "metadata": {},
   "outputs": [
    {
     "data": {
      "text/html": [
       "'6-number summary'"
      ],
      "text/latex": [
       "'6-number summary'"
      ],
      "text/markdown": [
       "'6-number summary'"
      ],
      "text/plain": [
       "[1] \"6-number summary\""
      ]
     },
     "metadata": {},
     "output_type": "display_data"
    },
    {
     "data": {
      "text/plain": [
       "   Min. 1st Qu.  Median    Mean 3rd Qu.    Max. \n",
       "    843    1120    1900    2069    2800    3820 "
      ]
     },
     "metadata": {},
     "output_type": "display_data"
    },
    {
     "data": {
      "text/html": [
       "'Trimmed mean'"
      ],
      "text/latex": [
       "'Trimmed mean'"
      ],
      "text/markdown": [
       "'Trimmed mean'"
      ],
      "text/plain": [
       "[1] \"Trimmed mean\""
      ]
     },
     "metadata": {},
     "output_type": "display_data"
    },
    {
     "name": "stdout",
     "output_type": "stream",
     "text": [
      "[1] 2069.095\n"
     ]
    },
    {
     "data": {
      "text/html": [
       "'Standard Deviation'"
      ],
      "text/latex": [
       "'Standard Deviation'"
      ],
      "text/markdown": [
       "'Standard Deviation'"
      ],
      "text/plain": [
       "[1] \"Standard Deviation\""
      ]
     },
     "metadata": {},
     "output_type": "display_data"
    },
    {
     "name": "stdout",
     "output_type": "stream",
     "text": [
      "[1] 1098.128\n"
     ]
    },
    {
     "data": {
      "text/html": [
       "'Inter-Quartile range'"
      ],
      "text/latex": [
       "'Inter-Quartile range'"
      ],
      "text/markdown": [
       "'Inter-Quartile range'"
      ],
      "text/plain": [
       "[1] \"Inter-Quartile range\""
      ]
     },
     "metadata": {},
     "output_type": "display_data"
    },
    {
     "name": "stdout",
     "output_type": "stream",
     "text": [
      "[1] 1680\n"
     ]
    }
   ],
   "source": [
    "'6-number summary'\n",
    "summary(data_0601$DischargeM)\n",
    "'Trimmed mean'\n",
    "print(mean(data_0601$DischargeM, trimmed = 0.1))\n",
    "'Standard Deviation'\n",
    "print(sd(summary(data_0601$DischargeM)))\n",
    "'Inter-Quartile range'\n",
    "print(IQR(data_0601$DischargeM))"
   ]
  },
  {
   "cell_type": "markdown",
   "metadata": {},
   "source": [
    "#### June 15"
   ]
  },
  {
   "cell_type": "code",
   "execution_count": 104,
   "metadata": {},
   "outputs": [
    {
     "data": {
      "text/html": [
       "'6-number summary'"
      ],
      "text/latex": [
       "'6-number summary'"
      ],
      "text/markdown": [
       "'6-number summary'"
      ],
      "text/plain": [
       "[1] \"6-number summary\""
      ]
     },
     "metadata": {},
     "output_type": "display_data"
    },
    {
     "data": {
      "text/plain": [
       "   Min. 1st Qu.  Median    Mean 3rd Qu.    Max. \n",
       "    657    1240    1480    2098    1850    5480 "
      ]
     },
     "metadata": {},
     "output_type": "display_data"
    },
    {
     "data": {
      "text/html": [
       "'Trimmed mean'"
      ],
      "text/latex": [
       "'Trimmed mean'"
      ],
      "text/markdown": [
       "'Trimmed mean'"
      ],
      "text/plain": [
       "[1] \"Trimmed mean\""
      ]
     },
     "metadata": {},
     "output_type": "display_data"
    },
    {
     "name": "stdout",
     "output_type": "stream",
     "text": [
      "[1] 2097.706\n"
     ]
    },
    {
     "data": {
      "text/html": [
       "'Standard Deviation'"
      ],
      "text/latex": [
       "'Standard Deviation'"
      ],
      "text/markdown": [
       "'Standard Deviation'"
      ],
      "text/plain": [
       "[1] \"Standard Deviation\""
      ]
     },
     "metadata": {},
     "output_type": "display_data"
    },
    {
     "name": "stdout",
     "output_type": "stream",
     "text": [
      "[1] 1713.836\n"
     ]
    },
    {
     "data": {
      "text/html": [
       "'Inter-Quartile range'"
      ],
      "text/latex": [
       "'Inter-Quartile range'"
      ],
      "text/markdown": [
       "'Inter-Quartile range'"
      ],
      "text/plain": [
       "[1] \"Inter-Quartile range\""
      ]
     },
     "metadata": {},
     "output_type": "display_data"
    },
    {
     "name": "stdout",
     "output_type": "stream",
     "text": [
      "[1] 610\n"
     ]
    }
   ],
   "source": [
    "'6-number summary'\n",
    "summary(data_0615$DischargeM)\n",
    "'Trimmed mean'\n",
    "print(mean(data_0615$DischargeM, trimmed = 0.1))\n",
    "'Standard Deviation'\n",
    "print(sd(summary(data_0615$DischargeM)))\n",
    "'Inter-Quartile range'\n",
    "print(IQR(data_0615$DischargeM))"
   ]
  },
  {
   "cell_type": "markdown",
   "metadata": {},
   "source": [
    "#### June 30"
   ]
  },
  {
   "cell_type": "code",
   "execution_count": 101,
   "metadata": {},
   "outputs": [
    {
     "data": {
      "text/html": [
       "'6-number summary'"
      ],
      "text/latex": [
       "'6-number summary'"
      ],
      "text/markdown": [
       "'6-number summary'"
      ],
      "text/plain": [
       "[1] \"6-number summary\""
      ]
     },
     "metadata": {},
     "output_type": "display_data"
    },
    {
     "data": {
      "text/plain": [
       "   Min. 1st Qu.  Median    Mean 3rd Qu.    Max. \n",
       "    152     379    1310    1312    1562    3100 "
      ]
     },
     "metadata": {},
     "output_type": "display_data"
    },
    {
     "data": {
      "text/html": [
       "'Trimmed mean'"
      ],
      "text/latex": [
       "'Trimmed mean'"
      ],
      "text/markdown": [
       "'Trimmed mean'"
      ],
      "text/plain": [
       "[1] \"Trimmed mean\""
      ]
     },
     "metadata": {},
     "output_type": "display_data"
    },
    {
     "name": "stdout",
     "output_type": "stream",
     "text": [
      "[1] 1311.509\n"
     ]
    },
    {
     "data": {
      "text/html": [
       "'Standard Deviation'"
      ],
      "text/latex": [
       "'Standard Deviation'"
      ],
      "text/markdown": [
       "'Standard Deviation'"
      ],
      "text/plain": [
       "[1] \"Standard Deviation\""
      ]
     },
     "metadata": {},
     "output_type": "display_data"
    },
    {
     "name": "stdout",
     "output_type": "stream",
     "text": [
      "[1] 1046.446\n"
     ]
    },
    {
     "data": {
      "text/html": [
       "'Inter-Quartile range'"
      ],
      "text/latex": [
       "'Inter-Quartile range'"
      ],
      "text/markdown": [
       "'Inter-Quartile range'"
      ],
      "text/plain": [
       "[1] \"Inter-Quartile range\""
      ]
     },
     "metadata": {},
     "output_type": "display_data"
    },
    {
     "name": "stdout",
     "output_type": "stream",
     "text": [
      "[1] 1183.5\n"
     ]
    }
   ],
   "source": [
    "'6-number summary'\n",
    "summary(data_0630$DischargeM)\n",
    "'Trimmed mean'\n",
    "print(mean(data_0630$DischargeM, trimmed = 0.1))\n",
    "'Standard Deviation'\n",
    "print(sd(summary(data_0630$DischargeM)))\n",
    "'Inter-Quartile range'\n",
    "print(IQR(data_0630$DischargeM))"
   ]
  },
  {
   "cell_type": "markdown",
   "metadata": {},
   "source": [
    "### Wise River"
   ]
  },
  {
   "cell_type": "markdown",
   "metadata": {},
   "source": [
    "### June 1"
   ]
  },
  {
   "cell_type": "code",
   "execution_count": 106,
   "metadata": {},
   "outputs": [
    {
     "data": {
      "text/html": [
       "'6-number summary'"
      ],
      "text/latex": [
       "'6-number summary'"
      ],
      "text/markdown": [
       "'6-number summary'"
      ],
      "text/plain": [
       "[1] \"6-number summary\""
      ]
     },
     "metadata": {},
     "output_type": "display_data"
    },
    {
     "data": {
      "text/plain": [
       "   Min. 1st Qu.  Median    Mean 3rd Qu.    Max. \n",
       "    843    1120    1900    2069    2800    3820 "
      ]
     },
     "metadata": {},
     "output_type": "display_data"
    },
    {
     "data": {
      "text/html": [
       "'Trimmed mean'"
      ],
      "text/latex": [
       "'Trimmed mean'"
      ],
      "text/markdown": [
       "'Trimmed mean'"
      ],
      "text/plain": [
       "[1] \"Trimmed mean\""
      ]
     },
     "metadata": {},
     "output_type": "display_data"
    },
    {
     "name": "stdout",
     "output_type": "stream",
     "text": [
      "[1] 2069.095\n"
     ]
    },
    {
     "data": {
      "text/html": [
       "'Standard Deviation'"
      ],
      "text/latex": [
       "'Standard Deviation'"
      ],
      "text/markdown": [
       "'Standard Deviation'"
      ],
      "text/plain": [
       "[1] \"Standard Deviation\""
      ]
     },
     "metadata": {},
     "output_type": "display_data"
    },
    {
     "name": "stdout",
     "output_type": "stream",
     "text": [
      "[1] 1098.128\n"
     ]
    },
    {
     "data": {
      "text/html": [
       "'Inter-Quartile range'"
      ],
      "text/latex": [
       "'Inter-Quartile range'"
      ],
      "text/markdown": [
       "'Inter-Quartile range'"
      ],
      "text/plain": [
       "[1] \"Inter-Quartile range\""
      ]
     },
     "metadata": {},
     "output_type": "display_data"
    },
    {
     "name": "stdout",
     "output_type": "stream",
     "text": [
      "[1] 1680\n"
     ]
    }
   ],
   "source": [
    "'6-number summary'\n",
    "summary(data_0601$DischargeM)\n",
    "'Trimmed mean'\n",
    "print(mean(data_0601$DischargeM, trimmed = 0.1))\n",
    "'Standard Deviation'\n",
    "print(sd(summary(data_0601$DischargeM)))\n",
    "'Inter-Quartile range'\n",
    "print(IQR(data_0601$DischargeM))"
   ]
  },
  {
   "cell_type": "markdown",
   "metadata": {},
   "source": [
    "### June 15"
   ]
  },
  {
   "cell_type": "code",
   "execution_count": 107,
   "metadata": {},
   "outputs": [
    {
     "data": {
      "text/html": [
       "'6-number summary'"
      ],
      "text/latex": [
       "'6-number summary'"
      ],
      "text/markdown": [
       "'6-number summary'"
      ],
      "text/plain": [
       "[1] \"6-number summary\""
      ]
     },
     "metadata": {},
     "output_type": "display_data"
    },
    {
     "data": {
      "text/plain": [
       "   Min. 1st Qu.  Median    Mean 3rd Qu.    Max. \n",
       "    657    1240    1480    2098    1850    5480 "
      ]
     },
     "metadata": {},
     "output_type": "display_data"
    },
    {
     "data": {
      "text/html": [
       "'Trimmed mean'"
      ],
      "text/latex": [
       "'Trimmed mean'"
      ],
      "text/markdown": [
       "'Trimmed mean'"
      ],
      "text/plain": [
       "[1] \"Trimmed mean\""
      ]
     },
     "metadata": {},
     "output_type": "display_data"
    },
    {
     "name": "stdout",
     "output_type": "stream",
     "text": [
      "[1] 2097.706\n"
     ]
    },
    {
     "data": {
      "text/html": [
       "'Standard Deviation'"
      ],
      "text/latex": [
       "'Standard Deviation'"
      ],
      "text/markdown": [
       "'Standard Deviation'"
      ],
      "text/plain": [
       "[1] \"Standard Deviation\""
      ]
     },
     "metadata": {},
     "output_type": "display_data"
    },
    {
     "name": "stdout",
     "output_type": "stream",
     "text": [
      "[1] 1713.836\n"
     ]
    },
    {
     "data": {
      "text/html": [
       "'Inter-Quartile range'"
      ],
      "text/latex": [
       "'Inter-Quartile range'"
      ],
      "text/markdown": [
       "'Inter-Quartile range'"
      ],
      "text/plain": [
       "[1] \"Inter-Quartile range\""
      ]
     },
     "metadata": {},
     "output_type": "display_data"
    },
    {
     "name": "stdout",
     "output_type": "stream",
     "text": [
      "[1] 610\n"
     ]
    }
   ],
   "source": [
    "'6-number summary'\n",
    "summary(data_0615$DischargeM)\n",
    "'Trimmed mean'\n",
    "print(mean(data_0615$DischargeM, trimmed = 0.1))\n",
    "'Standard Deviation'\n",
    "print(sd(summary(data_0615$DischargeM)))\n",
    "'Inter-Quartile range'\n",
    "print(IQR(data_0615$DischargeM))"
   ]
  },
  {
   "cell_type": "markdown",
   "metadata": {},
   "source": [
    "### June 30"
   ]
  },
  {
   "cell_type": "code",
   "execution_count": 108,
   "metadata": {},
   "outputs": [
    {
     "data": {
      "text/html": [
       "'6-number summary'"
      ],
      "text/latex": [
       "'6-number summary'"
      ],
      "text/markdown": [
       "'6-number summary'"
      ],
      "text/plain": [
       "[1] \"6-number summary\""
      ]
     },
     "metadata": {},
     "output_type": "display_data"
    },
    {
     "data": {
      "text/plain": [
       "   Min. 1st Qu.  Median    Mean 3rd Qu.    Max. \n",
       "    152     379    1310    1312    1562    3100 "
      ]
     },
     "metadata": {},
     "output_type": "display_data"
    },
    {
     "data": {
      "text/html": [
       "'Trimmed mean'"
      ],
      "text/latex": [
       "'Trimmed mean'"
      ],
      "text/markdown": [
       "'Trimmed mean'"
      ],
      "text/plain": [
       "[1] \"Trimmed mean\""
      ]
     },
     "metadata": {},
     "output_type": "display_data"
    },
    {
     "name": "stdout",
     "output_type": "stream",
     "text": [
      "[1] 1311.509\n"
     ]
    },
    {
     "data": {
      "text/html": [
       "'Standard Deviation'"
      ],
      "text/latex": [
       "'Standard Deviation'"
      ],
      "text/markdown": [
       "'Standard Deviation'"
      ],
      "text/plain": [
       "[1] \"Standard Deviation\""
      ]
     },
     "metadata": {},
     "output_type": "display_data"
    },
    {
     "name": "stdout",
     "output_type": "stream",
     "text": [
      "[1] 1046.446\n"
     ]
    },
    {
     "data": {
      "text/html": [
       "'Inter-Quartile range'"
      ],
      "text/latex": [
       "'Inter-Quartile range'"
      ],
      "text/markdown": [
       "'Inter-Quartile range'"
      ],
      "text/plain": [
       "[1] \"Inter-Quartile range\""
      ]
     },
     "metadata": {},
     "output_type": "display_data"
    },
    {
     "name": "stdout",
     "output_type": "stream",
     "text": [
      "[1] 1183.5\n"
     ]
    }
   ],
   "source": [
    "'6-number summary'\n",
    "summary(data_0630$DischargeM)\n",
    "'Trimmed mean'\n",
    "print(mean(data_0630$DischargeM, trimmed = 0.1))\n",
    "'Standard Deviation'\n",
    "print(sd(summary(data_0630$DischargeM)))\n",
    "'Inter-Quartile range'\n",
    "print(IQR(data_0630$DischargeM))"
   ]
  },
  {
   "cell_type": "markdown",
   "metadata": {},
   "source": [
    "## 5 & 6. Density histogram and potential probability model for Wise River's discharge on 04/10/2017"
   ]
  },
  {
   "cell_type": "markdown",
   "metadata": {},
   "source": [
    "### Subset necessary data and Overview of data"
   ]
  },
  {
   "cell_type": "code",
   "execution_count": 109,
   "metadata": {},
   "outputs": [],
   "source": [
    "data_p5 = subset(data, Date == \"2017-04-10\")"
   ]
  },
  {
   "cell_type": "code",
   "execution_count": 112,
   "metadata": {},
   "outputs": [
    {
     "name": "stdout",
     "output_type": "stream",
     "text": [
      "Classes 'tbl_df', 'tbl' and 'data.frame':\t96 obs. of  4 variables:\n",
      " $ Date      : Date, format: \"2017-04-10\" \"2017-04-10\" ...\n",
      " $ Time      : 'times' num  00:00:00 00:15:00 00:30:00 00:45:00 01:00:00 ...\n",
      "  ..- attr(*, \"format\")= chr \"h:m:s\"\n",
      " $ DischargeM: num  886 886 886 886 875 875 875 875 875 864 ...\n",
      " $ DischargeW: num  1320 1320 1320 1320 1310 1310 1310 1310 1300 1310 ...\n"
     ]
    }
   ],
   "source": [
    "str(data_p5)"
   ]
  },
  {
   "cell_type": "code",
   "execution_count": 120,
   "metadata": {},
   "outputs": [
    {
     "data": {
      "image/png": "[encoded data removed]",
      "text/plain": [
       "Plot with title \"Wise River, 04/10/2017\""
      ]
     },
     "metadata": {},
     "output_type": "display_data"
    }
   ],
   "source": [
    "hist(data_p5$DischargeW, prob = T, main = 'Wise River, 04/10/2017', xlab = 'Discharge (cfs)')\n",
    "lines(density(data_p5$DischargeW), add=T)"
   ]
  },
  {
   "cell_type": "markdown",
   "metadata": {},
   "source": [
    "#### => A potential probability model that might be used to model Wise River's discharge for 04/10/2017 is the Bimodal Distribution."
   ]
  },
  {
   "cell_type": "code",
   "execution_count": null,
   "metadata": {},
   "outputs": [],
   "source": []
  }
 ],
 "metadata": {
  "kernelspec": {
   "display_name": "R",
   "language": "R",
   "name": "ir"
  },
  "language_info": {
   "codemirror_mode": "r",
   "file_extension": ".r",
   "mimetype": "text/x-r-source",
   "name": "R",
   "pygments_lexer": "r",
   "version": "3.5.1"
  }
 },
 "nbformat": 4,
 "nbformat_minor": 2
}
