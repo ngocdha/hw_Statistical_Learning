{
 "cells": [
  {
   "cell_type": "code",
   "execution_count": 1,
   "metadata": {},
   "outputs": [
    {
     "name": "stderr",
     "output_type": "stream",
     "text": [
      "\n",
      "Attaching package: 'dplyr'\n",
      "\n",
      "The following objects are masked from 'package:stats':\n",
      "\n",
      "    filter, lag\n",
      "\n",
      "The following objects are masked from 'package:base':\n",
      "\n",
      "    intersect, setdiff, setequal, union\n",
      "\n"
     ]
    }
   ],
   "source": [
    "library(readxl)\n",
    "library(openxlsx)\n",
    "library(dplyr)\n",
    "library(chron)\n",
    "options(warn = -1)"
   ]
  },
  {
   "cell_type": "markdown",
   "metadata": {},
   "source": [
    "# Data Preprocessing"
   ]
  },
  {
   "cell_type": "markdown",
   "metadata": {},
   "source": [
    "### Load data + Overview of data"
   ]
  },
  {
   "cell_type": "code",
   "execution_count": 2,
   "metadata": {},
   "outputs": [],
   "source": [
    "mudd <- read_excel('Mudd_Creek.xlsx')\n",
    "wise <- read_excel('Wise_River.xlsx')"
   ]
  },
  {
   "cell_type": "code",
   "execution_count": 3,
   "metadata": {},
   "outputs": [
    {
     "name": "stdout",
     "output_type": "stream",
     "text": [
      "Classes 'tbl_df', 'tbl' and 'data.frame':\t392916 obs. of  4 variables:\n",
      " $ site6024540: num  6024540 6024540 6024540 6024540 6024540 ...\n",
      " $ Date       : POSIXct, format: \"1997-10-01\" \"1997-10-01\" ...\n",
      " $ Time       : chr  \"00:00\" \"00:15\" \"00:30\" \"00:45\" ...\n",
      " $ DischargeM : num  188 188 188 188 188 188 188 188 188 188 ...\n"
     ]
    }
   ],
   "source": [
    "str(mudd)"
   ]
  },
  {
   "cell_type": "code",
   "execution_count": 4,
   "metadata": {},
   "outputs": [
    {
     "name": "stdout",
     "output_type": "stream",
     "text": [
      "Classes 'tbl_df', 'tbl' and 'data.frame':\t135980 obs. of  4 variables:\n",
      " $ site6024580: num  6024580 6024580 6024580 6024580 6024580 ...\n",
      " $ Date       : POSIXct, format: \"2009-08-07\" \"2009-08-07\" ...\n",
      " $ Time       : chr  \"00:15\" \"00:30\" \"00:45\" \"01:00\" ...\n",
      " $ DischargeW : num  365 365 371 371 378 384 384 384 390 390 ...\n"
     ]
    }
   ],
   "source": [
    "str(wise)"
   ]
  },
  {
   "cell_type": "markdown",
   "metadata": {},
   "source": [
    "### Convert Time to h:m:s format"
   ]
  },
  {
   "cell_type": "code",
   "execution_count": 5,
   "metadata": {},
   "outputs": [],
   "source": [
    "wise$Time <- paste(wise$Time, ':00', sep = '')\n",
    "mudd$Time <- paste(mudd$Time, ':00', sep = '')"
   ]
  },
  {
   "cell_type": "markdown",
   "metadata": {},
   "source": [
    "### Convert Date and Time to Date and Time format"
   ]
  },
  {
   "cell_type": "code",
   "execution_count": 6,
   "metadata": {},
   "outputs": [],
   "source": [
    "mudd$Date <- as.Date(mudd$Date)\n",
    "wise$Date <- as.Date(wise$Date)\n",
    "mudd$Time <- times(mudd$Time)\n",
    "wise$Time <- times(wise$Time)"
   ]
  },
  {
   "cell_type": "markdown",
   "metadata": {},
   "source": [
    "### Use inner_join from dplyr to merge datasets by Date and Time"
   ]
  },
  {
   "cell_type": "code",
   "execution_count": 7,
   "metadata": {},
   "outputs": [],
   "source": [
    "merged_data <- inner_join(mudd, wise, by = c(\"Date\", \"Time\"))"
   ]
  },
  {
   "cell_type": "markdown",
   "metadata": {},
   "source": [
    "### Summary of data shows numerous NA values"
   ]
  },
  {
   "cell_type": "code",
   "execution_count": 8,
   "metadata": {},
   "outputs": [
    {
     "data": {
      "text/plain": [
       "  site6024540           Date                 Time            DischargeM    \n",
       " Min.   :6024540   Min.   :2009-08-07   Min.   :00:00:00   Min.   :  36.0  \n",
       " 1st Qu.:6024540   1st Qu.:2011-06-07   1st Qu.:05:45:00   1st Qu.: 160.0  \n",
       " Median :6024540   Median :2012-10-10   Median :11:52:30   Median : 265.0  \n",
       " Mean   :6024540   Mean   :2013-09-20   Mean   :11:52:28   Mean   : 874.3  \n",
       " 3rd Qu.:6024540   3rd Qu.:2016-07-07   3rd Qu.:17:45:00   3rd Qu.:1290.0  \n",
       " Max.   :6024540   Max.   :2017-10-31   Max.   :23:45:00   Max.   :7000.0  \n",
       "                                                                           \n",
       "  site6024580        DischargeW  \n",
       " Min.   :6024580   Min.   : 106  \n",
       " 1st Qu.:6024580   1st Qu.: 259  \n",
       " Median :6024580   Median : 443  \n",
       " Mean   :6024580   Mean   :1247  \n",
       " 3rd Qu.:6024580   3rd Qu.:1810  \n",
       " Max.   :6024580   Max.   :9210  \n",
       "                   NA's   :3361  "
      ]
     },
     "metadata": {},
     "output_type": "display_data"
    }
   ],
   "source": [
    "summary(merged_data)"
   ]
  },
  {
   "cell_type": "markdown",
   "metadata": {},
   "source": [
    "### Remove rows with NA values"
   ]
  },
  {
   "cell_type": "code",
   "execution_count": 9,
   "metadata": {},
   "outputs": [],
   "source": [
    "complete_data <- na.omit(merged_data)"
   ]
  },
  {
   "cell_type": "markdown",
   "metadata": {},
   "source": [
    "### Subset 4 columns Data, Time, DischargeM and DischargeW"
   ]
  },
  {
   "cell_type": "code",
   "execution_count": 10,
   "metadata": {},
   "outputs": [],
   "source": [
    "data = complete_data[, c('Date', 'Time', 'DischargeM', 'DischargeW')]"
   ]
  },
  {
   "cell_type": "markdown",
   "metadata": {},
   "source": [
    "### Overview of Clean data"
   ]
  },
  {
   "cell_type": "code",
   "execution_count": 11,
   "metadata": {},
   "outputs": [
    {
     "name": "stdout",
     "output_type": "stream",
     "text": [
      "Classes 'tbl_df', 'tbl' and 'data.frame':\t124741 obs. of  4 variables:\n",
      " $ Date      : Date, format: \"2009-08-07\" \"2009-08-07\" ...\n",
      " $ Time      : 'times' num  00:15:00 00:30:00 00:45:00 01:00:00 01:15:00 ...\n",
      "  ..- attr(*, \"format\")= chr \"h:m:s\"\n",
      " $ DischargeM: num  210 210 215 215 219 219 224 224 224 229 ...\n",
      " $ DischargeW: num  365 365 371 371 378 384 384 384 390 390 ...\n"
     ]
    }
   ],
   "source": [
    "str(data)"
   ]
  },
  {
   "cell_type": "code",
   "execution_count": 12,
   "metadata": {},
   "outputs": [
    {
     "data": {
      "text/html": [
       "<table>\n",
       "<thead><tr><th scope=col>Date</th><th scope=col>Time</th><th scope=col>DischargeM</th><th scope=col>DischargeW</th></tr></thead>\n",
       "<tbody>\n",
       "\t<tr><td>2009-08-07</td><td>00:15:00  </td><td>210       </td><td>365       </td></tr>\n",
       "\t<tr><td>2009-08-07</td><td>00:30:00  </td><td>210       </td><td>365       </td></tr>\n",
       "\t<tr><td>2009-08-07</td><td>00:45:00  </td><td>215       </td><td>371       </td></tr>\n",
       "\t<tr><td>2009-08-07</td><td>01:00:00  </td><td>215       </td><td>371       </td></tr>\n",
       "\t<tr><td>2009-08-07</td><td>01:15:00  </td><td>219       </td><td>378       </td></tr>\n",
       "\t<tr><td>2009-08-07</td><td>01:30:00  </td><td>219       </td><td>384       </td></tr>\n",
       "</tbody>\n",
       "</table>\n"
      ],
      "text/latex": [
       "\\begin{tabular}{r|llll}\n",
       " Date & Time & DischargeM & DischargeW\\\\\n",
       "\\hline\n",
       "\t 2009-08-07 & 00:15:00   & 210        & 365       \\\\\n",
       "\t 2009-08-07 & 00:30:00   & 210        & 365       \\\\\n",
       "\t 2009-08-07 & 00:45:00   & 215        & 371       \\\\\n",
       "\t 2009-08-07 & 01:00:00   & 215        & 371       \\\\\n",
       "\t 2009-08-07 & 01:15:00   & 219        & 378       \\\\\n",
       "\t 2009-08-07 & 01:30:00   & 219        & 384       \\\\\n",
       "\\end{tabular}\n"
      ],
      "text/markdown": [
       "\n",
       "Date | Time | DischargeM | DischargeW | \n",
       "|---|---|---|---|---|---|\n",
       "| 2009-08-07 | 00:15:00   | 210        | 365        | \n",
       "| 2009-08-07 | 00:30:00   | 210        | 365        | \n",
       "| 2009-08-07 | 00:45:00   | 215        | 371        | \n",
       "| 2009-08-07 | 01:00:00   | 215        | 371        | \n",
       "| 2009-08-07 | 01:15:00   | 219        | 378        | \n",
       "| 2009-08-07 | 01:30:00   | 219        | 384        | \n",
       "\n",
       "\n"
      ],
      "text/plain": [
       "  Date       Time     DischargeM DischargeW\n",
       "1 2009-08-07 00:15:00 210        365       \n",
       "2 2009-08-07 00:30:00 210        365       \n",
       "3 2009-08-07 00:45:00 215        371       \n",
       "4 2009-08-07 01:00:00 215        371       \n",
       "5 2009-08-07 01:15:00 219        378       \n",
       "6 2009-08-07 01:30:00 219        384       "
      ]
     },
     "metadata": {},
     "output_type": "display_data"
    },
    {
     "data": {
      "text/html": [
       "<table>\n",
       "<thead><tr><th scope=col>Date</th><th scope=col>Time</th><th scope=col>DischargeM</th><th scope=col>DischargeW</th></tr></thead>\n",
       "<tbody>\n",
       "\t<tr><td>2017-10-31</td><td>22:30:00  </td><td>215       </td><td>359       </td></tr>\n",
       "\t<tr><td>2017-10-31</td><td>22:45:00  </td><td>215       </td><td>365       </td></tr>\n",
       "\t<tr><td>2017-10-31</td><td>23:00:00  </td><td>215       </td><td>359       </td></tr>\n",
       "\t<tr><td>2017-10-31</td><td>23:15:00  </td><td>215       </td><td>353       </td></tr>\n",
       "\t<tr><td>2017-10-31</td><td>23:30:00  </td><td>215       </td><td>359       </td></tr>\n",
       "\t<tr><td>2017-10-31</td><td>23:45:00  </td><td>215       </td><td>353       </td></tr>\n",
       "</tbody>\n",
       "</table>\n"
      ],
      "text/latex": [
       "\\begin{tabular}{r|llll}\n",
       " Date & Time & DischargeM & DischargeW\\\\\n",
       "\\hline\n",
       "\t 2017-10-31 & 22:30:00   & 215        & 359       \\\\\n",
       "\t 2017-10-31 & 22:45:00   & 215        & 365       \\\\\n",
       "\t 2017-10-31 & 23:00:00   & 215        & 359       \\\\\n",
       "\t 2017-10-31 & 23:15:00   & 215        & 353       \\\\\n",
       "\t 2017-10-31 & 23:30:00   & 215        & 359       \\\\\n",
       "\t 2017-10-31 & 23:45:00   & 215        & 353       \\\\\n",
       "\\end{tabular}\n"
      ],
      "text/markdown": [
       "\n",
       "Date | Time | DischargeM | DischargeW | \n",
       "|---|---|---|---|---|---|\n",
       "| 2017-10-31 | 22:30:00   | 215        | 359        | \n",
       "| 2017-10-31 | 22:45:00   | 215        | 365        | \n",
       "| 2017-10-31 | 23:00:00   | 215        | 359        | \n",
       "| 2017-10-31 | 23:15:00   | 215        | 353        | \n",
       "| 2017-10-31 | 23:30:00   | 215        | 359        | \n",
       "| 2017-10-31 | 23:45:00   | 215        | 353        | \n",
       "\n",
       "\n"
      ],
      "text/plain": [
       "  Date       Time     DischargeM DischargeW\n",
       "1 2017-10-31 22:30:00 215        359       \n",
       "2 2017-10-31 22:45:00 215        365       \n",
       "3 2017-10-31 23:00:00 215        359       \n",
       "4 2017-10-31 23:15:00 215        353       \n",
       "5 2017-10-31 23:30:00 215        359       \n",
       "6 2017-10-31 23:45:00 215        353       "
      ]
     },
     "metadata": {},
     "output_type": "display_data"
    }
   ],
   "source": [
    "head(data)\n",
    "tail(data)"
   ]
  },
  {
   "cell_type": "markdown",
   "metadata": {},
   "source": [
    "# Graphical analysis of discharge for June 1, June 15, June 30"
   ]
  },
  {
   "cell_type": "markdown",
   "metadata": {},
   "source": [
    "### Subset only necessary data"
   ]
  },
  {
   "cell_type": "code",
   "execution_count": 18,
   "metadata": {},
   "outputs": [],
   "source": [
    "data_0601 = subset(data, format(Date, \"%m-%d\") == \"06-01\")\n",
    "data_0615 = subset(data, format(Date, \"%m-%d\") == \"06-15\")\n",
    "data_0630 = subset(data, format(Date, \"%m-%d\") == \"06-30\")"
   ]
  },
  {
   "cell_type": "markdown",
   "metadata": {},
   "source": [
    "### (3a) Density histogram"
   ]
  },
  {
   "cell_type": "code",
   "execution_count": 22,
   "metadata": {},
   "outputs": [
    {
     "data": {
      "image/png": "[encoded data removed]",
      "text/plain": [
       "Plot with title \"Histogram of data_0601$DischargeM\""
      ]
     },
     "metadata": {},
     "output_type": "display_data"
    }
   ],
   "source": [
    "hist(data_0601$DischargeM)"
   ]
  },
  {
   "cell_type": "code",
   "execution_count": 13,
   "metadata": {},
   "outputs": [],
   "source": [
    "d <- read_excel('data.xlsx')"
   ]
  },
  {
   "cell_type": "code",
   "execution_count": 15,
   "metadata": {},
   "outputs": [
    {
     "name": "stdout",
     "output_type": "stream",
     "text": [
      "Classes 'tbl_df', 'tbl' and 'data.frame':\t124741 obs. of  4 variables:\n",
      " $ Date      : POSIXct, format: \"2009-08-07\" \"2009-08-07\" ...\n",
      " $ Time      : chr  \"00:15:00\" \"00:30:00\" \"00:45:00\" \"01:00:00\" ...\n",
      " $ DischargeM: num  210 210 215 215 219 219 224 224 224 229 ...\n",
      " $ DischargeW: num  365 365 371 371 378 384 384 384 390 390 ...\n"
     ]
    }
   ],
   "source": [
    "str(d)"
   ]
  },
  {
   "cell_type": "code",
   "execution_count": null,
   "metadata": {},
   "outputs": [],
   "source": []
  }
 ],
 "metadata": {
  "kernelspec": {
   "display_name": "R",
   "language": "R",
   "name": "ir"
  },
  "language_info": {
   "codemirror_mode": "r",
   "file_extension": ".r",
   "mimetype": "text/x-r-source",
   "name": "R",
   "pygments_lexer": "r",
   "version": "3.5.1"
  }
 },
 "nbformat": 4,
 "nbformat_minor": 2
}
