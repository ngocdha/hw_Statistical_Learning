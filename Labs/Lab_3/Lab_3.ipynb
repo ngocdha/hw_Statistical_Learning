{
 "cells": [
  {
   "cell_type": "code",
   "execution_count": 2,
   "metadata": {},
   "outputs": [
    {
     "ename": "ERROR",
     "evalue": "Error in library(\"r-xlsx\"): there is no package called 'r-xlsx'\n",
     "execution_count": 2,
     "output_type": "error",
     "traceback": [
      "Error in library(\"r-xlsx\"): there is no package called 'r-xlsx'\nTraceback:\n",
      "1. library(\"r-xlsx\")",
      "2. stop(txt, domain = NA)"
     ]
    }
   ],
   "source": [
    "library('r-xlsx')"
   ]
  },
  {
   "cell_type": "code",
   "execution_count": null,
   "metadata": {},
   "outputs": [],
   "source": []
  }
 ],
 "metadata": {
  "kernelspec": {
   "display_name": "R",
   "language": "R",
   "name": "ir"
  },
  "language_info": {
   "codemirror_mode": "r",
   "file_extension": ".r",
   "mimetype": "text/x-r-source",
   "name": "R",
   "pygments_lexer": "r",
   "version": "3.5.1"
  }
 },
 "nbformat": 4,
 "nbformat_minor": 2
}
