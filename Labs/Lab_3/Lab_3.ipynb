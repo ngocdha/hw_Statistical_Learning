{
 "cells": [
  {
   "cell_type": "code",
   "execution_count": 7,
   "metadata": {},
   "outputs": [],
   "source": [
    "library(readxl)\n",
    "library(openxlsx)\n",
    "library(dplyr)"
   ]
  },
  {
   "cell_type": "code",
   "execution_count": 20,
   "metadata": {},
   "outputs": [],
   "source": [
    "options(warn = -1)\n",
    "mudd <- read_excel('Mudd_Creek.xlsx')\n",
    "wise <- read_excel('Wise_River.xlsx')"
   ]
  },
  {
   "cell_type": "code",
   "execution_count": 21,
   "metadata": {},
   "outputs": [
    {
     "name": "stdout",
     "output_type": "stream",
     "text": [
      "Classes 'tbl_df', 'tbl' and 'data.frame':\t392916 obs. of  4 variables:\n",
      " $ site6024540: num  6024540 6024540 6024540 6024540 6024540 ...\n",
      " $ Date       : POSIXct, format: \"1997-10-01\" \"1997-10-01\" ...\n",
      " $ Time       : chr  \"00:00\" \"00:15\" \"00:30\" \"00:45\" ...\n",
      " $ DischargeM : num  188 188 188 188 188 188 188 188 188 188 ...\n"
     ]
    }
   ],
   "source": [
    "str(mudd)"
   ]
  },
  {
   "cell_type": "code",
   "execution_count": 22,
   "metadata": {},
   "outputs": [
    {
     "name": "stdout",
     "output_type": "stream",
     "text": [
      "Classes 'tbl_df', 'tbl' and 'data.frame':\t135980 obs. of  4 variables:\n",
      " $ site6024580: num  6024580 6024580 6024580 6024580 6024580 ...\n",
      " $ Date       : POSIXct, format: \"2009-08-07\" \"2009-08-07\" ...\n",
      " $ Time       : chr  \"00:15\" \"00:30\" \"00:45\" \"01:00\" ...\n",
      " $ DischargeW : num  365 365 371 371 378 384 384 384 390 390 ...\n"
     ]
    }
   ],
   "source": [
    "str(wise)"
   ]
  },
  {
   "cell_type": "code",
   "execution_count": 23,
   "metadata": {},
   "outputs": [],
   "source": [
    "# convert POSIXct to Date format\n",
    "mudd$Date <- as.Date(mudd$Date)\n",
    "wise$Date <- as.Date(wise$Date)"
   ]
  },
  {
   "cell_type": "code",
   "execution_count": null,
   "metadata": {},
   "outputs": [],
   "source": []
  }
 ],
 "metadata": {
  "kernelspec": {
   "display_name": "R",
   "language": "R",
   "name": "ir"
  },
  "language_info": {
   "codemirror_mode": "r",
   "file_extension": ".r",
   "mimetype": "text/x-r-source",
   "name": "R",
   "pygments_lexer": "r",
   "version": "3.5.1"
  }
 },
 "nbformat": 4,
 "nbformat_minor": 2
}
