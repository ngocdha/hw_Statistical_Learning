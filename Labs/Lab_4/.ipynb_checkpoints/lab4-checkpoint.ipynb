{
 "cells": [
  {
   "cell_type": "markdown",
   "metadata": {},
   "source": [
    "# Ngoc Ha\n",
    "# STAT 453\n",
    "# Lab 4"
   ]
  },
  {
   "cell_type": "code",
   "execution_count": 2,
   "metadata": {},
   "outputs": [],
   "source": [
    "library(readxl)\n",
    "library(fitdistrplus)\n",
    "library(boot)"
   ]
  },
  {
   "cell_type": "markdown",
   "metadata": {},
   "source": [
    "## 1. pgatour2006.xlsx analysis"
   ]
  },
  {
   "cell_type": "markdown",
   "metadata": {},
   "source": [
    "### (1a) Summarize"
   ]
  },
  {
   "cell_type": "code",
   "execution_count": 48,
   "metadata": {},
   "outputs": [],
   "source": [
    "pga <- read_excel('pgatour2006.xlsx')"
   ]
  },
  {
   "cell_type": "code",
   "execution_count": 4,
   "metadata": {},
   "outputs": [
    {
     "name": "stdout",
     "output_type": "stream",
     "text": [
      "Classes 'tbl_df', 'tbl' and 'data.frame':\t196 obs. of  11 variables:\n",
      " $ Name              : chr  \"Aaron Baddeley\" \"Adam Scott\" \"Alex Aragon\" \"Alex Cejka\" ...\n",
      " $ PrizeMoney        : num  60661 262045 3635 17516 16683 ...\n",
      " $ AveDrivingDistance: num  288 301 303 289 288 ...\n",
      " $ DrivingAccuracy   : num  60.7 62 51.1 66.4 63.2 ...\n",
      " $ GIR               : num  58.3 69.1 59.1 67.7 64 ...\n",
      " $ PuttingAverage    : num  1.75 1.77 1.79 1.78 1.76 ...\n",
      " $ BirdieConversion  : num  31.4 30.4 29.9 29.3 29.3 ...\n",
      " $ SandSaves         : num  54.8 53.6 37.9 45.1 52.4 ...\n",
      " $ Scrambling        : num  59.4 57.9 50.8 54.8 57.1 ...\n",
      " $ BounceBack        : num  19.3 19.4 16.8 17.1 18.2 ...\n",
      " $ PuttsPerRound     : num  28 29.3 29.2 29.5 28.9 ...\n"
     ]
    }
   ],
   "source": [
    "str(pga)"
   ]
  },
  {
   "cell_type": "markdown",
   "metadata": {},
   "source": [
    "#### 10% trimmed mean"
   ]
  },
  {
   "cell_type": "code",
   "execution_count": 5,
   "metadata": {},
   "outputs": [
    {
     "data": {
      "text/html": [
       "<dl class=dl-horizontal>\n",
       "\t<dt>PrizeMoney</dt>\n",
       "\t\t<dd>40027.2151898734</dd>\n",
       "\t<dt>AveDrivingDistance</dt>\n",
       "\t\t<dd>289.308860759494</dd>\n",
       "\t<dt>DrivingAccuracy</dt>\n",
       "\t\t<dd>63.3127848101266</dd>\n",
       "\t<dt>GIR</dt>\n",
       "\t\t<dd>65.2693670886076</dd>\n",
       "\t<dt>PuttingAverage</dt>\n",
       "\t\t<dd>1.77932911392405</dd>\n",
       "\t<dt>BirdieConversion</dt>\n",
       "\t\t<dd>29.0146202531646</dd>\n",
       "\t<dt>SandSaves</dt>\n",
       "\t\t<dd>48.9799367088608</dd>\n",
       "\t<dt>Scrambling</dt>\n",
       "\t\t<dd>57.5008860759494</dd>\n",
       "\t<dt>BounceBack</dt>\n",
       "\t\t<dd>19.5676582278481</dd>\n",
       "\t<dt>PuttsPerRound</dt>\n",
       "\t\t<dd>29.190253164557</dd>\n",
       "</dl>\n"
      ],
      "text/latex": [
       "\\begin{description*}\n",
       "\\item[PrizeMoney] 40027.2151898734\n",
       "\\item[AveDrivingDistance] 289.308860759494\n",
       "\\item[DrivingAccuracy] 63.3127848101266\n",
       "\\item[GIR] 65.2693670886076\n",
       "\\item[PuttingAverage] 1.77932911392405\n",
       "\\item[BirdieConversion] 29.0146202531646\n",
       "\\item[SandSaves] 48.9799367088608\n",
       "\\item[Scrambling] 57.5008860759494\n",
       "\\item[BounceBack] 19.5676582278481\n",
       "\\item[PuttsPerRound] 29.190253164557\n",
       "\\end{description*}\n"
      ],
      "text/markdown": [
       "PrizeMoney\n",
       ":   40027.2151898734AveDrivingDistance\n",
       ":   289.308860759494DrivingAccuracy\n",
       ":   63.3127848101266GIR\n",
       ":   65.2693670886076PuttingAverage\n",
       ":   1.77932911392405BirdieConversion\n",
       ":   29.0146202531646SandSaves\n",
       ":   48.9799367088608Scrambling\n",
       ":   57.5008860759494BounceBack\n",
       ":   19.5676582278481PuttsPerRound\n",
       ":   29.190253164557\n",
       "\n"
      ],
      "text/plain": [
       "        PrizeMoney AveDrivingDistance    DrivingAccuracy                GIR \n",
       "      40027.215190         289.308861          63.312785          65.269367 \n",
       "    PuttingAverage   BirdieConversion          SandSaves         Scrambling \n",
       "          1.779329          29.014620          48.979937          57.500886 \n",
       "        BounceBack      PuttsPerRound \n",
       "         19.567658          29.190253 "
      ]
     },
     "metadata": {},
     "output_type": "display_data"
    }
   ],
   "source": [
    "sapply(pga[,2:11], mean, trim = 0.1)"
   ]
  },
  {
   "cell_type": "markdown",
   "metadata": {},
   "source": [
    "#### Standard deviation"
   ]
  },
  {
   "cell_type": "code",
   "execution_count": 6,
   "metadata": {},
   "outputs": [
    {
     "data": {
      "text/html": [
       "<dl class=dl-horizontal>\n",
       "\t<dt>PrizeMoney</dt>\n",
       "\t\t<dd>63902.9534175403</dd>\n",
       "\t<dt>AveDrivingDistance</dt>\n",
       "\t\t<dd>8.7305092931058</dd>\n",
       "\t<dt>DrivingAccuracy</dt>\n",
       "\t\t<dd>5.41302275758653</dd>\n",
       "\t<dt>GIR</dt>\n",
       "\t\t<dd>2.7223638625283</dd>\n",
       "\t<dt>PuttingAverage</dt>\n",
       "\t\t<dd>0.024728132964627</dd>\n",
       "\t<dt>BirdieConversion</dt>\n",
       "\t\t<dd>2.20655581118645</dd>\n",
       "\t<dt>SandSaves</dt>\n",
       "\t\t<dd>5.82831251040945</dd>\n",
       "\t<dt>Scrambling</dt>\n",
       "\t\t<dd>3.16225742012002</dd>\n",
       "\t<dt>BounceBack</dt>\n",
       "\t\t<dd>2.80611274288793</dd>\n",
       "\t<dt>PuttsPerRound</dt>\n",
       "\t\t<dd>0.441702272391593</dd>\n",
       "</dl>\n"
      ],
      "text/latex": [
       "\\begin{description*}\n",
       "\\item[PrizeMoney] 63902.9534175403\n",
       "\\item[AveDrivingDistance] 8.7305092931058\n",
       "\\item[DrivingAccuracy] 5.41302275758653\n",
       "\\item[GIR] 2.7223638625283\n",
       "\\item[PuttingAverage] 0.024728132964627\n",
       "\\item[BirdieConversion] 2.20655581118645\n",
       "\\item[SandSaves] 5.82831251040945\n",
       "\\item[Scrambling] 3.16225742012002\n",
       "\\item[BounceBack] 2.80611274288793\n",
       "\\item[PuttsPerRound] 0.441702272391593\n",
       "\\end{description*}\n"
      ],
      "text/markdown": [
       "PrizeMoney\n",
       ":   63902.9534175403AveDrivingDistance\n",
       ":   8.7305092931058DrivingAccuracy\n",
       ":   5.41302275758653GIR\n",
       ":   2.7223638625283PuttingAverage\n",
       ":   0.024728132964627BirdieConversion\n",
       ":   2.20655581118645SandSaves\n",
       ":   5.82831251040945Scrambling\n",
       ":   3.16225742012002BounceBack\n",
       ":   2.80611274288793PuttsPerRound\n",
       ":   0.441702272391593\n",
       "\n"
      ],
      "text/plain": [
       "        PrizeMoney AveDrivingDistance    DrivingAccuracy                GIR \n",
       "      6.390295e+04       8.730509e+00       5.413023e+00       2.722364e+00 \n",
       "    PuttingAverage   BirdieConversion          SandSaves         Scrambling \n",
       "      2.472813e-02       2.206556e+00       5.828313e+00       3.162257e+00 \n",
       "        BounceBack      PuttsPerRound \n",
       "      2.806113e+00       4.417023e-01 "
      ]
     },
     "metadata": {},
     "output_type": "display_data"
    }
   ],
   "source": [
    "sapply(pga[,2:11], sd)"
   ]
  },
  {
   "cell_type": "markdown",
   "metadata": {},
   "source": [
    "#### Summary"
   ]
  },
  {
   "cell_type": "code",
   "execution_count": 7,
   "metadata": {},
   "outputs": [
    {
     "data": {
      "text/plain": [
       "   PrizeMoney     AveDrivingDistance DrivingAccuracy      GIR       \n",
       " Min.   :  2240   Min.   :265.9      Min.   :49.75   Min.   :56.87  \n",
       " 1st Qu.: 17369   1st Qu.:283.6      1st Qu.:59.76   1st Qu.:63.52  \n",
       " Median : 36645   Median :288.2      Median :63.24   Median :65.36  \n",
       " Mean   : 50891   Mean   :289.5      Mean   :63.38   Mean   :65.19  \n",
       " 3rd Qu.: 57915   3rd Qu.:295.5      3rd Qu.:66.97   3rd Qu.:66.77  \n",
       " Max.   :662771   Max.   :319.6      Max.   :78.43   Max.   :74.15  \n",
       " PuttingAverage  BirdieConversion   SandSaves       Scrambling   \n",
       " Min.   :1.712   Min.   :23.17    Min.   :33.91   Min.   :49.02  \n",
       " 1st Qu.:1.763   1st Qu.:27.51    1st Qu.:45.13   1st Qu.:55.26  \n",
       " Median :1.778   Median :29.01    Median :48.66   Median :57.65  \n",
       " Mean   :1.780   Mean   :28.98    Mean   :48.97   Mean   :57.49  \n",
       " 3rd Qu.:1.796   3rd Qu.:30.55    3rd Qu.:52.87   3rd Qu.:59.46  \n",
       " Max.   :1.851   Max.   :35.66    Max.   :63.64   Max.   :66.45  \n",
       "   BounceBack    PuttsPerRound  \n",
       " Min.   :12.29   Min.   :27.96  \n",
       " 1st Qu.:17.56   1st Qu.:28.91  \n",
       " Median :19.62   Median :29.19  \n",
       " Mean   :19.60   Mean   :29.20  \n",
       " 3rd Qu.:21.31   3rd Qu.:29.48  \n",
       " Max.   :25.93   Max.   :30.19  "
      ]
     },
     "metadata": {},
     "output_type": "display_data"
    }
   ],
   "source": [
    "summary(pga[,2:11])"
   ]
  },
  {
   "cell_type": "markdown",
   "metadata": {},
   "source": [
    "### (1b)"
   ]
  },
  {
   "cell_type": "code",
   "execution_count": 8,
   "metadata": {},
   "outputs": [
    {
     "data": {
      "image/png": "[encoded data removed]",
      "text/plain": [
       "Plot with title \"PuttsPerRound\""
      ]
     },
     "metadata": {},
     "output_type": "display_data"
    }
   ],
   "source": [
    "j <- 2\n",
    "par(mfrow = c(5,2), mar = c(3,3,3,3))\n",
    "for (i in pga[,2:11]) {\n",
    "    boxplot(i, horizontal = T, main = names(pga)[j])\n",
    "    j <- j+1\n",
    "}"
   ]
  },
  {
   "cell_type": "markdown",
   "metadata": {},
   "source": [
    "### (1c) Density histogram of AveDrivingDistance"
   ]
  },
  {
   "cell_type": "code",
   "execution_count": 111,
   "metadata": {},
   "outputs": [
    {
     "data": {
      "image/png": "[encoded data removed]",
      "text/plain": [
       "Plot with title \"Average Driving Distance\""
      ]
     },
     "metadata": {},
     "output_type": "display_data"
    }
   ],
   "source": [
    "hist(pga$AveDrivingDistance, prob = T, main = 'Average Driving Distance', xlab = 'Average Driving Distance (yard)')\n",
    "options(repr.plot.width=5, repr.plot.height=6)"
   ]
  },
  {
   "cell_type": "markdown",
   "metadata": {},
   "source": [
    "### (1d) Normal plot of AveDrivingDistance"
   ]
  },
  {
   "cell_type": "code",
   "execution_count": 110,
   "metadata": {},
   "outputs": [
    {
     "data": {
      "image/png": "[encoded data removed]",
      "text/plain": [
       "Plot with title \"Normal Q-Q Plot\""
      ]
     },
     "metadata": {},
     "output_type": "display_data"
    }
   ],
   "source": [
    "qqnorm(pga$AveDrivingDistance)\n",
    "options(repr.plot.width=5, repr.plot.height=6)"
   ]
  },
  {
   "cell_type": "markdown",
   "metadata": {},
   "source": [
    "### (1e) Fit a model"
   ]
  },
  {
   "cell_type": "markdown",
   "metadata": {},
   "source": [
    "#### Normal plot"
   ]
  },
  {
   "cell_type": "code",
   "execution_count": 11,
   "metadata": {},
   "outputs": [],
   "source": [
    "fitPgaNorm <- fitdist(pga$AveDrivingDistance, \"norm\")"
   ]
  },
  {
   "cell_type": "code",
   "execution_count": 12,
   "metadata": {},
   "outputs": [
    {
     "data": {
      "image/png": "[encoded data removed]",
      "text/plain": [
       "Plot with title \"P-P plot\""
      ]
     },
     "metadata": {},
     "output_type": "display_data"
    }
   ],
   "source": [
    "plot(fitPgaNorm)"
   ]
  },
  {
   "cell_type": "code",
   "execution_count": 13,
   "metadata": {},
   "outputs": [
    {
     "data": {
      "text/plain": [
       "Fitting of the distribution ' norm ' by maximum likelihood \n",
       "Parameters:\n",
       "       estimate Std. Error\n",
       "mean 289.498469  0.6220149\n",
       "sd     8.708209  0.4398310"
      ]
     },
     "metadata": {},
     "output_type": "display_data"
    }
   ],
   "source": [
    "fitPgaNorm"
   ]
  },
  {
   "cell_type": "markdown",
   "metadata": {},
   "source": [
    "### (1f) 75th percentile of AveDrivingDistance from quantile command"
   ]
  },
  {
   "cell_type": "code",
   "execution_count": 14,
   "metadata": {},
   "outputs": [
    {
     "data": {
      "text/html": [
       "<strong>75%:</strong> 295.525"
      ],
      "text/latex": [
       "\\textbf{75\\textbackslash{}\\%:} 295.525"
      ],
      "text/markdown": [
       "**75%:** 295.525"
      ],
      "text/plain": [
       "    75% \n",
       "295.525 "
      ]
     },
     "metadata": {},
     "output_type": "display_data"
    }
   ],
   "source": [
    "quantile(pga$AveDrivingDistance, 0.75)"
   ]
  },
  {
   "cell_type": "markdown",
   "metadata": {},
   "source": [
    "### (1g) 75th percentile of AveDrivingDistance from fitted model"
   ]
  },
  {
   "cell_type": "code",
   "execution_count": 15,
   "metadata": {},
   "outputs": [
    {
     "data": {
      "text/html": [
       "295.371456744707"
      ],
      "text/latex": [
       "295.371456744707"
      ],
      "text/markdown": [
       "295.371456744707"
      ],
      "text/plain": [
       "[1] 295.3715"
      ]
     },
     "metadata": {},
     "output_type": "display_data"
    }
   ],
   "source": [
    "qnorm(0.75, 289.498, 8.708)"
   ]
  },
  {
   "cell_type": "markdown",
   "metadata": {},
   "source": [
    "### (1h) Bootstrap the 75th percentile"
   ]
  },
  {
   "cell_type": "markdown",
   "metadata": {},
   "source": [
    "#### Bootstrap"
   ]
  },
  {
   "cell_type": "code",
   "execution_count": 49,
   "metadata": {},
   "outputs": [
    {
     "data": {
      "text/plain": [
       "\n",
       "ORDINARY NONPARAMETRIC BOOTSTRAP\n",
       "\n",
       "\n",
       "Call:\n",
       "boot(data = pga$AveDrivingDistance, statistic = thirdQuartile, \n",
       "    R = 500)\n",
       "\n",
       "\n",
       "Bootstrap Statistics :\n",
       "    original  bias    std. error\n",
       "t1*  295.525  0.0622   0.6294172"
      ]
     },
     "metadata": {},
     "output_type": "display_data"
    }
   ],
   "source": [
    "thirdQuartile <- function(d, i){\n",
    "    return(quantile(d[i], 0.75))\n",
    "}\n",
    "thirdQuartileBoot <- boot(data = pga$AveDrivingDistance, statistic = thirdQuartile, R = 500)\n",
    "thirdQuartileBoot"
   ]
  },
  {
   "cell_type": "markdown",
   "metadata": {},
   "source": [
    "#### Plots of sampling distribution"
   ]
  },
  {
   "cell_type": "code",
   "execution_count": 50,
   "metadata": {},
   "outputs": [
    {
     "data": {
      "image/png": "[encoded data removed]",
      "text/plain": [
       "Plot with title \"Bootstrap 75th percentile\""
      ]
     },
     "metadata": {},
     "output_type": "display_data",
     "source": "R display func"
    }
   ],
   "source": [
    "par(mfrow = c(2,2))\n",
    "hist(thirdQuartileBoot$t, freq = F, main = \"Bootstrap 75th percentile\", xlab = \"75th percentile\", xlim = c(292,298))\n",
    "boxplot(thirdQuartileBoot$t, horizontal = T, main = \"Bootstrap 75th percentile\")\n",
    "qqnorm(thirdQuartileBoot$t, main = \"Bootstrap 75th percentile\")\n",
    "options(repr.plot.width=7, repr.plot.height=7)"
   ]
  },
  {
   "cell_type": "markdown",
   "metadata": {},
   "source": [
    "### (1i) Shape of sampling distribution of sample 75th percentile"
   ]
  },
  {
   "cell_type": "markdown",
   "metadata": {},
   "source": [
    "The sampling distribution of the sample 75th percentile resembles a normal distribution. There are a few outliers and 2 extreme outliers out of 500 data points."
   ]
  },
  {
   "cell_type": "markdown",
   "metadata": {},
   "source": [
    "### (1j) 5th and 95th percentiles of sampling distribution of sample 75th percentile"
   ]
  },
  {
   "cell_type": "code",
   "execution_count": 56,
   "metadata": {},
   "outputs": [
    {
     "data": {
      "text/html": [
       "<strong>5%:</strong> 294.6"
      ],
      "text/latex": [
       "\\textbf{5\\textbackslash{}\\%:} 294.6"
      ],
      "text/markdown": [
       "**5%:** 294.6"
      ],
      "text/plain": [
       "   5% \n",
       "294.6 "
      ]
     },
     "metadata": {},
     "output_type": "display_data"
    },
    {
     "data": {
      "text/html": [
       "<strong>95%:</strong> 296.725"
      ],
      "text/latex": [
       "\\textbf{95\\textbackslash{}\\%:} 296.725"
      ],
      "text/markdown": [
       "**95%:** 296.725"
      ],
      "text/plain": [
       "    95% \n",
       "296.725 "
      ]
     },
     "metadata": {},
     "output_type": "display_data"
    }
   ],
   "source": [
    "quantile(thirdQuartileBoot$t, 0.05)\n",
    "quantile(thirdQuartileBoot$t, 0.95)"
   ]
  },
  {
   "cell_type": "markdown",
   "metadata": {},
   "source": [
    "## 2. pgatour200.xlsx analysis"
   ]
  },
  {
   "cell_type": "markdown",
   "metadata": {},
   "source": [
    "### (2a) Pairwise correlations"
   ]
  },
  {
   "cell_type": "code",
   "execution_count": 61,
   "metadata": {},
   "outputs": [
    {
     "data": {
      "text/html": [
       "<table>\n",
       "<thead><tr><th></th><th scope=col>PrizeMoney</th><th scope=col>AveDrivingDistance</th><th scope=col>DrivingAccuracy</th><th scope=col>GIR</th><th scope=col>PuttingAverage</th><th scope=col>BirdieConversion</th><th scope=col>SandSaves</th><th scope=col>Scrambling</th><th scope=col>BounceBack</th><th scope=col>PuttsPerRound</th></tr></thead>\n",
       "<tbody>\n",
       "\t<tr><th scope=row>PrizeMoney</th><td> 1.00000000 </td><td> 0.15900129 </td><td> 0.024677039</td><td> 0.41021935 </td><td>-0.31305150 </td><td> 0.41342953 </td><td> 0.22187452 </td><td> 0.28472059 </td><td> 0.336200304</td><td>-0.11249143 </td></tr>\n",
       "\t<tr><th scope=row>AveDrivingDistance</th><td> 0.15900129 </td><td> 1.00000000 </td><td>-0.590599303</td><td> 0.16460354 </td><td> 0.08595947 </td><td> 0.37568272 </td><td>-0.23669494 </td><td>-0.38033753 </td><td> 0.237508596</td><td> 0.25656855 </td></tr>\n",
       "\t<tr><th scope=row>DrivingAccuracy</th><td> 0.02467704 </td><td>-0.59059930 </td><td> 1.000000000</td><td> 0.41635604 </td><td>-0.02558269 </td><td>-0.25212523 </td><td> 0.03540773 </td><td> 0.39605968 </td><td> 0.001746659</td><td> 0.06031385 </td></tr>\n",
       "\t<tr><th scope=row>GIR</th><td> 0.41021935 </td><td> 0.16460354 </td><td> 0.416356043</td><td> 1.00000000 </td><td> 0.05880737 </td><td> 0.02685014 </td><td>-0.08107691 </td><td> 0.19435094 </td><td> 0.292759294</td><td> 0.48083985 </td></tr>\n",
       "\t<tr><th scope=row>PuttingAverage</th><td>-0.31305150 </td><td> 0.08595947 </td><td>-0.025582688</td><td> 0.05880737 </td><td> 1.00000000 </td><td>-0.76795939 </td><td>-0.26509212 </td><td>-0.19894278 </td><td>-0.318567233</td><td> 0.79168281 </td></tr>\n",
       "\t<tr><th scope=row>BirdieConversion</th><td> 0.41342953 </td><td> 0.37568272 </td><td>-0.252125225</td><td> 0.02685014 </td><td>-0.76795939 </td><td> 1.00000000 </td><td> 0.13050563 </td><td>-0.02891616 </td><td> 0.482625137</td><td>-0.50072564 </td></tr>\n",
       "\t<tr><th scope=row>SandSaves</th><td> 0.22187452 </td><td>-0.23669494 </td><td> 0.035407734</td><td>-0.08107691 </td><td>-0.26509212 </td><td> 0.13050563 </td><td> 1.00000000 </td><td> 0.49626530 </td><td> 0.026284174</td><td>-0.42046979 </td></tr>\n",
       "\t<tr><th scope=row>Scrambling</th><td> 0.28472059 </td><td>-0.38033753 </td><td> 0.396059676</td><td> 0.19435094 </td><td>-0.19894278 </td><td>-0.02891616 </td><td> 0.49626530 </td><td> 1.00000000 </td><td> 0.087693355</td><td>-0.41558527 </td></tr>\n",
       "\t<tr><th scope=row>BounceBack</th><td> 0.33620030 </td><td> 0.23750860 </td><td> 0.001746659</td><td> 0.29275929 </td><td>-0.31856723 </td><td> 0.48262514 </td><td> 0.02628417 </td><td> 0.08769336 </td><td> 1.000000000</td><td>-0.13501883 </td></tr>\n",
       "\t<tr><th scope=row>PuttsPerRound</th><td>-0.11249143 </td><td> 0.25656855 </td><td> 0.060313852</td><td> 0.48083985 </td><td> 0.79168281 </td><td>-0.50072564 </td><td>-0.42046979 </td><td>-0.41558527 </td><td>-0.135018830</td><td> 1.00000000 </td></tr>\n",
       "</tbody>\n",
       "</table>\n"
      ],
      "text/latex": [
       "\\begin{tabular}{r|llllllllll}\n",
       "  & PrizeMoney & AveDrivingDistance & DrivingAccuracy & GIR & PuttingAverage & BirdieConversion & SandSaves & Scrambling & BounceBack & PuttsPerRound\\\\\n",
       "\\hline\n",
       "\tPrizeMoney &  1.00000000  &  0.15900129  &  0.024677039 &  0.41021935  & -0.31305150  &  0.41342953  &  0.22187452  &  0.28472059  &  0.336200304 & -0.11249143 \\\\\n",
       "\tAveDrivingDistance &  0.15900129  &  1.00000000  & -0.590599303 &  0.16460354  &  0.08595947  &  0.37568272  & -0.23669494  & -0.38033753  &  0.237508596 &  0.25656855 \\\\\n",
       "\tDrivingAccuracy &  0.02467704  & -0.59059930  &  1.000000000 &  0.41635604  & -0.02558269  & -0.25212523  &  0.03540773  &  0.39605968  &  0.001746659 &  0.06031385 \\\\\n",
       "\tGIR &  0.41021935  &  0.16460354  &  0.416356043 &  1.00000000  &  0.05880737  &  0.02685014  & -0.08107691  &  0.19435094  &  0.292759294 &  0.48083985 \\\\\n",
       "\tPuttingAverage & -0.31305150  &  0.08595947  & -0.025582688 &  0.05880737  &  1.00000000  & -0.76795939  & -0.26509212  & -0.19894278  & -0.318567233 &  0.79168281 \\\\\n",
       "\tBirdieConversion &  0.41342953  &  0.37568272  & -0.252125225 &  0.02685014  & -0.76795939  &  1.00000000  &  0.13050563  & -0.02891616  &  0.482625137 & -0.50072564 \\\\\n",
       "\tSandSaves &  0.22187452  & -0.23669494  &  0.035407734 & -0.08107691  & -0.26509212  &  0.13050563  &  1.00000000  &  0.49626530  &  0.026284174 & -0.42046979 \\\\\n",
       "\tScrambling &  0.28472059  & -0.38033753  &  0.396059676 &  0.19435094  & -0.19894278  & -0.02891616  &  0.49626530  &  1.00000000  &  0.087693355 & -0.41558527 \\\\\n",
       "\tBounceBack &  0.33620030  &  0.23750860  &  0.001746659 &  0.29275929  & -0.31856723  &  0.48262514  &  0.02628417  &  0.08769336  &  1.000000000 & -0.13501883 \\\\\n",
       "\tPuttsPerRound & -0.11249143  &  0.25656855  &  0.060313852 &  0.48083985  &  0.79168281  & -0.50072564  & -0.42046979  & -0.41558527  & -0.135018830 &  1.00000000 \\\\\n",
       "\\end{tabular}\n"
      ],
      "text/markdown": [
       "\n",
       "| <!--/--> | PrizeMoney | AveDrivingDistance | DrivingAccuracy | GIR | PuttingAverage | BirdieConversion | SandSaves | Scrambling | BounceBack | PuttsPerRound | \n",
       "|---|---|---|---|---|---|---|---|---|---|\n",
       "| PrizeMoney |  1.00000000  |  0.15900129  |  0.024677039 |  0.41021935  | -0.31305150  |  0.41342953  |  0.22187452  |  0.28472059  |  0.336200304 | -0.11249143  | \n",
       "| AveDrivingDistance |  0.15900129  |  1.00000000  | -0.590599303 |  0.16460354  |  0.08595947  |  0.37568272  | -0.23669494  | -0.38033753  |  0.237508596 |  0.25656855  | \n",
       "| DrivingAccuracy |  0.02467704  | -0.59059930  |  1.000000000 |  0.41635604  | -0.02558269  | -0.25212523  |  0.03540773  |  0.39605968  |  0.001746659 |  0.06031385  | \n",
       "| GIR |  0.41021935  |  0.16460354  |  0.416356043 |  1.00000000  |  0.05880737  |  0.02685014  | -0.08107691  |  0.19435094  |  0.292759294 |  0.48083985  | \n",
       "| PuttingAverage | -0.31305150  |  0.08595947  | -0.025582688 |  0.05880737  |  1.00000000  | -0.76795939  | -0.26509212  | -0.19894278  | -0.318567233 |  0.79168281  | \n",
       "| BirdieConversion |  0.41342953  |  0.37568272  | -0.252125225 |  0.02685014  | -0.76795939  |  1.00000000  |  0.13050563  | -0.02891616  |  0.482625137 | -0.50072564  | \n",
       "| SandSaves |  0.22187452  | -0.23669494  |  0.035407734 | -0.08107691  | -0.26509212  |  0.13050563  |  1.00000000  |  0.49626530  |  0.026284174 | -0.42046979  | \n",
       "| Scrambling |  0.28472059  | -0.38033753  |  0.396059676 |  0.19435094  | -0.19894278  | -0.02891616  |  0.49626530  |  1.00000000  |  0.087693355 | -0.41558527  | \n",
       "| BounceBack |  0.33620030  |  0.23750860  |  0.001746659 |  0.29275929  | -0.31856723  |  0.48262514  |  0.02628417  |  0.08769336  |  1.000000000 | -0.13501883  | \n",
       "| PuttsPerRound | -0.11249143  |  0.25656855  |  0.060313852 |  0.48083985  |  0.79168281  | -0.50072564  | -0.42046979  | -0.41558527  | -0.135018830 |  1.00000000  | \n",
       "\n",
       "\n"
      ],
      "text/plain": [
       "                   PrizeMoney  AveDrivingDistance DrivingAccuracy GIR        \n",
       "PrizeMoney          1.00000000  0.15900129         0.024677039     0.41021935\n",
       "AveDrivingDistance  0.15900129  1.00000000        -0.590599303     0.16460354\n",
       "DrivingAccuracy     0.02467704 -0.59059930         1.000000000     0.41635604\n",
       "GIR                 0.41021935  0.16460354         0.416356043     1.00000000\n",
       "PuttingAverage     -0.31305150  0.08595947        -0.025582688     0.05880737\n",
       "BirdieConversion    0.41342953  0.37568272        -0.252125225     0.02685014\n",
       "SandSaves           0.22187452 -0.23669494         0.035407734    -0.08107691\n",
       "Scrambling          0.28472059 -0.38033753         0.396059676     0.19435094\n",
       "BounceBack          0.33620030  0.23750860         0.001746659     0.29275929\n",
       "PuttsPerRound      -0.11249143  0.25656855         0.060313852     0.48083985\n",
       "                   PuttingAverage BirdieConversion SandSaves   Scrambling \n",
       "PrizeMoney         -0.31305150     0.41342953       0.22187452  0.28472059\n",
       "AveDrivingDistance  0.08595947     0.37568272      -0.23669494 -0.38033753\n",
       "DrivingAccuracy    -0.02558269    -0.25212523       0.03540773  0.39605968\n",
       "GIR                 0.05880737     0.02685014      -0.08107691  0.19435094\n",
       "PuttingAverage      1.00000000    -0.76795939      -0.26509212 -0.19894278\n",
       "BirdieConversion   -0.76795939     1.00000000       0.13050563 -0.02891616\n",
       "SandSaves          -0.26509212     0.13050563       1.00000000  0.49626530\n",
       "Scrambling         -0.19894278    -0.02891616       0.49626530  1.00000000\n",
       "BounceBack         -0.31856723     0.48262514       0.02628417  0.08769336\n",
       "PuttsPerRound       0.79168281    -0.50072564      -0.42046979 -0.41558527\n",
       "                   BounceBack   PuttsPerRound\n",
       "PrizeMoney          0.336200304 -0.11249143  \n",
       "AveDrivingDistance  0.237508596  0.25656855  \n",
       "DrivingAccuracy     0.001746659  0.06031385  \n",
       "GIR                 0.292759294  0.48083985  \n",
       "PuttingAverage     -0.318567233  0.79168281  \n",
       "BirdieConversion    0.482625137 -0.50072564  \n",
       "SandSaves           0.026284174 -0.42046979  \n",
       "Scrambling          0.087693355 -0.41558527  \n",
       "BounceBack          1.000000000 -0.13501883  \n",
       "PuttsPerRound      -0.135018830  1.00000000  "
      ]
     },
     "metadata": {},
     "output_type": "display_data"
    }
   ],
   "source": [
    "cor(pga[, 2:11])"
   ]
  },
  {
   "cell_type": "markdown",
   "metadata": {},
   "source": [
    "### (2b) Create and add natural logarithm of PrizeMoney to dataframe"
   ]
  },
  {
   "cell_type": "code",
   "execution_count": 52,
   "metadata": {},
   "outputs": [],
   "source": [
    "lnPrize <- log(pga$PrizeMoney)\n",
    "pga$lnPrize <- lnPrize"
   ]
  },
  {
   "cell_type": "markdown",
   "metadata": {},
   "source": [
    "### (2c) Correlation of lnPrize with all variables except for PrizeMoney"
   ]
  },
  {
   "cell_type": "code",
   "execution_count": 65,
   "metadata": {},
   "outputs": [
    {
     "data": {
      "text/html": [
       "<table>\n",
       "<thead><tr><th scope=col>AveDrivingDistance</th><th scope=col>DrivingAccuracy</th><th scope=col>GIR</th><th scope=col>PuttingAverage</th><th scope=col>BirdieConversion</th><th scope=col>SandSaves</th><th scope=col>Scrambling</th><th scope=col>BounceBack</th><th scope=col>PuttsPerRound</th></tr></thead>\n",
       "<tbody>\n",
       "\t<tr><td>0.07587079</td><td>0.1816729 </td><td>0.5048932 </td><td>-0.4301117</td><td>0.4673991 </td><td>0.2414879 </td><td>0.3671877 </td><td>0.401781  </td><td>-0.183298 </td></tr>\n",
       "</tbody>\n",
       "</table>\n"
      ],
      "text/latex": [
       "\\begin{tabular}{lllllllll}\n",
       " AveDrivingDistance & DrivingAccuracy & GIR & PuttingAverage & BirdieConversion & SandSaves & Scrambling & BounceBack & PuttsPerRound\\\\\n",
       "\\hline\n",
       "\t 0.07587079 & 0.1816729  & 0.5048932  & -0.4301117 & 0.4673991  & 0.2414879  & 0.3671877  & 0.401781   & -0.183298 \\\\\n",
       "\\end{tabular}\n"
      ],
      "text/markdown": [
       "\n",
       "AveDrivingDistance | DrivingAccuracy | GIR | PuttingAverage | BirdieConversion | SandSaves | Scrambling | BounceBack | PuttsPerRound | \n",
       "|---|\n",
       "| 0.07587079 | 0.1816729  | 0.5048932  | -0.4301117 | 0.4673991  | 0.2414879  | 0.3671877  | 0.401781   | -0.183298  | \n",
       "\n",
       "\n"
      ],
      "text/plain": [
       "     AveDrivingDistance DrivingAccuracy GIR       PuttingAverage\n",
       "[1,] 0.07587079         0.1816729       0.5048932 -0.4301117    \n",
       "     BirdieConversion SandSaves Scrambling BounceBack PuttsPerRound\n",
       "[1,] 0.4673991        0.2414879 0.3671877  0.401781   -0.183298    "
      ]
     },
     "metadata": {},
     "output_type": "display_data"
    }
   ],
   "source": [
    "cor(lnPrize, pga[, 3:11])"
   ]
  },
  {
   "cell_type": "markdown",
   "metadata": {},
   "source": [
    "### (2d) Scatterplot of lnPrize versus GIR with LOESS line. Identify outliers + summarize."
   ]
  },
  {
   "cell_type": "code",
   "execution_count": 151,
   "metadata": {},
   "outputs": [
    {
     "data": {
      "image/png": "[encoded data removed]",
      "text/plain": [
       "Plot with title \"lnPrize vs GIR\""
      ]
     },
     "metadata": {},
     "output_type": "display_data"
    }
   ],
   "source": [
    "GIR <- pga$GIR\n",
    "options(repr.plot.width=6, repr.plot.height=6)\n",
    "scatter.smooth(GIR, lnPrize, main = \"lnPrize vs GIR\", xlab = \"Greens In Regulation (%)\", ylab = \"Natural log of Prize Money\")"
   ]
  },
  {
   "cell_type": "markdown",
   "metadata": {},
   "source": [
    "The scatterplot demonstrates a moderate positive linear relationship between Natural log of Prize Money and Greens in Regulation (r = 0.505). There are no obvious outliers."
   ]
  },
  {
   "cell_type": "markdown",
   "metadata": {},
   "source": [
    "### (2e) Bootstrap sampling distribution of correlation between lnPrize and GIR"
   ]
  },
  {
   "cell_type": "markdown",
   "metadata": {},
   "source": [
    "#### Bootstrap"
   ]
  },
  {
   "cell_type": "code",
   "execution_count": 53,
   "metadata": {},
   "outputs": [
    {
     "data": {
      "text/plain": [
       "\n",
       "ORDINARY NONPARAMETRIC BOOTSTRAP\n",
       "\n",
       "\n",
       "Call:\n",
       "boot(data = pga, statistic = corre, R = 500)\n",
       "\n",
       "\n",
       "Bootstrap Statistics :\n",
       "     original       bias    std. error\n",
       "t1* 0.5048932 -0.001418225  0.06268673"
      ]
     },
     "metadata": {},
     "output_type": "display_data"
    }
   ],
   "source": [
    "corre <- function(x, i){\n",
    "    return(cor(x$lnPrize[i], x$GIR[i]))\n",
    "}\n",
    "correBoot <- boot(data = pga, statistic = corre, R = 500)\n",
    "correBoot"
   ]
  },
  {
   "cell_type": "markdown",
   "metadata": {},
   "source": [
    "#### Plots of sampling distribution"
   ]
  },
  {
   "cell_type": "code",
   "execution_count": 54,
   "metadata": {},
   "outputs": [
    {
     "data": {
      "image/png": "[encoded data removed]",
      "text/plain": [
       "Plot with title \"Bootstrap correlation\""
      ]
     },
     "metadata": {},
     "output_type": "display_data",
     "source": "R display func"
    }
   ],
   "source": [
    "par(mfrow = c(1,2))\n",
    "options(repr.plot.width=7, repr.plot.height=4)\n",
    "hist(correBoot$t, freq = F, main = \"Bootstrap correlation\", xlab = \"Correlation between lnPrize and GIR\")\n",
    "qqnorm(correBoot$t, main = \"Bootstrap correlation\")"
   ]
  },
  {
   "cell_type": "markdown",
   "metadata": {},
   "source": [
    "### (2f) Fit the model lnPrize~GIR"
   ]
  },
  {
   "cell_type": "code",
   "execution_count": 154,
   "metadata": {},
   "outputs": [],
   "source": [
    "lnPrizeGIR <- lm(lnPrize~GIR)"
   ]
  },
  {
   "cell_type": "code",
   "execution_count": 155,
   "metadata": {},
   "outputs": [
    {
     "data": {
      "text/plain": [
       "\n",
       "Call:\n",
       "lm(formula = lnPrize ~ GIR)\n",
       "\n",
       "Residuals:\n",
       "     Min       1Q   Median       3Q      Max \n",
       "-2.13396 -0.55742  0.06891  0.52960  2.32133 \n",
       "\n",
       "Coefficients:\n",
       "            Estimate Std. Error t value Pr(>|t|)    \n",
       "(Intercept) -1.47207    1.45580  -1.011    0.313    \n",
       "GIR          0.18179    0.02231   8.147 4.49e-14 ***\n",
       "---\n",
       "Signif. codes:  0 '***' 0.001 '**' 0.01 '*' 0.05 '.' 0.1 ' ' 1\n",
       "\n",
       "Residual standard error: 0.8483 on 194 degrees of freedom\n",
       "Multiple R-squared:  0.2549,\tAdjusted R-squared:  0.2511 \n",
       "F-statistic: 66.37 on 1 and 194 DF,  p-value: 4.486e-14\n"
      ]
     },
     "metadata": {},
     "output_type": "display_data"
    }
   ],
   "source": [
    "summary(lnPrizeGIR)"
   ]
  },
  {
   "cell_type": "markdown",
   "metadata": {},
   "source": [
    "#### Fitted equation: lnPrize = 0.18179 * GIR - 1.47207"
   ]
  },
  {
   "cell_type": "code",
   "execution_count": 156,
   "metadata": {},
   "outputs": [
    {
     "data": {
      "image/png": "[encoded data removed]",
      "text/plain": [
       "Plot with title \"\""
      ]
     },
     "metadata": {},
     "output_type": "display_data"
    }
   ],
   "source": [
    "par(mfrow = c(2,2))\n",
    "options(repr.plot.width=7, repr.plot.height=7)\n",
    "plot(lnPrizeGIR)"
   ]
  },
  {
   "cell_type": "markdown",
   "metadata": {},
   "source": [
    "### (2g) Estimate lnPrize when GIR = 65"
   ]
  },
  {
   "cell_type": "code",
   "execution_count": 161,
   "metadata": {},
   "outputs": [
    {
     "data": {
      "text/html": [
       "<dl>\n",
       "\t<dt>$fit</dt>\n",
       "\t\t<dd><strong>1:</strong> 10.3442535019428</dd>\n",
       "\t<dt>$se.fit</dt>\n",
       "\t\t<dd>0.0607328205851393</dd>\n",
       "\t<dt>$df</dt>\n",
       "\t\t<dd>194</dd>\n",
       "\t<dt>$residual.scale</dt>\n",
       "\t\t<dd>0.848270263557247</dd>\n",
       "</dl>\n"
      ],
      "text/latex": [
       "\\begin{description}\n",
       "\\item[\\$fit] \\textbf{1:} 10.3442535019428\n",
       "\\item[\\$se.fit] 0.0607328205851393\n",
       "\\item[\\$df] 194\n",
       "\\item[\\$residual.scale] 0.848270263557247\n",
       "\\end{description}\n"
      ],
      "text/markdown": [
       "$fit\n",
       ":   **1:** 10.3442535019428\n",
       "$se.fit\n",
       ":   0.0607328205851393\n",
       "$df\n",
       ":   194\n",
       "$residual.scale\n",
       ":   0.848270263557247\n",
       "\n",
       "\n"
      ],
      "text/plain": [
       "$fit\n",
       "       1 \n",
       "10.34425 \n",
       "\n",
       "$se.fit\n",
       "[1] 0.06073282\n",
       "\n",
       "$df\n",
       "[1] 194\n",
       "\n",
       "$residual.scale\n",
       "[1] 0.8482703\n"
      ]
     },
     "metadata": {},
     "output_type": "display_data"
    }
   ],
   "source": [
    "predict.lm(lnPrizeGIR, data.frame(GIR=65), se.fit = T)"
   ]
  },
  {
   "cell_type": "markdown",
   "metadata": {},
   "source": [
    "### (2h) Transform the fitted value in part 2g back to $ units"
   ]
  },
  {
   "cell_type": "code",
   "execution_count": 171,
   "metadata": {},
   "outputs": [
    {
     "data": {
      "text/html": [
       "'$ unit'"
      ],
      "text/latex": [
       "'\\$ unit'"
      ],
      "text/markdown": [
       "'$ unit'"
      ],
      "text/plain": [
       "[1] \"$ unit\""
      ]
     },
     "metadata": {},
     "output_type": "display_data"
    },
    {
     "data": {
      "text/html": [
       "31077.8305524319"
      ],
      "text/latex": [
       "31077.8305524319"
      ],
      "text/markdown": [
       "31077.8305524319"
      ],
      "text/plain": [
       "[1] 31077.83"
      ]
     },
     "metadata": {},
     "output_type": "display_data"
    }
   ],
   "source": [
    "'$ unit'\n",
    "exp(10.34425)"
   ]
  },
  {
   "cell_type": "markdown",
   "metadata": {},
   "source": [
    "## 3. Titanic-Survival-Data.xlsx analysis"
   ]
  },
  {
   "cell_type": "markdown",
   "metadata": {},
   "source": [
    "### (3a) Summarize Age"
   ]
  },
  {
   "cell_type": "code",
   "execution_count": 3,
   "metadata": {},
   "outputs": [],
   "source": [
    "titanic <- read_excel('Titanic-Survival-Data.xlsx')"
   ]
  },
  {
   "cell_type": "code",
   "execution_count": 4,
   "metadata": {},
   "outputs": [
    {
     "name": "stdout",
     "output_type": "stream",
     "text": [
      "Classes 'tbl_df', 'tbl' and 'data.frame':\t2201 obs. of  5 variables:\n",
      " $ Class       : chr  \"Coach\" \"Coach\" \"Coach\" \"Coach\" ...\n",
      " $ Gender      : chr  \"Female\" \"Female\" \"Female\" \"Female\" ...\n",
      " $ Age         : num  20 21 26 26 36 41 41 45 45 48 ...\n",
      " $ Status      : chr  \"Survived\" \"Survived\" \"Survived\" \"Died\" ...\n",
      " $ ChildorAdult: chr  \"Adult\" \"Adult\" \"Adult\" \"Adult\" ...\n"
     ]
    }
   ],
   "source": [
    "str(titanic)"
   ]
  },
  {
   "cell_type": "markdown",
   "metadata": {},
   "source": [
    "#### 10% trimmed mean"
   ]
  },
  {
   "cell_type": "code",
   "execution_count": 5,
   "metadata": {},
   "outputs": [
    {
     "data": {
      "text/html": [
       "47.4599659284497"
      ],
      "text/latex": [
       "47.4599659284497"
      ],
      "text/markdown": [
       "47.4599659284497"
      ],
      "text/plain": [
       "[1] 47.45997"
      ]
     },
     "metadata": {},
     "output_type": "display_data"
    }
   ],
   "source": [
    "mean(titanic$Age, trim = 0.1)"
   ]
  },
  {
   "cell_type": "markdown",
   "metadata": {},
   "source": [
    "#### Standard Deviation"
   ]
  },
  {
   "cell_type": "code",
   "execution_count": 6,
   "metadata": {},
   "outputs": [
    {
     "data": {
      "text/html": [
       "19.5976186008994"
      ],
      "text/latex": [
       "19.5976186008994"
      ],
      "text/markdown": [
       "19.5976186008994"
      ],
      "text/plain": [
       "[1] 19.59762"
      ]
     },
     "metadata": {},
     "output_type": "display_data"
    }
   ],
   "source": [
    "sd(titanic$Age)"
   ]
  },
  {
   "cell_type": "code",
   "execution_count": 7,
   "metadata": {},
   "outputs": [
    {
     "data": {
      "text/plain": [
       "   Min. 1st Qu.  Median    Mean 3rd Qu.    Max. \n",
       "   1.00   31.00   48.00   47.12   64.00   80.00 "
      ]
     },
     "metadata": {},
     "output_type": "display_data"
    }
   ],
   "source": [
    "summary(titanic$Age)"
   ]
  },
  {
   "cell_type": "markdown",
   "metadata": {},
   "source": [
    "### (3b) Tabulate survivors vs non-survivors"
   ]
  },
  {
   "cell_type": "code",
   "execution_count": 8,
   "metadata": {},
   "outputs": [
    {
     "data": {
      "text/plain": [
       "\n",
       "    Died Survived \n",
       "    1490      711 "
      ]
     },
     "metadata": {},
     "output_type": "display_data"
    }
   ],
   "source": [
    "table(titanic$Status)"
   ]
  },
  {
   "cell_type": "markdown",
   "metadata": {},
   "source": [
    "### (3c) Tabulate males vs females"
   ]
  },
  {
   "cell_type": "code",
   "execution_count": 9,
   "metadata": {},
   "outputs": [
    {
     "data": {
      "text/plain": [
       "\n",
       "Female   Male \n",
       "   470   1731 "
      ]
     },
     "metadata": {},
     "output_type": "display_data"
    }
   ],
   "source": [
    "table(titanic$Gender)"
   ]
  },
  {
   "cell_type": "markdown",
   "metadata": {},
   "source": [
    "### (3d) Tabulate the number in each pasenger class"
   ]
  },
  {
   "cell_type": "code",
   "execution_count": 10,
   "metadata": {},
   "outputs": [
    {
     "data": {
      "text/plain": [
       "\n",
       "Coach First \n",
       " 1876   325 "
      ]
     },
     "metadata": {},
     "output_type": "display_data"
    }
   ],
   "source": [
    "table(titanic$Class)"
   ]
  },
  {
   "cell_type": "markdown",
   "metadata": {},
   "source": [
    "### (3e) Cross-tabulate survivors vs non-survivors by gender"
   ]
  },
  {
   "cell_type": "code",
   "execution_count": 11,
   "metadata": {},
   "outputs": [
    {
     "data": {
      "text/plain": [
       "          \n",
       "           Female Male\n",
       "  Died        126 1364\n",
       "  Survived    344  367"
      ]
     },
     "metadata": {},
     "output_type": "display_data"
    }
   ],
   "source": [
    "table(titanic$Status, titanic$Gender)"
   ]
  },
  {
   "cell_type": "markdown",
   "metadata": {},
   "source": [
    "### (3f) Cross-tabulate survivors vs non-survivors by passenger class"
   ]
  },
  {
   "cell_type": "code",
   "execution_count": 12,
   "metadata": {},
   "outputs": [
    {
     "data": {
      "text/plain": [
       "          \n",
       "           Coach First\n",
       "  Died      1368   122\n",
       "  Survived   508   203"
      ]
     },
     "metadata": {},
     "output_type": "display_data"
    }
   ],
   "source": [
    "table(titanic$Status, titanic$Class)"
   ]
  },
  {
   "cell_type": "markdown",
   "metadata": {},
   "source": [
    "### (3g) Cross-tabulate survivors vs non-survivors by ChildorAdult"
   ]
  },
  {
   "cell_type": "code",
   "execution_count": 13,
   "metadata": {},
   "outputs": [
    {
     "data": {
      "text/plain": [
       "          \n",
       "           Adult Child\n",
       "  Died      1438    52\n",
       "  Survived   654    57"
      ]
     },
     "metadata": {},
     "output_type": "display_data"
    }
   ],
   "source": [
    "table(titanic$Status, titanic$ChildorAdult)"
   ]
  },
  {
   "cell_type": "markdown",
   "metadata": {},
   "source": [
    "### (3h) Estimate proportion of males that survived and its standard error"
   ]
  },
  {
   "cell_type": "markdown",
   "metadata": {},
   "source": [
    "#### Sample proportion"
   ]
  },
  {
   "cell_type": "code",
   "execution_count": 14,
   "metadata": {},
   "outputs": [
    {
     "data": {
      "text/html": [
       "0.212016175621028"
      ],
      "text/latex": [
       "0.212016175621028"
      ],
      "text/markdown": [
       "0.212016175621028"
      ],
      "text/plain": [
       "[1] 0.2120162"
      ]
     },
     "metadata": {},
     "output_type": "display_data"
    }
   ],
   "source": [
    "pMale <- 367/(367 + 1364)\n",
    "pMale"
   ]
  },
  {
   "cell_type": "markdown",
   "metadata": {},
   "source": [
    "#### Estimated standard error"
   ]
  },
  {
   "cell_type": "code",
   "execution_count": 15,
   "metadata": {},
   "outputs": [
    {
     "data": {
      "text/html": [
       "0.00982414164386597"
      ],
      "text/latex": [
       "0.00982414164386597"
      ],
      "text/markdown": [
       "0.00982414164386597"
      ],
      "text/plain": [
       "[1] 0.009824142"
      ]
     },
     "metadata": {},
     "output_type": "display_data"
    }
   ],
   "source": [
    "SEpMale <- sqrt(pMale*(1-pMale)/(367 + 1364))\n",
    "SEpMale"
   ]
  },
  {
   "cell_type": "markdown",
   "metadata": {},
   "source": [
    "### (3i) Estimate proportion of females that survived and its standard error"
   ]
  },
  {
   "cell_type": "markdown",
   "metadata": {},
   "source": [
    "#### Sample proportion"
   ]
  },
  {
   "cell_type": "code",
   "execution_count": 16,
   "metadata": {},
   "outputs": [
    {
     "data": {
      "text/html": [
       "0.731914893617021"
      ],
      "text/latex": [
       "0.731914893617021"
      ],
      "text/markdown": [
       "0.731914893617021"
      ],
      "text/plain": [
       "[1] 0.7319149"
      ]
     },
     "metadata": {},
     "output_type": "display_data"
    }
   ],
   "source": [
    "pFemale <- 344/(344 + 126)\n",
    "pFemale"
   ]
  },
  {
   "cell_type": "markdown",
   "metadata": {},
   "source": [
    "#### Estimated standard error"
   ]
  },
  {
   "cell_type": "code",
   "execution_count": 17,
   "metadata": {},
   "outputs": [
    {
     "data": {
      "text/html": [
       "0.0204323211894421"
      ],
      "text/latex": [
       "0.0204323211894421"
      ],
      "text/markdown": [
       "0.0204323211894421"
      ],
      "text/plain": [
       "[1] 0.02043232"
      ]
     },
     "metadata": {},
     "output_type": "display_data"
    }
   ],
   "source": [
    "SEpFemale <- sqrt(pFemale*(1-pFemale)/(344 + 126))\n",
    "SEpFemale"
   ]
  },
  {
   "cell_type": "markdown",
   "metadata": {},
   "source": [
    "### (3j) Estimate probability of survival for children and its standard error"
   ]
  },
  {
   "cell_type": "markdown",
   "metadata": {},
   "source": [
    "#### Sample proportion"
   ]
  },
  {
   "cell_type": "code",
   "execution_count": 18,
   "metadata": {},
   "outputs": [
    {
     "data": {
      "text/html": [
       "0.270788912579957"
      ],
      "text/latex": [
       "0.270788912579957"
      ],
      "text/markdown": [
       "0.270788912579957"
      ],
      "text/plain": [
       "[1] 0.2707889"
      ]
     },
     "metadata": {},
     "output_type": "display_data"
    }
   ],
   "source": [
    "pCoach <- 508/(508 + 1368)\n",
    "pCoach"
   ]
  },
  {
   "cell_type": "markdown",
   "metadata": {},
   "source": [
    "#### Estimated standard error"
   ]
  },
  {
   "cell_type": "code",
   "execution_count": 19,
   "metadata": {},
   "outputs": [
    {
     "data": {
      "text/html": [
       "0.02049713407075"
      ],
      "text/latex": [
       "0.02049713407075"
      ],
      "text/markdown": [
       "0.02049713407075"
      ],
      "text/plain": [
       "[1] 0.02049713"
      ]
     },
     "metadata": {},
     "output_type": "display_data"
    }
   ],
   "source": [
    "SEpCoach <- sqrt(pCoach*(1-pCoach)/(344 + 126))\n",
    "SEpCoach"
   ]
  },
  {
   "cell_type": "markdown",
   "metadata": {},
   "source": [
    "### (3k) Estimate probability of survival for children and its standard error"
   ]
  },
  {
   "cell_type": "markdown",
   "metadata": {},
   "source": [
    "#### Sample proportion"
   ]
  },
  {
   "cell_type": "code",
   "execution_count": 20,
   "metadata": {},
   "outputs": [
    {
     "data": {
      "text/html": [
       "0.522935779816514"
      ],
      "text/latex": [
       "0.522935779816514"
      ],
      "text/markdown": [
       "0.522935779816514"
      ],
      "text/plain": [
       "[1] 0.5229358"
      ]
     },
     "metadata": {},
     "output_type": "display_data"
    }
   ],
   "source": [
    "pChild <- 57/(52+57)\n",
    "pChild"
   ]
  },
  {
   "cell_type": "markdown",
   "metadata": {},
   "source": [
    "#### Estimated standard error"
   ]
  },
  {
   "cell_type": "code",
   "execution_count": 21,
   "metadata": {},
   "outputs": [
    {
     "data": {
      "text/html": [
       "0.0478409012760106"
      ],
      "text/latex": [
       "0.0478409012760106"
      ],
      "text/markdown": [
       "0.0478409012760106"
      ],
      "text/plain": [
       "[1] 0.0478409"
      ]
     },
     "metadata": {},
     "output_type": "display_data"
    }
   ],
   "source": [
    "SEpChild <- sqrt(pChild*(1-pChild)/(52 + 57))\n",
    "SEpChild"
   ]
  },
  {
   "cell_type": "markdown",
   "metadata": {},
   "source": [
    "## 4. Titanic-Survival-Data.xlsx analysis"
   ]
  },
  {
   "cell_type": "markdown",
   "metadata": {},
   "source": [
    "### (4a) Estimate median age of males that survive"
   ]
  },
  {
   "cell_type": "markdown",
   "metadata": {},
   "source": [
    "#### Subset male survivors"
   ]
  },
  {
   "cell_type": "code",
   "execution_count": 32,
   "metadata": {},
   "outputs": [],
   "source": [
    "maleSurvivors = subset(titanic, Gender == 'Male', Status = 'Survived')"
   ]
  },
  {
   "cell_type": "markdown",
   "metadata": {},
   "source": [
    "#### Median age of male survivors"
   ]
  },
  {
   "cell_type": "code",
   "execution_count": 33,
   "metadata": {},
   "outputs": [
    {
     "data": {
      "text/html": [
       "48"
      ],
      "text/latex": [
       "48"
      ],
      "text/markdown": [
       "48"
      ],
      "text/plain": [
       "[1] 48"
      ]
     },
     "metadata": {},
     "output_type": "display_data"
    }
   ],
   "source": [
    "median(maleSurvivors$Age)"
   ]
  },
  {
   "cell_type": "markdown",
   "metadata": {},
   "source": [
    "### (4b) Estimate median age of females that survive"
   ]
  },
  {
   "cell_type": "markdown",
   "metadata": {},
   "source": [
    "#### Subset female survivors"
   ]
  },
  {
   "cell_type": "code",
   "execution_count": 34,
   "metadata": {},
   "outputs": [],
   "source": [
    "femaleSurvivors = subset(titanic, Gender == 'Female', Status = 'Survived')"
   ]
  },
  {
   "cell_type": "markdown",
   "metadata": {},
   "source": [
    "#### Median age of female survivors"
   ]
  },
  {
   "cell_type": "code",
   "execution_count": 35,
   "metadata": {},
   "outputs": [
    {
     "data": {
      "text/html": [
       "47"
      ],
      "text/latex": [
       "47"
      ],
      "text/markdown": [
       "47"
      ],
      "text/plain": [
       "[1] 47"
      ]
     },
     "metadata": {},
     "output_type": "display_data"
    }
   ],
   "source": [
    "median(femaleSurvivors$Age)"
   ]
  },
  {
   "cell_type": "markdown",
   "metadata": {},
   "source": [
    "### (4c) Bootstrap sampling distribution of median age of males that survived"
   ]
  },
  {
   "cell_type": "markdown",
   "metadata": {},
   "source": [
    "#### Bootstrap"
   ]
  },
  {
   "cell_type": "code",
   "execution_count": 55,
   "metadata": {},
   "outputs": [
    {
     "data": {
      "text/plain": [
       "\n",
       "ORDINARY NONPARAMETRIC BOOTSTRAP\n",
       "\n",
       "\n",
       "Call:\n",
       "boot(data = maleSurvivors$Age, statistic = medianFc, R = 500)\n",
       "\n",
       "\n",
       "Bootstrap Statistics :\n",
       "    original  bias    std. error\n",
       "t1*       48   0.388   0.8572782"
      ]
     },
     "metadata": {},
     "output_type": "display_data"
    }
   ],
   "source": [
    "medianFc <- function(x, i){\n",
    "    return(median(x[i]))\n",
    "}\n",
    "medianMaleBoot <- boot(data = maleSurvivors$Age, statistic = medianFc, 500)\n",
    "medianMaleBoot"
   ]
  },
  {
   "cell_type": "markdown",
   "metadata": {},
   "source": [
    "#### Plots of sampling distribution"
   ]
  },
  {
   "cell_type": "code",
   "execution_count": 56,
   "metadata": {},
   "outputs": [
    {
     "data": {
      "image/png": "[encoded data removed]",
      "text/plain": [
       "Plot with title \"Bootstrap median age of male survivors\""
      ]
     },
     "metadata": {},
     "output_type": "display_data",
     "source": "R display func"
    }
   ],
   "source": [
    "par(mfrow = c(2,2))\n",
    "options(repr.plot.width=7, repr.plot.height=7)\n",
    "hist(medianMaleBoot$t, freq = F, main = \"Bootstrap median age of male survivors\", xlab = \"Median age of male survivors\")\n",
    "boxplot(medianMaleBoot$t, horizontal = T, main = \"Bootstrap median age of male survivors\")\n",
    "qqnorm(medianMaleBoot$t, main = \"Bootstrap median age of male survivors\")"
   ]
  },
  {
   "cell_type": "markdown",
   "metadata": {},
   "source": [
    "### (4d) Bootstrap sampling distribution of median age of females that survived"
   ]
  },
  {
   "cell_type": "markdown",
   "metadata": {},
   "source": [
    "#### Bootstrap"
   ]
  },
  {
   "cell_type": "code",
   "execution_count": 57,
   "metadata": {},
   "outputs": [
    {
     "data": {
      "text/plain": [
       "\n",
       "ORDINARY NONPARAMETRIC BOOTSTRAP\n",
       "\n",
       "\n",
       "Call:\n",
       "boot(data = femaleSurvivors$Age, statistic = medianFc, R = 500)\n",
       "\n",
       "\n",
       "Bootstrap Statistics :\n",
       "    original  bias    std. error\n",
       "t1*       47  -0.058    1.457355"
      ]
     },
     "metadata": {},
     "output_type": "display_data"
    }
   ],
   "source": [
    "medianFemaleBoot <- boot(data = femaleSurvivors$Age, statistic = medianFc, 500)\n",
    "medianFemaleBoot"
   ]
  },
  {
   "cell_type": "markdown",
   "metadata": {},
   "source": [
    "#### Plots of sampling distribution"
   ]
  },
  {
   "cell_type": "code",
   "execution_count": 58,
   "metadata": {},
   "outputs": [
    {
     "data": {
      "image/png": "[encoded data removed]",
      "text/plain": [
       "Plot with title \"Bootstrapped median age of female survivors\""
      ]
     },
     "metadata": {},
     "output_type": "display_data",
     "source": "R display func"
    }
   ],
   "source": [
    "par(mfrow = c(2,2))\n",
    "options(repr.plot.width=7, repr.plot.height=7)\n",
    "hist(medianFemaleBoot$t, freq = F, main = \"Bootstrap median age of female survivors\", xlab = \"Median age of male survivors\")\n",
    "boxplot(medianFemaleBoot$t, horizontal = T, main = \"Bootstrap median age of female survivors\")\n",
    "qqnorm(medianFemaleBoot$t, main = \"Bootstrapped median age of female survivors\")"
   ]
  },
  {
   "cell_type": "markdown",
   "metadata": {},
   "source": [
    "### (4e) Estimate median age of first class passengers that survived"
   ]
  },
  {
   "cell_type": "markdown",
   "metadata": {},
   "source": [
    "#### Subset first class survivors"
   ]
  },
  {
   "cell_type": "code",
   "execution_count": 59,
   "metadata": {},
   "outputs": [],
   "source": [
    "firstClassSurvivors = subset(titanic, Class == 'First', Status = 'Survived')"
   ]
  },
  {
   "cell_type": "markdown",
   "metadata": {},
   "source": [
    "#### Median age of first class survivors"
   ]
  },
  {
   "cell_type": "code",
   "execution_count": 60,
   "metadata": {},
   "outputs": [
    {
     "data": {
      "text/html": [
       "50"
      ],
      "text/latex": [
       "50"
      ],
      "text/markdown": [
       "50"
      ],
      "text/plain": [
       "[1] 50"
      ]
     },
     "metadata": {},
     "output_type": "display_data"
    }
   ],
   "source": [
    "median(firstClassSurvivors$Age)"
   ]
  },
  {
   "cell_type": "markdown",
   "metadata": {},
   "source": [
    "### (4f) Estimate median age of coach class passengers that survived"
   ]
  },
  {
   "cell_type": "markdown",
   "metadata": {},
   "source": [
    "#### Subset coach class survivors"
   ]
  },
  {
   "cell_type": "code",
   "execution_count": 61,
   "metadata": {},
   "outputs": [],
   "source": [
    "coachClassSurvivors = subset(titanic, Class == 'Coach', Status = 'Survived')"
   ]
  },
  {
   "cell_type": "markdown",
   "metadata": {},
   "source": [
    "#### Median age of coach class survivors"
   ]
  },
  {
   "cell_type": "code",
   "execution_count": 62,
   "metadata": {},
   "outputs": [
    {
     "data": {
      "text/html": [
       "48"
      ],
      "text/latex": [
       "48"
      ],
      "text/markdown": [
       "48"
      ],
      "text/plain": [
       "[1] 48"
      ]
     },
     "metadata": {},
     "output_type": "display_data"
    }
   ],
   "source": [
    "median(coachClassSurvivors$Age)"
   ]
  },
  {
   "cell_type": "markdown",
   "metadata": {},
   "source": [
    "### (4g) Bootstrap sampling distribution of median age of first class passengers that survived"
   ]
  },
  {
   "cell_type": "markdown",
   "metadata": {},
   "source": [
    "#### Bootstrap"
   ]
  },
  {
   "cell_type": "code",
   "execution_count": 63,
   "metadata": {},
   "outputs": [
    {
     "data": {
      "text/plain": [
       "\n",
       "ORDINARY NONPARAMETRIC BOOTSTRAP\n",
       "\n",
       "\n",
       "Call:\n",
       "boot(data = firstClassSurvivors$Age, statistic = medianFc, R = 500)\n",
       "\n",
       "\n",
       "Bootstrap Statistics :\n",
       "    original  bias    std. error\n",
       "t1*       50  -0.494    1.614676"
      ]
     },
     "metadata": {},
     "output_type": "display_data"
    }
   ],
   "source": [
    "medianFirstClassBoot <- boot(data = firstClassSurvivors$Age, statistic = medianFc, 500)\n",
    "medianFirstClassBoot"
   ]
  },
  {
   "cell_type": "markdown",
   "metadata": {},
   "source": [
    "#### Deciles of sampling distribution"
   ]
  },
  {
   "cell_type": "code",
   "execution_count": 72,
   "metadata": {},
   "outputs": [
    {
     "data": {
      "text/html": [
       "<dl class=dl-horizontal>\n",
       "\t<dt>10%</dt>\n",
       "\t\t<dd>47</dd>\n",
       "\t<dt>20%</dt>\n",
       "\t\t<dd>48</dd>\n",
       "\t<dt>30%</dt>\n",
       "\t\t<dd>49</dd>\n",
       "\t<dt>40%</dt>\n",
       "\t\t<dd>49</dd>\n",
       "\t<dt>50%</dt>\n",
       "\t\t<dd>50</dd>\n",
       "\t<dt>60%</dt>\n",
       "\t\t<dd>50</dd>\n",
       "\t<dt>70%</dt>\n",
       "\t\t<dd>50</dd>\n",
       "\t<dt>80%</dt>\n",
       "\t\t<dd>51</dd>\n",
       "\t<dt>90%</dt>\n",
       "\t\t<dd>51</dd>\n",
       "</dl>\n"
      ],
      "text/latex": [
       "\\begin{description*}\n",
       "\\item[10\\textbackslash{}\\%] 47\n",
       "\\item[20\\textbackslash{}\\%] 48\n",
       "\\item[30\\textbackslash{}\\%] 49\n",
       "\\item[40\\textbackslash{}\\%] 49\n",
       "\\item[50\\textbackslash{}\\%] 50\n",
       "\\item[60\\textbackslash{}\\%] 50\n",
       "\\item[70\\textbackslash{}\\%] 50\n",
       "\\item[80\\textbackslash{}\\%] 51\n",
       "\\item[90\\textbackslash{}\\%] 51\n",
       "\\end{description*}\n"
      ],
      "text/markdown": [
       "10%\n",
       ":   4720%\n",
       ":   4830%\n",
       ":   4940%\n",
       ":   4950%\n",
       ":   5060%\n",
       ":   5070%\n",
       ":   5080%\n",
       ":   5190%\n",
       ":   51\n",
       "\n"
      ],
      "text/plain": [
       "10% 20% 30% 40% 50% 60% 70% 80% 90% \n",
       " 47  48  49  49  50  50  50  51  51 "
      ]
     },
     "metadata": {},
     "output_type": "display_data"
    }
   ],
   "source": [
    "quantile(medianFirstClassBoot$t, probs = seq(0.1,0.9,0.1))"
   ]
  },
  {
   "cell_type": "markdown",
   "metadata": {},
   "source": [
    "#### Plots of sampling distribution"
   ]
  },
  {
   "cell_type": "code",
   "execution_count": 64,
   "metadata": {},
   "outputs": [
    {
     "data": {
      "image/png": "[encoded data removed]",
      "text/plain": [
       "Plot with title \"Bootstrap median age of first class survivors\""
      ]
     },
     "metadata": {},
     "output_type": "display_data",
     "source": "R display func"
    }
   ],
   "source": [
    "par(mfrow = c(2,2))\n",
    "options(repr.plot.width=7, repr.plot.height=7)\n",
    "hist(medianFirstClassBoot$t, freq = F, main = \"Bootstrap median age of first class survivors\", xlab = \"Median age of first class survivors\")\n",
    "boxplot(medianFirstClassBoot$t, horizontal = T, main = \"Bootstrap median age of first class survivors\")\n",
    "qqnorm(medianFirstClassBoot$t, main = \"Bootstrap median age of first class survivors\")"
   ]
  },
  {
   "cell_type": "markdown",
   "metadata": {},
   "source": [
    "### (4h) Bootstrap sampling distribution of median age of coach class passengers that survived"
   ]
  },
  {
   "cell_type": "code",
   "execution_count": 65,
   "metadata": {},
   "outputs": [
    {
     "data": {
      "text/plain": [
       "\n",
       "ORDINARY NONPARAMETRIC BOOTSTRAP\n",
       "\n",
       "\n",
       "Call:\n",
       "boot(data = coachClassSurvivors$Age, statistic = medianFc, R = 500)\n",
       "\n",
       "\n",
       "Bootstrap Statistics :\n",
       "    original  bias    std. error\n",
       "t1*       48  -0.188    0.829477"
      ]
     },
     "metadata": {},
     "output_type": "display_data"
    }
   ],
   "source": [
    "medianCoachClassBoot <- boot(data = coachClassSurvivors$Age, statistic = medianFc, 500)\n",
    "medianCoachClassBoot"
   ]
  },
  {
   "cell_type": "markdown",
   "metadata": {},
   "source": [
    "#### Quartiles of sampling distribution"
   ]
  },
  {
   "cell_type": "code",
   "execution_count": 78,
   "metadata": {},
   "outputs": [
    {
     "data": {
      "text/html": [
       "<dl class=dl-horizontal>\n",
       "\t<dt>25%</dt>\n",
       "\t\t<dd>48</dd>\n",
       "\t<dt>50%</dt>\n",
       "\t\t<dd>50</dd>\n",
       "\t<dt>75%</dt>\n",
       "\t\t<dd>51</dd>\n",
       "</dl>\n"
      ],
      "text/latex": [
       "\\begin{description*}\n",
       "\\item[25\\textbackslash{}\\%] 48\n",
       "\\item[50\\textbackslash{}\\%] 50\n",
       "\\item[75\\textbackslash{}\\%] 51\n",
       "\\end{description*}\n"
      ],
      "text/markdown": [
       "25%\n",
       ":   4850%\n",
       ":   5075%\n",
       ":   51\n",
       "\n"
      ],
      "text/plain": [
       "25% 50% 75% \n",
       " 48  50  51 "
      ]
     },
     "metadata": {},
     "output_type": "display_data"
    }
   ],
   "source": [
    "quantile(medianFirstClassBoot$t, c(.25,.5,.75))"
   ]
  },
  {
   "cell_type": "markdown",
   "metadata": {},
   "source": [
    "#### Plots of sampling distribution"
   ]
  },
  {
   "cell_type": "code",
   "execution_count": 66,
   "metadata": {},
   "outputs": [
    {
     "data": {
      "image/png": "[encoded data removed]",
      "text/plain": [
       "Plot with title \"Bootstrap median age of coach class survivors\""
      ]
     },
     "metadata": {},
     "output_type": "display_data",
     "source": "R display func"
    }
   ],
   "source": [
    "par(mfrow = c(2,2))\n",
    "options(repr.plot.width=7, repr.plot.height=7)\n",
    "hist(medianCoachClassBoot$t, freq = F, main = \"Bootstrap median age of coach class survivors\", xlab = \"Median age of coach class survivors\")\n",
    "boxplot(medianCoachClassBoot$t, horizontal = T, main = \"Bootstrap median age of coach class survivors\")\n",
    "qqnorm(medianCoachClassBoot$t, main = \"Bootstrap median age of coach class survivors\")"
   ]
  },
  {
   "cell_type": "markdown",
   "metadata": {},
   "source": [
    "# End"
   ]
  }
 ],
 "metadata": {
  "kernelspec": {
   "display_name": "R",
   "language": "R",
   "name": "ir"
  },
  "language_info": {
   "codemirror_mode": "r",
   "file_extension": ".r",
   "mimetype": "text/x-r-source",
   "name": "R",
   "pygments_lexer": "r",
   "version": "3.5.1"
  }
 },
 "nbformat": 4,
 "nbformat_minor": 2
}
