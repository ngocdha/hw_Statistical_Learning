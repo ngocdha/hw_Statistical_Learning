{
 "cells": [
  {
   "cell_type": "markdown",
   "metadata": {},
   "source": [
    "# Ngoc Ha\n",
    "# STAT 453\n",
    "# Lab 4"
   ]
  },
  {
   "cell_type": "code",
   "execution_count": 70,
   "metadata": {},
   "outputs": [],
   "source": [
    "library(readxl)\n",
    "library(fitdistrplus)"
   ]
  },
  {
   "cell_type": "markdown",
   "metadata": {},
   "source": [
    "## 1. pgatour2006.xlsx analysis"
   ]
  },
  {
   "cell_type": "markdown",
   "metadata": {},
   "source": [
    "### (1a) Summarize"
   ]
  },
  {
   "cell_type": "code",
   "execution_count": 10,
   "metadata": {},
   "outputs": [],
   "source": [
    "pga <- read_excel('pgatour2006.xlsx')"
   ]
  },
  {
   "cell_type": "code",
   "execution_count": 11,
   "metadata": {},
   "outputs": [
    {
     "name": "stdout",
     "output_type": "stream",
     "text": [
      "Classes 'tbl_df', 'tbl' and 'data.frame':\t196 obs. of  11 variables:\n",
      " $ Name              : chr  \"Aaron Baddeley\" \"Adam Scott\" \"Alex Aragon\" \"Alex Cejka\" ...\n",
      " $ PrizeMoney        : num  60661 262045 3635 17516 16683 ...\n",
      " $ AveDrivingDistance: num  288 301 303 289 288 ...\n",
      " $ DrivingAccuracy   : num  60.7 62 51.1 66.4 63.2 ...\n",
      " $ GIR               : num  58.3 69.1 59.1 67.7 64 ...\n",
      " $ PuttingAverage    : num  1.75 1.77 1.79 1.78 1.76 ...\n",
      " $ BirdieConversion  : num  31.4 30.4 29.9 29.3 29.3 ...\n",
      " $ SandSaves         : num  54.8 53.6 37.9 45.1 52.4 ...\n",
      " $ Scrambling        : num  59.4 57.9 50.8 54.8 57.1 ...\n",
      " $ BounceBack        : num  19.3 19.4 16.8 17.1 18.2 ...\n",
      " $ PuttsPerRound     : num  28 29.3 29.2 29.5 28.9 ...\n"
     ]
    }
   ],
   "source": [
    "str(pga)"
   ]
  },
  {
   "cell_type": "markdown",
   "metadata": {},
   "source": [
    "#### 10% trimmed mean"
   ]
  },
  {
   "cell_type": "code",
   "execution_count": 34,
   "metadata": {},
   "outputs": [
    {
     "data": {
      "text/html": [
       "'10% trimmed mean'"
      ],
      "text/latex": [
       "'10\\% trimmed mean'"
      ],
      "text/markdown": [
       "'10% trimmed mean'"
      ],
      "text/plain": [
       "[1] \"10% trimmed mean\""
      ]
     },
     "metadata": {},
     "output_type": "display_data"
    },
    {
     "data": {
      "text/html": [
       "<dl class=dl-horizontal>\n",
       "\t<dt>PrizeMoney</dt>\n",
       "\t\t<dd>40027.2151898734</dd>\n",
       "\t<dt>AveDrivingDistance</dt>\n",
       "\t\t<dd>289.308860759494</dd>\n",
       "\t<dt>DrivingAccuracy</dt>\n",
       "\t\t<dd>63.3127848101266</dd>\n",
       "\t<dt>GIR</dt>\n",
       "\t\t<dd>65.2693670886076</dd>\n",
       "\t<dt>PuttingAverage</dt>\n",
       "\t\t<dd>1.77932911392405</dd>\n",
       "\t<dt>BirdieConversion</dt>\n",
       "\t\t<dd>29.0146202531646</dd>\n",
       "\t<dt>SandSaves</dt>\n",
       "\t\t<dd>48.9799367088608</dd>\n",
       "\t<dt>Scrambling</dt>\n",
       "\t\t<dd>57.5008860759494</dd>\n",
       "\t<dt>BounceBack</dt>\n",
       "\t\t<dd>19.5676582278481</dd>\n",
       "\t<dt>PuttsPerRound</dt>\n",
       "\t\t<dd>29.190253164557</dd>\n",
       "</dl>\n"
      ],
      "text/latex": [
       "\\begin{description*}\n",
       "\\item[PrizeMoney] 40027.2151898734\n",
       "\\item[AveDrivingDistance] 289.308860759494\n",
       "\\item[DrivingAccuracy] 63.3127848101266\n",
       "\\item[GIR] 65.2693670886076\n",
       "\\item[PuttingAverage] 1.77932911392405\n",
       "\\item[BirdieConversion] 29.0146202531646\n",
       "\\item[SandSaves] 48.9799367088608\n",
       "\\item[Scrambling] 57.5008860759494\n",
       "\\item[BounceBack] 19.5676582278481\n",
       "\\item[PuttsPerRound] 29.190253164557\n",
       "\\end{description*}\n"
      ],
      "text/markdown": [
       "PrizeMoney\n",
       ":   40027.2151898734AveDrivingDistance\n",
       ":   289.308860759494DrivingAccuracy\n",
       ":   63.3127848101266GIR\n",
       ":   65.2693670886076PuttingAverage\n",
       ":   1.77932911392405BirdieConversion\n",
       ":   29.0146202531646SandSaves\n",
       ":   48.9799367088608Scrambling\n",
       ":   57.5008860759494BounceBack\n",
       ":   19.5676582278481PuttsPerRound\n",
       ":   29.190253164557\n",
       "\n"
      ],
      "text/plain": [
       "        PrizeMoney AveDrivingDistance    DrivingAccuracy                GIR \n",
       "      40027.215190         289.308861          63.312785          65.269367 \n",
       "    PuttingAverage   BirdieConversion          SandSaves         Scrambling \n",
       "          1.779329          29.014620          48.979937          57.500886 \n",
       "        BounceBack      PuttsPerRound \n",
       "         19.567658          29.190253 "
      ]
     },
     "metadata": {},
     "output_type": "display_data"
    }
   ],
   "source": [
    "sapply(pga[,2:11], mean, trim = 0.1)"
   ]
  },
  {
   "cell_type": "markdown",
   "metadata": {},
   "source": [
    "#### Standard deviation"
   ]
  },
  {
   "cell_type": "code",
   "execution_count": 35,
   "metadata": {},
   "outputs": [
    {
     "data": {
      "text/html": [
       "<dl class=dl-horizontal>\n",
       "\t<dt>PrizeMoney</dt>\n",
       "\t\t<dd>63902.9534175403</dd>\n",
       "\t<dt>AveDrivingDistance</dt>\n",
       "\t\t<dd>8.7305092931058</dd>\n",
       "\t<dt>DrivingAccuracy</dt>\n",
       "\t\t<dd>5.41302275758653</dd>\n",
       "\t<dt>GIR</dt>\n",
       "\t\t<dd>2.7223638625283</dd>\n",
       "\t<dt>PuttingAverage</dt>\n",
       "\t\t<dd>0.024728132964627</dd>\n",
       "\t<dt>BirdieConversion</dt>\n",
       "\t\t<dd>2.20655581118645</dd>\n",
       "\t<dt>SandSaves</dt>\n",
       "\t\t<dd>5.82831251040945</dd>\n",
       "\t<dt>Scrambling</dt>\n",
       "\t\t<dd>3.16225742012002</dd>\n",
       "\t<dt>BounceBack</dt>\n",
       "\t\t<dd>2.80611274288793</dd>\n",
       "\t<dt>PuttsPerRound</dt>\n",
       "\t\t<dd>0.441702272391593</dd>\n",
       "</dl>\n"
      ],
      "text/latex": [
       "\\begin{description*}\n",
       "\\item[PrizeMoney] 63902.9534175403\n",
       "\\item[AveDrivingDistance] 8.7305092931058\n",
       "\\item[DrivingAccuracy] 5.41302275758653\n",
       "\\item[GIR] 2.7223638625283\n",
       "\\item[PuttingAverage] 0.024728132964627\n",
       "\\item[BirdieConversion] 2.20655581118645\n",
       "\\item[SandSaves] 5.82831251040945\n",
       "\\item[Scrambling] 3.16225742012002\n",
       "\\item[BounceBack] 2.80611274288793\n",
       "\\item[PuttsPerRound] 0.441702272391593\n",
       "\\end{description*}\n"
      ],
      "text/markdown": [
       "PrizeMoney\n",
       ":   63902.9534175403AveDrivingDistance\n",
       ":   8.7305092931058DrivingAccuracy\n",
       ":   5.41302275758653GIR\n",
       ":   2.7223638625283PuttingAverage\n",
       ":   0.024728132964627BirdieConversion\n",
       ":   2.20655581118645SandSaves\n",
       ":   5.82831251040945Scrambling\n",
       ":   3.16225742012002BounceBack\n",
       ":   2.80611274288793PuttsPerRound\n",
       ":   0.441702272391593\n",
       "\n"
      ],
      "text/plain": [
       "        PrizeMoney AveDrivingDistance    DrivingAccuracy                GIR \n",
       "      6.390295e+04       8.730509e+00       5.413023e+00       2.722364e+00 \n",
       "    PuttingAverage   BirdieConversion          SandSaves         Scrambling \n",
       "      2.472813e-02       2.206556e+00       5.828313e+00       3.162257e+00 \n",
       "        BounceBack      PuttsPerRound \n",
       "      2.806113e+00       4.417023e-01 "
      ]
     },
     "metadata": {},
     "output_type": "display_data"
    }
   ],
   "source": [
    "sapply(pga[,2:11], sd)"
   ]
  },
  {
   "cell_type": "markdown",
   "metadata": {},
   "source": [
    "#### Summary"
   ]
  },
  {
   "cell_type": "code",
   "execution_count": 37,
   "metadata": {},
   "outputs": [
    {
     "data": {
      "text/plain": [
       "   PrizeMoney     AveDrivingDistance DrivingAccuracy      GIR       \n",
       " Min.   :  2240   Min.   :265.9      Min.   :49.75   Min.   :56.87  \n",
       " 1st Qu.: 17369   1st Qu.:283.6      1st Qu.:59.76   1st Qu.:63.52  \n",
       " Median : 36645   Median :288.2      Median :63.24   Median :65.36  \n",
       " Mean   : 50891   Mean   :289.5      Mean   :63.38   Mean   :65.19  \n",
       " 3rd Qu.: 57915   3rd Qu.:295.5      3rd Qu.:66.97   3rd Qu.:66.77  \n",
       " Max.   :662771   Max.   :319.6      Max.   :78.43   Max.   :74.15  \n",
       " PuttingAverage  BirdieConversion   SandSaves       Scrambling   \n",
       " Min.   :1.712   Min.   :23.17    Min.   :33.91   Min.   :49.02  \n",
       " 1st Qu.:1.763   1st Qu.:27.51    1st Qu.:45.13   1st Qu.:55.26  \n",
       " Median :1.778   Median :29.01    Median :48.66   Median :57.65  \n",
       " Mean   :1.780   Mean   :28.98    Mean   :48.97   Mean   :57.49  \n",
       " 3rd Qu.:1.796   3rd Qu.:30.55    3rd Qu.:52.87   3rd Qu.:59.46  \n",
       " Max.   :1.851   Max.   :35.66    Max.   :63.64   Max.   :66.45  \n",
       "   BounceBack    PuttsPerRound  \n",
       " Min.   :12.29   Min.   :27.96  \n",
       " 1st Qu.:17.56   1st Qu.:28.91  \n",
       " Median :19.62   Median :29.19  \n",
       " Mean   :19.60   Mean   :29.20  \n",
       " 3rd Qu.:21.31   3rd Qu.:29.48  \n",
       " Max.   :25.93   Max.   :30.19  "
      ]
     },
     "metadata": {},
     "output_type": "display_data"
    }
   ],
   "source": [
    "summary(pga[,2:11])"
   ]
  },
  {
   "cell_type": "markdown",
   "metadata": {},
   "source": [
    "### (1b)"
   ]
  },
  {
   "cell_type": "code",
   "execution_count": 66,
   "metadata": {},
   "outputs": [
    {
     "data": {
      "image/png": "[encoded data removed]",
      "text/plain": [
       "Plot with title \"PuttsPerRound\""
      ]
     },
     "metadata": {},
     "output_type": "display_data",
     "source": "R display func"
    }
   ],
   "source": [
    "j <- 2\n",
    "par(mfrow = c(5,2), mar = c(3,3,3,3))\n",
    "for (i in pga[,2:11]) {\n",
    "    boxplot(i, horizontal = T, main = names(pga)[j])\n",
    "    j <- j+1\n",
    "}"
   ]
  },
  {
   "cell_type": "markdown",
   "metadata": {},
   "source": [
    "#### (1c) Density histogram of AveDrivingDistance"
   ]
  },
  {
   "cell_type": "code",
   "execution_count": 67,
   "metadata": {},
   "outputs": [
    {
     "data": {
      "image/png": "[encoded data removed]",
      "text/plain": [
       "Plot with title \"Average Driving Distance\""
      ]
     },
     "metadata": {},
     "output_type": "display_data",
     "source": "R display func"
    }
   ],
   "source": [
    "hist(pga$AveDrivingDistance, prob = T, main = 'Average Driving Distance', xlab = 'Average Driving Distance (yard)')"
   ]
  },
  {
   "cell_type": "markdown",
   "metadata": {},
   "source": [
    "#### (1d) Normal plot of AveDrivingDistance"
   ]
  },
  {
   "cell_type": "code",
   "execution_count": 68,
   "metadata": {},
   "outputs": [
    {
     "data": {
      "image/png": "[encoded data removed]",
      "text/plain": [
       "Plot with title \"Normal Q-Q Plot\""
      ]
     },
     "metadata": {},
     "output_type": "display_data",
     "source": "R display func"
    }
   ],
   "source": [
    "qqnorm(pga$AveDrivingDistance)"
   ]
  },
  {
   "cell_type": "markdown",
   "metadata": {},
   "source": [
    "#### (1e) Fit a model"
   ]
  },
  {
   "cell_type": "markdown",
   "metadata": {},
   "source": [
    "##### Normal plot"
   ]
  },
  {
   "cell_type": "code",
   "execution_count": 73,
   "metadata": {},
   "outputs": [],
   "source": [
    "fit_pga_norm <- fitdist(pga$AveDrivingDistance, \"norm\")"
   ]
  },
  {
   "cell_type": "code",
   "execution_count": 76,
   "metadata": {},
   "outputs": [
    {
     "data": {
      "image/png": "[encoded data removed]",
      "text/plain": [
       "Plot with title \"P-P plot\""
      ]
     },
     "metadata": {},
     "output_type": "display_data",
     "source": "R display func"
    }
   ],
   "source": [
    "plot(fit_pga_norm)"
   ]
  },
  {
   "cell_type": "code",
   "execution_count": 75,
   "metadata": {},
   "outputs": [
    {
     "data": {
      "text/plain": [
       "Fitting of the distribution ' norm ' by maximum likelihood \n",
       "Parameters:\n",
       "       estimate Std. Error\n",
       "mean 289.498469  0.6220149\n",
       "sd     8.708209  0.4398310"
      ]
     },
     "metadata": {},
     "output_type": "display_data"
    }
   ],
   "source": [
    "fit_pga_norm"
   ]
  },
  {
   "cell_type": "markdown",
   "metadata": {},
   "source": [
    "#### (1f) 75th percentile of AveDrivingDistance from quantile command"
   ]
  },
  {
   "cell_type": "code",
   "execution_count": 77,
   "metadata": {},
   "outputs": [
    {
     "data": {
      "text/html": [
       "<strong>75%:</strong> 295.525"
      ],
      "text/latex": [
       "\\textbf{75\\textbackslash{}\\%:} 295.525"
      ],
      "text/markdown": [
       "**75%:** 295.525"
      ],
      "text/plain": [
       "    75% \n",
       "295.525 "
      ]
     },
     "metadata": {},
     "output_type": "display_data"
    }
   ],
   "source": [
    "quantile(pga$AveDrivingDistance, 0.75)"
   ]
  },
  {
   "cell_type": "markdown",
   "metadata": {},
   "source": [
    "#### (1g) 75th percentile of AveDrivingDistance from fitted model"
   ]
  },
  {
   "cell_type": "code",
   "execution_count": 78,
   "metadata": {},
   "outputs": [
    {
     "data": {
      "text/html": [
       "295.371456744707"
      ],
      "text/latex": [
       "295.371456744707"
      ],
      "text/markdown": [
       "295.371456744707"
      ],
      "text/plain": [
       "[1] 295.3715"
      ]
     },
     "metadata": {},
     "output_type": "display_data"
    }
   ],
   "source": [
    "qnorm(0.75, 289.498, 8.708)"
   ]
  },
  {
   "cell_type": "markdown",
   "metadata": {},
   "source": [
    "#### (1h) Bootstrap the 75th percentile"
   ]
  },
  {
   "cell_type": "code",
   "execution_count": null,
   "metadata": {},
   "outputs": [],
   "source": []
  }
 ],
 "metadata": {
  "kernelspec": {
   "display_name": "R",
   "language": "R",
   "name": "ir"
  },
  "language_info": {
   "codemirror_mode": "r",
   "file_extension": ".r",
   "mimetype": "text/x-r-source",
   "name": "R",
   "pygments_lexer": "r",
   "version": "3.5.1"
  }
 },
 "nbformat": 4,
 "nbformat_minor": 2
}
