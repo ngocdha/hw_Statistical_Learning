{
 "cells": [
  {
   "cell_type": "code",
   "execution_count": 1,
   "metadata": {},
   "outputs": [],
   "source": [
    "library(readxl)\n",
    "library(boot)"
   ]
  },
  {
   "cell_type": "markdown",
   "metadata": {},
   "source": [
    "## Females that survived"
   ]
  },
  {
   "cell_type": "code",
   "execution_count": 2,
   "metadata": {},
   "outputs": [],
   "source": [
    "titanic <- read_excel('Titanic-Survival-Data.xlsx')"
   ]
  },
  {
   "cell_type": "code",
   "execution_count": 70,
   "metadata": {},
   "outputs": [
    {
     "name": "stdout",
     "output_type": "stream",
     "text": [
      "Classes 'tbl_df', 'tbl' and 'data.frame':\t2201 obs. of  5 variables:\n",
      " $ Class       : chr  \"Coach\" \"Coach\" \"Coach\" \"Coach\" ...\n",
      " $ Gender      : chr  \"Female\" \"Female\" \"Female\" \"Female\" ...\n",
      " $ Age         : num  20 21 26 26 36 41 41 45 45 48 ...\n",
      " $ Status      : chr  \"Survived\" \"Survived\" \"Survived\" \"Died\" ...\n",
      " $ ChildorAdult: chr  \"Adult\" \"Adult\" \"Adult\" \"Adult\" ...\n"
     ]
    }
   ],
   "source": [
    "str(titanic)"
   ]
  },
  {
   "cell_type": "code",
   "execution_count": 55,
   "metadata": {},
   "outputs": [],
   "source": [
    "femaleSurvivors <- subset(titanic, Gender == \"Female\" & Status == \"Survived\")"
   ]
  },
  {
   "cell_type": "code",
   "execution_count": 56,
   "metadata": {},
   "outputs": [
    {
     "data": {
      "text/plain": [
       "   Min. 1st Qu.  Median    Mean 3rd Qu.    Max. \n",
       "   2.00   32.75   48.00   46.31   62.00   80.00 "
      ]
     },
     "metadata": {},
     "output_type": "display_data"
    }
   ],
   "source": [
    "summary(femaleSurvivors$Age)"
   ]
  },
  {
   "cell_type": "code",
   "execution_count": 57,
   "metadata": {},
   "outputs": [
    {
     "data": {
      "text/html": [
       "344"
      ],
      "text/latex": [
       "344"
      ],
      "text/markdown": [
       "344"
      ],
      "text/plain": [
       "[1] 344"
      ]
     },
     "metadata": {},
     "output_type": "display_data"
    },
    {
     "data": {
      "text/html": [
       "19.5766667509227"
      ],
      "text/latex": [
       "19.5766667509227"
      ],
      "text/markdown": [
       "19.5766667509227"
      ],
      "text/plain": [
       "[1] 19.57667"
      ]
     },
     "metadata": {},
     "output_type": "display_data"
    }
   ],
   "source": [
    "length(femaleSurvivors$Age)\n",
    "sd(femaleSurvivors$Age)"
   ]
  },
  {
   "cell_type": "code",
   "execution_count": 58,
   "metadata": {},
   "outputs": [
    {
     "data": {
      "image/png": "[encoded data removed]",
      "text/plain": [
       "Plot with title \"Age of survival for females\""
      ]
     },
     "metadata": {},
     "output_type": "display_data",
     "source": "R display func"
    }
   ],
   "source": [
    "hist(femaleSurvivors$Age, freq=F, ylim = c(0,0.02), main = \"Age of survival for females\", xlab = \"Age (years)\")\n",
    "lines(density(femaleSurvivors$Age))"
   ]
  },
  {
   "cell_type": "code",
   "execution_count": 87,
   "metadata": {},
   "outputs": [
    {
     "data": {
      "text/plain": [
       "BOOTSTRAP CONFIDENCE INTERVAL CALCULATIONS\n",
       "Based on 1000 bootstrap replicates\n",
       "\n",
       "CALL : \n",
       "boot.ci(boot.out = femaleMedian, type = \"basic\")\n",
       "\n",
       "Intervals : \n",
       "Level      Basic         \n",
       "95%   (46.0, 51.5 )  \n",
       "Calculations and Intervals on Original Scale"
      ]
     },
     "metadata": {},
     "output_type": "display_data"
    }
   ],
   "source": [
    "medianBoot <- function(x, d) {\n",
    "    return(median(x[d]))\n",
    "}\n",
    "femaleMedian <- boot(femaleSurvivors$Age, medianBoot, 1000)\n",
    "boot.ci(femaleMedian, type = \"basic\")"
   ]
  },
  {
   "cell_type": "markdown",
   "metadata": {},
   "source": [
    "## Males that survived"
   ]
  },
  {
   "cell_type": "code",
   "execution_count": 60,
   "metadata": {},
   "outputs": [],
   "source": [
    "maleSurvivors <- subset(titanic, Gender == \"Male\" & Status == \"Survived\")"
   ]
  },
  {
   "cell_type": "code",
   "execution_count": 61,
   "metadata": {},
   "outputs": [
    {
     "data": {
      "text/plain": [
       "   Min. 1st Qu.  Median    Mean 3rd Qu.    Max. \n",
       "   1.00   28.00   45.00   44.38   61.00   80.00 "
      ]
     },
     "metadata": {},
     "output_type": "display_data"
    }
   ],
   "source": [
    "summary(maleSurvivors$Age)"
   ]
  },
  {
   "cell_type": "code",
   "execution_count": 62,
   "metadata": {},
   "outputs": [
    {
     "data": {
      "text/html": [
       "367"
      ],
      "text/latex": [
       "367"
      ],
      "text/markdown": [
       "367"
      ],
      "text/plain": [
       "[1] 367"
      ]
     },
     "metadata": {},
     "output_type": "display_data"
    },
    {
     "data": {
      "text/html": [
       "19.8034297840441"
      ],
      "text/latex": [
       "19.8034297840441"
      ],
      "text/markdown": [
       "19.8034297840441"
      ],
      "text/plain": [
       "[1] 19.80343"
      ]
     },
     "metadata": {},
     "output_type": "display_data"
    }
   ],
   "source": [
    "length(maleSurvivors$Age)\n",
    "sd(maleSurvivors$Age)"
   ]
  },
  {
   "cell_type": "code",
   "execution_count": 63,
   "metadata": {},
   "outputs": [
    {
     "data": {
      "image/png": "[encoded data removed]",
      "text/plain": [
       "Plot with title \"Age of survival for males\""
      ]
     },
     "metadata": {},
     "output_type": "display_data",
     "source": "R display func"
    }
   ],
   "source": [
    "hist(maleSurvivors$Age, freq=F, ylim = c(0,0.02), main = \"Age of survival for males\", xlab = \"Age (years)\", breaks = 8)\n",
    "lines(density(maleSurvivors$Age))"
   ]
  },
  {
   "cell_type": "code",
   "execution_count": 64,
   "metadata": {},
   "outputs": [
    {
     "data": {
      "text/plain": [
       "BOOTSTRAP CONFIDENCE INTERVAL CALCULATIONS\n",
       "Based on 1000 bootstrap replicates\n",
       "\n",
       "CALL : \n",
       "boot.ci(boot.out = maleMedian, type = \"basic\")\n",
       "\n",
       "Intervals : \n",
       "Level      Basic         \n",
       "95%   (42, 50 )  \n",
       "Calculations and Intervals on Original Scale"
      ]
     },
     "metadata": {},
     "output_type": "display_data"
    }
   ],
   "source": [
    "maleMedian <- boot(maleSurvivors$Age, medianBoot, 1000)\n",
    "boot.ci(maleMedian, type = \"basic\")"
   ]
  },
  {
   "cell_type": "code",
   "execution_count": 94,
   "metadata": {},
   "outputs": [
    {
     "data": {
      "text/html": [
       "-1.92939294087827"
      ],
      "text/latex": [
       "-1.92939294087827"
      ],
      "text/markdown": [
       "-1.92939294087827"
      ],
      "text/plain": [
       "[1] -1.929393"
      ]
     },
     "metadata": {},
     "output_type": "display_data"
    },
    {
     "data": {
      "text/plain": [
       "BOOTSTRAP CONFIDENCE INTERVAL CALCULATIONS\n",
       "Based on 1000 bootstrap replicates\n",
       "\n",
       "CALL : \n",
       "boot.ci(boot.out = meanDiffBoot, conf = 0.96, type = \"basic\")\n",
       "\n",
       "Intervals : \n",
       "Level      Basic         \n",
       "96%   (-7.013, -2.497 )  \n",
       "Calculations and Intervals on Original Scale"
      ]
     },
     "metadata": {},
     "output_type": "display_data"
    }
   ],
   "source": [
    "meanDiff <- function(x, i, j) {\n",
    "    medianMale <- mean(x$Age[i][x$Gender == \"Male\" & x$Status == \"Survived\"])\n",
    "    medianFemale <- mean(x$Age[j][x$Gender == \"Female\" & x$Status == \"Survived\"])\n",
    "    return(medianMale - medianFemale)\n",
    "}\n",
    "meanDiffBoot <- boot(titanic, meanDiff, 1000)\n",
    "meanDiffBoot$t0\n",
    "boot.ci(meanDiffBoot, 0.96, \"basic\")"
   ]
  },
  {
   "cell_type": "code",
   "execution_count": 101,
   "metadata": {},
   "outputs": [
    {
     "data": {
      "image/png": "[encoded data removed]",
      "text/plain": [
       "Plot with title \"Bootstrap Mean Difference of survived males vs survived females\""
      ]
     },
     "metadata": {},
     "output_type": "display_data",
     "source": "R display func"
    }
   ],
   "source": [
    "hist(meanDiffBoot$t, freq=F, main = \"Bootstrap Mean Difference of survived males vs survived females\", xlab = \"Difference (years)\", xlim = c(-3,4))"
   ]
  },
  {
   "cell_type": "code",
   "execution_count": 109,
   "metadata": {},
   "outputs": [
    {
     "data": {
      "text/plain": [
       "\n",
       "ORDINARY NONPARAMETRIC BOOTSTRAP\n",
       "\n",
       "\n",
       "Call:\n",
       "boot(data = titanic, statistic = propDiff, R = 1000)\n",
       "\n",
       "\n",
       "Bootstrap Statistics :\n",
       "     original  bias    std. error\n",
       "t1* -0.562059       0           0"
      ]
     },
     "metadata": {},
     "output_type": "display_data"
    },
    {
     "data": {
      "text/plain": [
       "BOOTSTRAP CONFIDENCE INTERVAL CALCULATIONS\n",
       "Based on 1000 bootstrap replicates\n",
       "\n",
       "CALL : \n",
       "boot.ci(boot.out = propDiffBoot, conf = 0.95, type = \"basic\")\n",
       "\n",
       "Intervals : \n",
       "Level      Basic         \n",
       "95%   (-0.5621, -0.5621 )  \n",
       "Calculations and Intervals on Original Scale"
      ]
     },
     "metadata": {},
     "output_type": "display_data"
    }
   ],
   "source": [
    "propDiff <- function(x, i, j) {\n",
    "    numMale <- length(x$Age[i][x$Gender == \"Male\" & x$Age > 35])\n",
    "    numSurvivedMale <- length(x$Age[i][x$Gender == \"Male\" & x$Status == \"Survived\" & x$Age > 35])\n",
    "    numFemale <- length(x$Age[j][x$Gender == \"Female\" & x$Age > 35])\n",
    "    numSurvivedFemale <- length(x$Age[j][x$Gender == \"Female\" & x$Status == \"Survived\" & x$Age > 35])\n",
    "    return(numSurvivedMale/numMale - numSurvivedFemale/numFemale)\n",
    "}\n",
    "propDiffBoot <- boot(titanic, propDiff, 1000)\n",
    "propDiffBoot\n",
    "boot.ci(propDiffBoot, 0.95, \"basic\")"
   ]
  },
  {
   "cell_type": "code",
   "execution_count": null,
   "metadata": {},
   "outputs": [],
   "source": []
  }
 ],
 "metadata": {
  "kernelspec": {
   "display_name": "R",
   "language": "R",
   "name": "ir"
  },
  "language_info": {
   "codemirror_mode": "r",
   "file_extension": ".r",
   "mimetype": "text/x-r-source",
   "name": "R",
   "pygments_lexer": "r",
   "version": "3.5.1"
  }
 },
 "nbformat": 4,
 "nbformat_minor": 2
}
