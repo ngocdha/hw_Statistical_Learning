{
 "cells": [
  {
   "cell_type": "markdown",
   "metadata": {},
   "source": [
    "# Introduction to Data Science\n",
    "___________________________________\n"
   ]
  },
  {
   "cell_type": "markdown",
   "metadata": {},
   "source": [
    "Data science is the process of analyzing data and extrcting the relevant information from the observed data. Data science has roots in *statistics* and *computer science*. Data science is also referred to as \"big data\" or \"analytics\", however big data actually refers to the data set rather than the analysis of the data. The use of data science has become more common due to the ease of data collection, gains in computing power, and the need to make decisions based on data."
   ]
  },
  {
   "cell_type": "markdown",
   "metadata": {},
   "source": [
    "The data science process is an iterative process that begins with framing the problem. The first step is to frame the problem and determine the **important questions of interest**. Key questions include\n",
    "- What is the goal of the process?\n",
    "- What information is desired from the process?\n",
    "- What is the data available for analysis\n",
    "- Is the data complete?\n",
    "- Is there sufficient data to draw inferences from?\n",
    "- Is the data representative? Current?\n",
    "- Are there other sources of data that can be used?\n",
    "- How accurate are the inferences?"
   ]
  },
  {
   "cell_type": "markdown",
   "metadata": {},
   "source": [
    "Typical **goals** in a data science application are\n",
    "- **Prediction** of some attribute from other attributes of the data. **Regression** and **time series analysis** are often used in a prediction analysis.\n",
    "- **Classifying** a data point to one of several groups. **Logistic regression**, **discriminant analysis**, **classification trees**, and the **nearest neighbor** methods are used in a classification analysis.\n",
    "- **Profiling** an observation from current and past information. Many different methods are used in a profile analysis."
   ]
  },
  {
   "cell_type": "markdown",
   "metadata": {},
   "source": [
    "**Questions** that are typically asked of a data set are\n",
    "- Is variable (feature) Y related to variable X or variables X1, . . ., Xn. **Correlation** and **regression** are the many tools used to address these questions.\n",
    "- Are subpopulations (subsets) A and B different. **Exploratory statistics** are often used to investigate differences in subpopulations.\n",
    "- Does variable X provide any **useful** information. Many different approaches to answering this question.\n",
    "- Are there similar subpopulations in the data set? **Cluster analysis** is used here.\n",
    "- Which category does an observation fall in. This is a **classification** problem."
   ]
  },
  {
   "cell_type": "markdown",
   "metadata": {},
   "source": [
    "  **EXAMPLE 1.1**  Prediction might be used to predict future sales, demand, weather, enrollment, voting patterns, etc.\n",
    "  \n",
    "  **EXAMPLE 1.2**  Classification might be used to identify political affiliation, whether a student applicant will enroll or not, whether an email is spam or non-spam, etc.\n",
    "  \n",
    "  **EXAMPLE 1.3**  Clustering might be used to find potential sub-populations in a particular population.\n",
    "  \n",
    "  **EXAMPLE 1.4**  Profiling might be used to determine the interests of voters, Amazon shoppers, students who prefer a university, etc."
   ]
  },
  {
   "cell_type": "markdown",
   "metadata": {},
   "source": [
    "Once the problem has been framed the **source** of the data must be determined. It is important for the data to be **complete** and **representative** of the environment framing the problem. A complete data set will include all of the relevant variables for the problem at hand. A data set is representative when it contains data that is **current**, **relevant**, and contains **representative sample** of the target population. It is **critical** that **good** data is used in data science since “garbage in, garbage out.” Data that is not representative or incomplete will lead to bad inferences no matter how extensive the data analysis process is.\n",
    "\n",
    "The data used in data science is often **messy** and must be **cleaned** up before it can be used. Data cleaning is the process of **detecting** and **correcting** or **removing** **inaccurate** or **incomplete** observations in a data set. Most data scientists claim that 70-80% of their time is spent cleaning the data before being able to analyze the data. Typical problems encountered in a data set include\n",
    "\n",
    "- missing data\n",
    "- incorrect data\n",
    "- old data that is no longer relevant\n",
    "- incomplete records\n",
    "- anomalies in the data set\n",
    "- duplicative records\n",
    "- formatting issues"
   ]
  },
  {
   "cell_type": "markdown",
   "metadata": {},
   "source": [
    "__Terminology__\n",
    "- **Big Data** - Big data refers to data that are too big or complex for standard data processing. Big data is also used to refer to the process of extracting information from large data sets (data science).\n",
    "\n",
    "- **Machine Learning** - (From Wikipedia) Machine learning is a field of computer science that uses statistical techniques to give computer systems the ability to ”learn” (e.g., progressively improve performance on a specific task) with data, without being explicitly programmed. Machine learning evolved through computer science and AI and many of the machine learning techniques are reinvented statistical methods, but not all. Machine learning uses a computer to solve problems intractable by hand, takes data as input, uses data that represents a sample from a population, and the data is tabular.\n",
    "\n",
    "- **Statistical Learning** - Statistics based on statistical procedures.\n",
    "##### * Machine learning tends to be data driven whereas statistical learning tends to be model driven.\n",
    "\n",
    "\n",
    "- **Supervised Learning** - Supervised learning is machine/statistical learning where there are input and output variables (explanatory and response variables).\n",
    "\n",
    "- **Unsupervised Learning** - Unsupervised learning is machine/statistical learning where the variables are unlabeled as input or output variables.\n",
    "\n",
    "- **Quantitative Data** - Data taking on numerical values where the difference or ratio of two values has meaning.\n",
    "\n",
    "- **Qualitative Data** - Data where the value represents a quality of the object and has no magnitude.\n",
    "\n",
    "- **Ordinal Data** - Qualitative data where the qualities have a natural ordering.\n",
    "\n",
    "- **Count data** - Quantitative data where the value represents the number of times an event has occurred.\n",
    "\n",
    "- **Time Series** - A time series is a series of observations indexed by time. Time series analysis is used when the data is time oriented and the goal is to predict future events. The type of data being collected will dictates the statistical analysis and models that can be used.\n",
    "\n",
    "- **Dataframe** - A dataframe is a rectangular array of data where each row represents an observation. The columns of a dataframe are the variables recorded on each record.\n",
    "\n",
    "- **R** - Statistical software package often used by data scientists. R is open source software and very powerful and used by most statisticians."
   ]
  },
  {
   "cell_type": "markdown",
   "metadata": {},
   "source": [
    "/end"
   ]
  }
 ],
 "metadata": {
  "kernelspec": {
   "display_name": "R",
   "language": "R",
   "name": "ir"
  },
  "language_info": {
   "codemirror_mode": "r",
   "file_extension": ".r",
   "mimetype": "text/x-r-source",
   "name": "R",
   "pygments_lexer": "r",
   "version": "3.4.3"
  }
 },
 "nbformat": 4,
 "nbformat_minor": 2
}
