{
 "cells": [
  {
   "cell_type": "markdown",
   "metadata": {},
   "source": [
    "# Probability Models\n",
    "_________________"
   ]
  },
  {
   "cell_type": "markdown",
   "metadata": {},
   "source": [
    "There are three types of probability models that will be discussed in this class. Namely, discrete models, continuous models, and mixed models. The definitions of discrete and continuous random variables are given below."
   ]
  },
  {
   "cell_type": "markdown",
   "metadata": {},
   "source": [
    "#### Definition 2.1 *A random variable is said to be a **discrete random variable** if it can take on at most a countable number of values.*"
   ]
  },
  {
   "cell_type": "markdown",
   "metadata": {},
   "source": [
    "Note: A set is said to be countable if it can be put into a 1-1 correspondence with the set of counting numbers. That is, the elements of the set can be counted and have 1st, 2nd, 3rd, · · · members. That is, there are obvious gaps between each of the successive members. The following two sets are countable sets:\n",
    "\n",
    "                    {1, 2, 3, 4, · · ·} and {· · ·, −3, −2, −1, 0, 1, 2, 3 · · ·}"
   ]
  },
  {
   "cell_type": "markdown",
   "metadata": {},
   "source": [
    "#### Definition 2.2 *A random variable is said to be a **continuous random variable** if it can take on any value in one or more intervals.*\n",
    "#### Definition 2.3 *A random variable is said to be a **mixed random variable** when it has a discrete component and a continuous component.*"
   ]
  },
  {
   "cell_type": "markdown",
   "metadata": {},
   "source": [
    "##### Example 2.1\n",
    "Suppose the lifetime of an electronic component is 0 for 1% of the production (failures) and for successful components the lifetime is between 0 and 100,000 hours. This is a mixed random variable."
   ]
  },
  {
   "cell_type": "markdown",
   "metadata": {},
   "source": [
    "##### Example 2.2\n",
    "Determine which of the following random variables are discrete and which are continuous.\n",
    "- A=Age in years of a student                 (**continuous**)\n",
    "\n",
    "- E=Number of errors in a baseball game       (**discrete**)\n",
    "\n",
    "- W=Weight of a rainbow trout                 (**continuous**)\n",
    "\n",
    "- P=Points scored on midterm I                (**continuous**)\n",
    "\n",
    "- T=Time between two consecutive phone calls  (**continuous**)\n",
    "\n",
    "- C=Number of children in a family            (**discrete**)\n",
    "\n",
    "- B=Amount of beer a person can drink         (**continuous**)"
   ]
  },
  {
   "cell_type": "markdown",
   "metadata": {},
   "source": [
    "The two most important characteristics of a random variable are its *probability distribution* (pdf) and its *cumulative distribution* function (CDF), both of which completely describe a population."
   ]
  },
  {
   "cell_type": "markdown",
   "metadata": {},
   "source": [
    "#### Definition 2.4 The *probability distribution* of a discrete random variable is a graph, table, or formula that explicitly specifies the probability associated with each possible value that the random variable can take on. The set of values of a random variable is called the *support* of the random variable and is denoted by S.\n",
    "\n",
    "#### Definition 2.5 The *probability density function* (pdf) is the probability function used to assign probabilities to a value of a continuous random variable. The pdf is usually denoted by f(x).\n",
    "\n",
    "#### Definition 2.6 For a random variable X, the *cumulative distribution function* (CDF) associated with X is defined to be F(x) = P(X ≤ x) for x ∈ R."
   ]
  },
  {
   "cell_type": "markdown",
   "metadata": {},
   "source": [
    "## 2.1 Discrete Probability Models"
   ]
  },
  {
   "cell_type": "markdown",
   "metadata": {},
   "source": [
    "#### Definition 2.7 The probability density function (pdf), is often used to describe the probability distribution of a discrete r.v. X. The pdf is denoted by p(x) and is a function satisfying\n",
    "1. p(a) = P(X = a) for x ∈ S\n",
    "2. p(x) ≥ 0 for every value of x ∈ S\n",
    "3. $\\sum_{x \\in s}$p(x) = 1"
   ]
  },
  {
   "cell_type": "markdown",
   "metadata": {},
   "source": [
    "Discrete random variables that are commonly used include the binomial, Poisson, geometric, negative binomial, and multinomial."
   ]
  },
  {
   "cell_type": "markdown",
   "metadata": {},
   "source": [
    "Recall, the pdf and CDF completely describe the distribution of a random variable X. Furthermore,\n",
    "\n",
    "   F(x) = $\\sum_{X≤x}$f(x) when X is discrete\n",
    "   \n",
    "   F(x) = $\\int_{-\\inf}^{x}$f(u)du when X is continuous"
   ]
  },
  {
   "cell_type": "markdown",
   "metadata": {},
   "source": [
    "Also, F(x)is a non-decreasing function and is right-continuous; F(x)is a continuous function when X is a continuous random variable and a step function when X is discrete."
   ]
  },
  {
   "cell_type": "markdown",
   "metadata": {},
   "source": [
    "##### Example 2.3\n",
    "Let X be a discrete random variable with pdf $f(x) = \\frac{x}{15}$ for x = 1,2,3,4,5. Then,\n",
    "\n",
    "$P(X = 1) = f(1) = \\frac{1}{15}$"
   ]
  },
  {
   "cell_type": "markdown",
   "metadata": {},
   "source": [
    "and the CDF is given by\n",
    "$F(x) = \\begin{cases} 0 & \\mbox{x < 1} \\\\ \\frac{1}{15} & \\mbox{1 ≤ x ≤ 2} \\\\ \\frac{3}{15} & \\mbox{2 ≤ x ≤ 3} \\\\ \\frac{6}{15} & \\mbox{3 ≤ x ≤ 4} \\\\ \\frac{10}{15} & \\mbox{4 ≤ x ≤ 5} \\\\ 1 & \\mbox{x ≥ 5} \\end{cases}$"
   ]
  },
  {
   "cell_type": "markdown",
   "metadata": {},
   "source": [
    "A plot of the CDF is given in Figure 2.1."
   ]
  },
  {
   "cell_type": "code",
   "execution_count": 82,
   "metadata": {},
   "outputs": [
    {
     "data": {},
     "metadata": {},
     "output_type": "display_data"
    },
    {
     "data": {
      "image/png": "[encoded data removed]",
      "text/plain": [
       "plot without title"
      ]
     },
     "metadata": {},
     "output_type": "display_data",
     "source": "R display func"
    }
   ],
   "source": [
    "library(ggplot2)\n",
    "d=data.frame(x=c(-1,1,2,3,4,5,7), y=c(0,1/15,3/15,6/15,10/15,1,1))\n",
    "ggplot() +\n",
    "geom_step(data=d, mapping=aes(x=x, y=y)) +\n",
    "#geom_step(data=d, mapping=aes(x=x, y=y), direction=\"vh\", linetype=3) +\n",
    "#geom_point(data=d, mapping=aes(x=x, y=y), color=\"red\") +\n",
    "labs(title = \"Figure 2.1 CDF for the discrete random variable in Example 2.3\", y = \"F(x)\") +\n",
    "theme(plot.title=element_text(size=10, hjust = 0.5))"
   ]
  },
  {
   "cell_type": "markdown",
   "metadata": {},
   "source": [
    "## 2.2 Continuous Probability Models"
   ]
  },
  {
   "cell_type": "markdown",
   "metadata": {},
   "source": [
    "A continuous random variable is a random variable that can take on any value in one or more intervals. Because a\n",
    "continuous random variable is defined on intervals the probabilities associated with a continuous random variable will be areas under a continuous curve defined by a pdf. With a continuous random variable probability is only assigned to intervals of values and integration can be used to find probabilities concerning a continuous random variable."
   ]
  },
  {
   "cell_type": "markdown",
   "metadata": {},
   "source": [
    "#### Definition 2.8 The *probability density function* (pdf) associated with a continuous random variable is a function that specifies the probability associated with each possible sub-interval of values that the random variable can belong to. The probability density function of a continuous r.v. X, denoted by f(x), must satisfy\n",
    "\n",
    "1. f(x) ≥ 0, for every x ∈ S\n",
    "2. $\\int_{-\\infty}^{\\infty}$f(x)dx = 1\n",
    "3. P(a < X < b) = $\\int_{a}^{b}$f(x)dx"
   ]
  },
  {
   "cell_type": "markdown",
   "metadata": {},
   "source": [
    "* Note that for a continuous random variable\n",
    "\n",
    "     P(X = a) = $\\int_{a}^{a}$f(x)dx = 0\n",
    "     \n",
    "  for every value of −∞ < a < ∞. Thus,\n",
    "  - P(X ≤ x) = P(X < x)\n",
    "  - P(X ≥ x) = P(X > x)\n",
    "  - P(a ≤ X ≤ b) = P(a ≤ X < x) = P(a < X ≤ b) = P(a < X < b)"
   ]
  },
  {
   "cell_type": "markdown",
   "metadata": {},
   "source": [
    "##### EXAMPLE 2.4"
   ]
  },
  {
   "cell_type": "markdown",
   "metadata": {},
   "source": [
    "Let X be a continuous random variable with pdf f(x) = $2e^{-2x}$ for x ≥ 0. Then,\n",
    "\n",
    "   P(X > 1.5) = $\\int_{1.5}^{\\infty}2e^{-2x}$dx = $e^{-3}$"
   ]
  },
  {
   "cell_type": "markdown",
   "metadata": {},
   "source": [
    "and the CDF is given by\n",
    "\n",
    "$F(x) = \\begin{cases} 0 & \\mbox{x < 0} \\\\ 1 - e^{-2x} & \\mbox{x > 0} \\end{cases}$\n",
    "\n",
    "A plot of the CDF is given in Figure 2.2."
   ]
  },
  {
   "cell_type": "code",
   "execution_count": 97,
   "metadata": {},
   "outputs": [
    {
     "data": {
      "image/png": "[encoded data removed]",
      "text/plain": [
       "Plot with title \"Figure 2.2 CDF for the continuous random variable in Example 2.4\"",
       "Plot with title \"1\""
      ]
     },
     "metadata": {},
     "output_type": "display_data",
     "source": "R display func"
    }
   ],
   "source": [
    "curve(1-exp(-2*x), 0, 2.5, ylab = 'F(x)')\n",
    "title(main = list('Figure 2.2 CDF for the continuous random variable in Example 2.4', cex = 1))"
   ]
  },
  {
   "cell_type": "code",
   "execution_count": null,
   "metadata": {},
   "outputs": [],
   "source": []
  }
 ],
 "metadata": {
  "kernelspec": {
   "display_name": "R",
   "language": "R",
   "name": "ir"
  },
  "language_info": {
   "codemirror_mode": "r",
   "file_extension": ".r",
   "mimetype": "text/x-r-source",
   "name": "R",
   "pygments_lexer": "r",
   "version": "3.4.3"
  }
 },
 "nbformat": 4,
 "nbformat_minor": 2
}
