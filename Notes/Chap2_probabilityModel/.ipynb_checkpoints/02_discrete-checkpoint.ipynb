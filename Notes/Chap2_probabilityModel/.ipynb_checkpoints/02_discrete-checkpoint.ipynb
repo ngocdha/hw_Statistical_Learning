{
 "cells": [
  {
   "cell_type": "markdown",
   "metadata": {},
   "source": [
    "# Binomial Model"
   ]
  },
  {
   "cell_type": "code",
   "execution_count": 13,
   "metadata": {},
   "outputs": [
    {
     "data": {
      "text/html": [
       "0.0147857666015625"
      ],
      "text/latex": [
       "0.0147857666015625"
      ],
      "text/markdown": [
       "0.0147857666015625"
      ],
      "text/plain": [
       "[1] 0.01478577"
      ]
     },
     "metadata": {},
     "output_type": "display_data"
    }
   ],
   "source": [
    "dbinom(5, 20, .5) # compute the probability of x =5 when n=20 and p=.5"
   ]
  },
  {
   "cell_type": "code",
   "execution_count": 6,
   "metadata": {},
   "outputs": [
    {
     "data": {
      "image/png": "[encoded data removed]",
      "text/plain": [
       "plot without title"
      ]
     },
     "metadata": {},
     "output_type": "display_data",
     "source": "R display func"
    }
   ],
   "source": [
    "x = seq(0,20,1) # create a sequence  from 0 to 20 for the values of the binomial\n",
    "plot(x,dbinom(x,20,.5),type=\"h\",ylab=\"pdf\") # plot pdf vs x;\n",
    "                                            # type = \"h\" for discrete pdf\n",
    "abline(0,0) # add an x-axis"
   ]
  },
  {
   "cell_type": "code",
   "execution_count": 7,
   "metadata": {},
   "outputs": [
    {
     "data": {
      "text/html": [
       "\n",
       "<table width=\"100%\" summary=\"page for plot {graphics}\"><tr><td>plot {graphics}</td><td style=\"text-align: right;\">R Documentation</td></tr></table>\n",
       "\n",
       "<h2>Generic X-Y Plotting</h2>\n",
       "\n",
       "<h3>Description</h3>\n",
       "\n",
       "<p>Generic function for plotting of <span style=\"font-family: Courier New, Courier; color: #666666;\"><b>R</b></span> objects.  For more details about\n",
       "the graphical parameter arguments, see <code>par</code>.\n",
       "</p>\n",
       "<p>For simple scatter plots, <code>plot.default</code> will be used.\n",
       "However, there are <code>plot</code> methods for many <span style=\"font-family: Courier New, Courier; color: #666666;\"><b>R</b></span> objects,\n",
       "including <code>function</code>s, <code>data.frame</code>s,\n",
       "<code>density</code> objects, etc.  Use <code>methods(plot)</code> and\n",
       "the documentation for these.\n",
       "</p>\n",
       "\n",
       "\n",
       "<h3>Usage</h3>\n",
       "\n",
       "<pre>\n",
       "plot(x, y, ...)\n",
       "</pre>\n",
       "\n",
       "\n",
       "<h3>Arguments</h3>\n",
       "\n",
       "<table summary=\"R argblock\">\n",
       "<tr valign=\"top\"><td><code>x</code></td>\n",
       "<td>\n",
       "<p>the coordinates of points in the plot. Alternatively, a\n",
       "single plotting structure, function or <em>any <span style=\"font-family: Courier New, Courier; color: #666666;\"><b>R</b></span> object with a\n",
       "<code>plot</code> method</em> can be provided.</p>\n",
       "</td></tr>\n",
       "<tr valign=\"top\"><td><code>y</code></td>\n",
       "<td>\n",
       "<p>the y coordinates of points in the plot, <em>optional</em>\n",
       "if <code>x</code> is an appropriate structure.</p>\n",
       "</td></tr>\n",
       "<tr valign=\"top\"><td><code>...</code></td>\n",
       "<td>\n",
       "<p>Arguments to be passed to methods, such as\n",
       "graphical parameters (see <code>par</code>).\n",
       "Many methods will accept the following arguments:\n",
       "</p>\n",
       "\n",
       "<dl>\n",
       "<dt><code>type</code></dt><dd><p>what type of plot should be drawn.  Possible types are\n",
       "</p>\n",
       "\n",
       "<ul>\n",
       "<li> <p><code>\"p\"</code> for <b>p</b>oints,\n",
       "</p>\n",
       "</li>\n",
       "<li> <p><code>\"l\"</code> for <b>l</b>ines,\n",
       "</p>\n",
       "</li>\n",
       "<li> <p><code>\"b\"</code> for <b>b</b>oth,\n",
       "</p>\n",
       "</li>\n",
       "<li> <p><code>\"c\"</code> for the lines part alone of <code>\"b\"</code>,\n",
       "</p>\n",
       "</li>\n",
       "<li> <p><code>\"o\"</code> for both &lsquo;<b>o</b>verplotted&rsquo;,\n",
       "</p>\n",
       "</li>\n",
       "<li> <p><code>\"h\"</code> for &lsquo;<b>h</b>istogram&rsquo; like (or\n",
       "&lsquo;high-density&rsquo;) vertical lines,\n",
       "</p>\n",
       "</li>\n",
       "<li> <p><code>\"s\"</code> for stair <b>s</b>teps,\n",
       "</p>\n",
       "</li>\n",
       "<li> <p><code>\"S\"</code> for other <b>s</b>teps, see &lsquo;Details&rsquo; below,\n",
       "</p>\n",
       "</li>\n",
       "<li> <p><code>\"n\"</code> for no plotting.\n",
       "</p>\n",
       "</li></ul>\n",
       "\n",
       "<p>All other <code>type</code>s give a warning or an error; using, e.g.,\n",
       "<code>type = \"punkte\"</code> being equivalent to <code>type = \"p\"</code> for S\n",
       "compatibility.  Note that some methods,\n",
       "e.g. <code>plot.factor</code>, do not accept this.\n",
       "</p>\n",
       "</dd>\n",
       "<dt><code>main</code></dt><dd><p>an overall title for the plot: see <code>title</code>.</p>\n",
       "</dd>\n",
       "<dt><code>sub</code></dt><dd><p>a sub title for the plot: see <code>title</code>.</p>\n",
       "</dd>\n",
       "<dt><code>xlab</code></dt><dd><p>a title for the x axis: see <code>title</code>.</p>\n",
       "</dd>\n",
       "<dt><code>ylab</code></dt><dd><p>a title for the y axis: see <code>title</code>.</p>\n",
       "</dd>\n",
       "<dt><code>asp</code></dt><dd><p>the <i>y/x</i> aspect ratio,\n",
       "see <code>plot.window</code>.</p>\n",
       "</dd>\n",
       "</dl>\n",
       "\n",
       "</td></tr>\n",
       "</table>\n",
       "\n",
       "\n",
       "<h3>Details</h3>\n",
       "\n",
       "<p>The two step types differ in their x-y preference: Going from\n",
       "<i>(x1,y1)</i> to <i>(x2,y2)</i> with <i>x1 &lt; x2</i>, <code>type = \"s\"</code>\n",
       "moves first horizontal, then vertical, whereas <code>type = \"S\"</code> moves\n",
       "the other way around.\n",
       "</p>\n",
       "\n",
       "\n",
       "<h3>See Also</h3>\n",
       "\n",
       "<p><code>plot.default</code>, <code>plot.formula</code> and other\n",
       "methods; <code>points</code>, <code>lines</code>, <code>par</code>.\n",
       "For thousands of points, consider using <code>smoothScatter()</code>\n",
       "instead of <code>plot()</code>.\n",
       "</p>\n",
       "<p>For X-Y-Z plotting see <code>contour</code>, <code>persp</code> and\n",
       "<code>image</code>.\n",
       "</p>\n",
       "\n",
       "\n",
       "<h3>Examples</h3>\n",
       "\n",
       "<pre>\n",
       "require(stats) # for lowess, rpois, rnorm\n",
       "plot(cars)\n",
       "lines(lowess(cars))\n",
       "\n",
       "plot(sin, -pi, 2*pi) # see ?plot.function\n",
       "\n",
       "## Discrete Distribution Plot:\n",
       "plot(table(rpois(100, 5)), type = \"h\", col = \"red\", lwd = 10,\n",
       "     main = \"rpois(100, lambda = 5)\")\n",
       "\n",
       "## Simple quantiles/ECDF, see ecdf() {library(stats)} for a better one:\n",
       "plot(x &lt;- sort(rnorm(47)), type = \"s\", main = \"plot(x, type = \\\"s\\\")\")\n",
       "points(x, cex = .5, col = \"dark red\")\n",
       "</pre>\n",
       "\n",
       "<hr /><div style=\"text-align: center;\">[Package <em>graphics</em> version 3.4.3 ]</div>"
      ],
      "text/latex": [
       "\\inputencoding{utf8}\n",
       "\\HeaderA{plot}{Generic X-Y Plotting}{plot}\n",
       "\\keyword{hplot}{plot}\n",
       "%\n",
       "\\begin{Description}\\relax\n",
       "Generic function for plotting of \\R{} objects.  For more details about\n",
       "the graphical parameter arguments, see \\code{\\LinkA{par}{par}}.\n",
       "\n",
       "For simple scatter plots, \\code{\\LinkA{plot.default}{plot.default}} will be used.\n",
       "However, there are \\code{plot} methods for many \\R{} objects,\n",
       "including \\code{\\LinkA{function}{function}}s, \\code{\\LinkA{data.frame}{data.frame}}s,\n",
       "\\code{\\LinkA{density}{density}} objects, etc.  Use \\code{methods(plot)} and\n",
       "the documentation for these.\n",
       "\\end{Description}\n",
       "%\n",
       "\\begin{Usage}\n",
       "\\begin{verbatim}\n",
       "plot(x, y, ...)\n",
       "\\end{verbatim}\n",
       "\\end{Usage}\n",
       "%\n",
       "\\begin{Arguments}\n",
       "\\begin{ldescription}\n",
       "\\item[\\code{x}] the coordinates of points in the plot. Alternatively, a\n",
       "single plotting structure, function or \\emph{any \\R{} object with a\n",
       "\\code{plot} method} can be provided.\n",
       "\\item[\\code{y}] the y coordinates of points in the plot, \\emph{optional}\n",
       "if \\code{x} is an appropriate structure.\n",
       "\\item[\\code{...}] Arguments to be passed to methods, such as\n",
       "\\LinkA{graphical parameters}{graphical parameters} (see \\code{\\LinkA{par}{par}}).\n",
       "Many methods will accept the following arguments:\n",
       "\\begin{description}\n",
       "\n",
       "\\item[\\code{type}] what type of plot should be drawn.  Possible types are\n",
       "\\begin{itemize}\n",
       "\n",
       "\\item \\code{\"p\"} for \\bold{p}oints,\n",
       "\\item \\code{\"l\"} for \\bold{l}ines,\n",
       "\\item \\code{\"b\"} for \\bold{b}oth,\n",
       "\\item \\code{\"c\"} for the lines part alone of \\code{\"b\"},\n",
       "\\item \\code{\"o\"} for both `\\bold{o}verplotted',\n",
       "\\item \\code{\"h\"} for `\\bold{h}istogram' like (or\n",
       "`high-density') vertical lines,\n",
       "\\item \\code{\"s\"} for stair \\bold{s}teps,\n",
       "\\item \\code{\"S\"} for other \\bold{s}teps, see `Details' below,\n",
       "\\item \\code{\"n\"} for no plotting.\n",
       "\n",
       "\\end{itemize}\n",
       "\n",
       "All other \\code{type}s give a warning or an error; using, e.g.,\n",
       "\\code{type = \"punkte\"} being equivalent to \\code{type = \"p\"} for S\n",
       "compatibility.  Note that some methods,\n",
       "e.g.~\\code{\\LinkA{plot.factor}{plot.factor}}, do not accept this.\n",
       "\n",
       "\\item[\\code{main}] an overall title for the plot: see \\code{\\LinkA{title}{title}}.\n",
       "\\item[\\code{sub}] a sub title for the plot: see \\code{\\LinkA{title}{title}}.\n",
       "\\item[\\code{xlab}] a title for the x axis: see \\code{\\LinkA{title}{title}}.\n",
       "\\item[\\code{ylab}] a title for the y axis: see \\code{\\LinkA{title}{title}}.\n",
       "\\item[\\code{asp}] the \\eqn{y/x}{} aspect ratio,\n",
       "see \\code{\\LinkA{plot.window}{plot.window}}.\n",
       "\n",
       "\\end{description}\n",
       "\n",
       "\n",
       "\\end{ldescription}\n",
       "\\end{Arguments}\n",
       "%\n",
       "\\begin{Details}\\relax\n",
       "The two step types differ in their x-y preference: Going from\n",
       "\\eqn{(x1,y1)}{} to \\eqn{(x2,y2)}{} with \\eqn{x1 < x2}{}, \\code{type = \"s\"}\n",
       "moves first horizontal, then vertical, whereas \\code{type = \"S\"} moves\n",
       "the other way around.\n",
       "\\end{Details}\n",
       "%\n",
       "\\begin{SeeAlso}\\relax\n",
       "\\code{\\LinkA{plot.default}{plot.default}}, \\code{\\LinkA{plot.formula}{plot.formula}} and other\n",
       "methods; \\code{\\LinkA{points}{points}}, \\code{\\LinkA{lines}{lines}}, \\code{\\LinkA{par}{par}}.\n",
       "For thousands of points, consider using \\code{\\LinkA{smoothScatter}{smoothScatter}()}\n",
       "instead of \\code{plot()}.\n",
       "\n",
       "For X-Y-Z plotting see \\code{\\LinkA{contour}{contour}}, \\code{\\LinkA{persp}{persp}} and\n",
       "\\code{\\LinkA{image}{image}}.\n",
       "\\end{SeeAlso}\n",
       "%\n",
       "\\begin{Examples}\n",
       "\\begin{ExampleCode}\n",
       "require(stats) # for lowess, rpois, rnorm\n",
       "plot(cars)\n",
       "lines(lowess(cars))\n",
       "\n",
       "plot(sin, -pi, 2*pi) # see ?plot.function\n",
       "\n",
       "## Discrete Distribution Plot:\n",
       "plot(table(rpois(100, 5)), type = \"h\", col = \"red\", lwd = 10,\n",
       "     main = \"rpois(100, lambda = 5)\")\n",
       "\n",
       "## Simple quantiles/ECDF, see ecdf() {library(stats)} for a better one:\n",
       "plot(x <- sort(rnorm(47)), type = \"s\", main = \"plot(x, type = \\\"s\\\")\")\n",
       "points(x, cex = .5, col = \"dark red\")\n",
       "\\end{ExampleCode}\n",
       "\\end{Examples}"
      ],
      "text/plain": [
       "plot                 package:graphics                  R Documentation\n",
       "\n",
       "_\bG_\be_\bn_\be_\br_\bi_\bc _\bX-_\bY _\bP_\bl_\bo_\bt_\bt_\bi_\bn_\bg\n",
       "\n",
       "_\bD_\be_\bs_\bc_\br_\bi_\bp_\bt_\bi_\bo_\bn:\n",
       "\n",
       "     Generic function for plotting of R objects.  For more details\n",
       "     about the graphical parameter arguments, see 'par'.\n",
       "\n",
       "     For simple scatter plots, 'plot.default' will be used.  However,\n",
       "     there are 'plot' methods for many R objects, including\n",
       "     'function's, 'data.frame's, 'density' objects, etc.  Use\n",
       "     'methods(plot)' and the documentation for these.\n",
       "\n",
       "_\bU_\bs_\ba_\bg_\be:\n",
       "\n",
       "     plot(x, y, ...)\n",
       "     \n",
       "_\bA_\br_\bg_\bu_\bm_\be_\bn_\bt_\bs:\n",
       "\n",
       "       x: the coordinates of points in the plot. Alternatively, a\n",
       "          single plotting structure, function or _any R object with a\n",
       "          'plot' method_ can be provided.\n",
       "\n",
       "       y: the y coordinates of points in the plot, _optional_ if 'x' is\n",
       "          an appropriate structure.\n",
       "\n",
       "     ...: Arguments to be passed to methods, such as graphical\n",
       "          parameters (see 'par').  Many methods will accept the\n",
       "          following arguments:\n",
       "\n",
       "          'type' what type of plot should be drawn.  Possible types are\n",
       "\n",
       "                â¢ '\"p\"' for *p*oints,\n",
       "\n",
       "                â¢ '\"l\"' for *l*ines,\n",
       "\n",
       "                â¢ '\"b\"' for *b*oth,\n",
       "\n",
       "                â¢ '\"c\"' for the lines part alone of '\"b\"',\n",
       "\n",
       "                â¢ '\"o\"' for both '*o*verplotted',\n",
       "\n",
       "                â¢ '\"h\"' for '*h*istogram' like (or 'high-density')\n",
       "                  vertical lines,\n",
       "\n",
       "                â¢ '\"s\"' for stair *s*teps,\n",
       "\n",
       "                â¢ '\"S\"' for other *s*teps, see 'Details' below,\n",
       "\n",
       "                â¢ '\"n\"' for no plotting.\n",
       "\n",
       "              All other 'type's give a warning or an error; using,\n",
       "              e.g., 'type = \"punkte\"' being equivalent to 'type = \"p\"'\n",
       "              for S compatibility.  Note that some methods, e.g.\n",
       "              'plot.factor', do not accept this.\n",
       "\n",
       "          'main' an overall title for the plot: see 'title'.\n",
       "\n",
       "          'sub' a sub title for the plot: see 'title'.\n",
       "\n",
       "          'xlab' a title for the x axis: see 'title'.\n",
       "\n",
       "          'ylab' a title for the y axis: see 'title'.\n",
       "\n",
       "          'asp' the y/x aspect ratio, see 'plot.window'.\n",
       "\n",
       "_\bD_\be_\bt_\ba_\bi_\bl_\bs:\n",
       "\n",
       "     The two step types differ in their x-y preference: Going from\n",
       "     (x1,y1) to (x2,y2) with x1 < x2, 'type = \"s\"' moves first\n",
       "     horizontal, then vertical, whereas 'type = \"S\"' moves the other\n",
       "     way around.\n",
       "\n",
       "_\bS_\be_\be _\bA_\bl_\bs_\bo:\n",
       "\n",
       "     'plot.default', 'plot.formula' and other methods; 'points',\n",
       "     'lines', 'par'.  For thousands of points, consider using\n",
       "     'smoothScatter()' instead of 'plot()'.\n",
       "\n",
       "     For X-Y-Z plotting see 'contour', 'persp' and 'image'.\n",
       "\n",
       "_\bE_\bx_\ba_\bm_\bp_\bl_\be_\bs:\n",
       "\n",
       "     require(stats) # for lowess, rpois, rnorm\n",
       "     plot(cars)\n",
       "     lines(lowess(cars))\n",
       "     \n",
       "     plot(sin, -pi, 2*pi) # see ?plot.function\n",
       "     \n",
       "     ## Discrete Distribution Plot:\n",
       "     plot(table(rpois(100, 5)), type = \"h\", col = \"red\", lwd = 10,\n",
       "          main = \"rpois(100, lambda = 5)\")\n",
       "     \n",
       "     ## Simple quantiles/ECDF, see ecdf() {library(stats)} for a better one:\n",
       "     plot(x <- sort(rnorm(47)), type = \"s\", main = \"plot(x, type = \\\"s\\\")\")\n",
       "     points(x, cex = .5, col = \"dark red\")\n",
       "     "
      ]
     },
     "metadata": {},
     "output_type": "display_data"
    }
   ],
   "source": [
    "?plot"
   ]
  },
  {
   "cell_type": "code",
   "execution_count": 14,
   "metadata": {},
   "outputs": [
    {
     "data": {
      "image/png": "[encoded data removed]",
      "text/plain": [
       "plot without title"
      ]
     },
     "metadata": {},
     "output_type": "display_data",
     "source": "R display func"
    }
   ],
   "source": [
    "plot(x,pbinom(x,20,.5),type=\"s\",ylab=\"CDF\") # plot of the CDF\n",
    "abline(0,0)"
   ]
  },
  {
   "cell_type": "code",
   "execution_count": 12,
   "metadata": {},
   "outputs": [
    {
     "data": {
      "text/html": [
       "0.2006581248"
      ],
      "text/latex": [
       "0.2006581248"
      ],
      "text/markdown": [
       "0.2006581248"
      ],
      "text/plain": [
       "[1] 0.2006581"
      ]
     },
     "metadata": {},
     "output_type": "display_data"
    },
    {
     "data": {
      "text/html": [
       "0.8337613824"
      ],
      "text/latex": [
       "0.8337613824"
      ],
      "text/markdown": [
       "0.8337613824"
      ],
      "text/plain": [
       "[1] 0.8337614"
      ]
     },
     "metadata": {},
     "output_type": "display_data"
    },
    {
     "data": {
      "text/html": [
       "0.6664716288"
      ],
      "text/latex": [
       "0.6664716288"
      ],
      "text/markdown": [
       "0.6664716288"
      ],
      "text/plain": [
       "[1] 0.6664716"
      ]
     },
     "metadata": {},
     "output_type": "display_data"
    }
   ],
   "source": [
    "# Example 2.5\n",
    "dbinom(5,10,.4) # probability of making 5 out of 10 shots\n",
    "pbinom(5,10,.4) # probability of making at most 5 out of 10 shots\n",
    "pbinom(5,10,.4) - pbinom(2,10,.4) # probability of making from 3 to 5 shots"
   ]
  },
  {
   "cell_type": "code",
   "execution_count": null,
   "metadata": {},
   "outputs": [],
   "source": []
  }
 ],
 "metadata": {
  "kernelspec": {
   "display_name": "R",
   "language": "R",
   "name": "ir"
  },
  "language_info": {
   "codemirror_mode": "r",
   "file_extension": ".r",
   "mimetype": "text/x-r-source",
   "name": "R",
   "pygments_lexer": "r",
   "version": "3.4.3"
  }
 },
 "nbformat": 4,
 "nbformat_minor": 2
}
