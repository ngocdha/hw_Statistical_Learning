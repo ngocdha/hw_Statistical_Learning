{
 "cells": [
  {
   "cell_type": "code",
   "execution_count": 1,
   "metadata": {},
   "outputs": [],
   "source": [
    "attach(mtcars)"
   ]
  },
  {
   "cell_type": "code",
   "execution_count": 4,
   "metadata": {},
   "outputs": [
    {
     "data": {
      "text/html": [
       "<table>\n",
       "<thead><tr><th></th><th scope=col>mpg</th><th scope=col>cyl</th><th scope=col>disp</th><th scope=col>hp</th><th scope=col>drat</th><th scope=col>wt</th><th scope=col>qsec</th><th scope=col>vs</th><th scope=col>am</th><th scope=col>gear</th><th scope=col>carb</th></tr></thead>\n",
       "<tbody>\n",
       "\t<tr><th scope=row>Mazda RX4 Wag</th><td>21.0 </td><td>6    </td><td>160.0</td><td>110  </td><td>3.90 </td><td>2.875</td><td>17.02</td><td>0    </td><td>1    </td><td>4    </td><td>4    </td></tr>\n",
       "\t<tr><th scope=row>Hornet 4 Drive</th><td>21.4 </td><td>6    </td><td>258.0</td><td>110  </td><td>3.08 </td><td>3.215</td><td>19.44</td><td>1    </td><td>0    </td><td>3    </td><td>1    </td></tr>\n",
       "\t<tr><th scope=row>Valiant</th><td>18.1 </td><td>6    </td><td>225.0</td><td>105  </td><td>2.76 </td><td>3.460</td><td>20.22</td><td>1    </td><td>0    </td><td>3    </td><td>1    </td></tr>\n",
       "\t<tr><th scope=row>Merc 240D</th><td>24.4 </td><td>4    </td><td>146.7</td><td> 62  </td><td>3.69 </td><td>3.190</td><td>20.00</td><td>1    </td><td>0    </td><td>4    </td><td>2    </td></tr>\n",
       "\t<tr><th scope=row>Merc 280</th><td>19.2 </td><td>6    </td><td>167.6</td><td>123  </td><td>3.92 </td><td>3.440</td><td>18.30</td><td>1    </td><td>0    </td><td>4    </td><td>4    </td></tr>\n",
       "\t<tr><th scope=row>Merc 450SE</th><td>16.4 </td><td>8    </td><td>275.8</td><td>180  </td><td>3.07 </td><td>4.070</td><td>17.40</td><td>0    </td><td>0    </td><td>3    </td><td>3    </td></tr>\n",
       "\t<tr><th scope=row>Merc 450SLC</th><td>15.2 </td><td>8    </td><td>275.8</td><td>180  </td><td>3.07 </td><td>3.780</td><td>18.00</td><td>0    </td><td>0    </td><td>3    </td><td>3    </td></tr>\n",
       "\t<tr><th scope=row>Lincoln Continental</th><td>10.4 </td><td>8    </td><td>460.0</td><td>215  </td><td>3.00 </td><td>5.424</td><td>17.82</td><td>0    </td><td>0    </td><td>3    </td><td>4    </td></tr>\n",
       "\t<tr><th scope=row>Fiat 128</th><td>32.4 </td><td>4    </td><td> 78.7</td><td> 66  </td><td>4.08 </td><td>2.200</td><td>19.47</td><td>1    </td><td>1    </td><td>4    </td><td>1    </td></tr>\n",
       "\t<tr><th scope=row>Toyota Corolla</th><td>33.9 </td><td>4    </td><td> 71.1</td><td> 65  </td><td>4.22 </td><td>1.835</td><td>19.90</td><td>1    </td><td>1    </td><td>4    </td><td>1    </td></tr>\n",
       "\t<tr><th scope=row>Dodge Challenger</th><td>15.5 </td><td>8    </td><td>318.0</td><td>150  </td><td>2.76 </td><td>3.520</td><td>16.87</td><td>0    </td><td>0    </td><td>3    </td><td>2    </td></tr>\n",
       "\t<tr><th scope=row>Camaro Z28</th><td>13.3 </td><td>8    </td><td>350.0</td><td>245  </td><td>3.73 </td><td>3.840</td><td>15.41</td><td>0    </td><td>0    </td><td>3    </td><td>4    </td></tr>\n",
       "\t<tr><th scope=row>Fiat X1-9</th><td>27.3 </td><td>4    </td><td> 79.0</td><td> 66  </td><td>4.08 </td><td>1.935</td><td>18.90</td><td>1    </td><td>1    </td><td>4    </td><td>1    </td></tr>\n",
       "\t<tr><th scope=row>Lotus Europa</th><td>30.4 </td><td>4    </td><td> 95.1</td><td>113  </td><td>3.77 </td><td>1.513</td><td>16.90</td><td>1    </td><td>1    </td><td>5    </td><td>2    </td></tr>\n",
       "\t<tr><th scope=row>Ferrari Dino</th><td>19.7 </td><td>6    </td><td>145.0</td><td>175  </td><td>3.62 </td><td>2.770</td><td>15.50</td><td>0    </td><td>1    </td><td>5    </td><td>6    </td></tr>\n",
       "\t<tr><th scope=row>Volvo 142E</th><td>21.4 </td><td>4    </td><td>121.0</td><td>109  </td><td>4.11 </td><td>2.780</td><td>18.60</td><td>1    </td><td>1    </td><td>4    </td><td>2    </td></tr>\n",
       "</tbody>\n",
       "</table>\n"
      ],
      "text/latex": [
       "\\begin{tabular}{r|lllllllllll}\n",
       "  & mpg & cyl & disp & hp & drat & wt & qsec & vs & am & gear & carb\\\\\n",
       "\\hline\n",
       "\tMazda RX4 Wag & 21.0  & 6     & 160.0 & 110   & 3.90  & 2.875 & 17.02 & 0     & 1     & 4     & 4    \\\\\n",
       "\tHornet 4 Drive & 21.4  & 6     & 258.0 & 110   & 3.08  & 3.215 & 19.44 & 1     & 0     & 3     & 1    \\\\\n",
       "\tValiant & 18.1  & 6     & 225.0 & 105   & 2.76  & 3.460 & 20.22 & 1     & 0     & 3     & 1    \\\\\n",
       "\tMerc 240D & 24.4  & 4     & 146.7 &  62   & 3.69  & 3.190 & 20.00 & 1     & 0     & 4     & 2    \\\\\n",
       "\tMerc 280 & 19.2  & 6     & 167.6 & 123   & 3.92  & 3.440 & 18.30 & 1     & 0     & 4     & 4    \\\\\n",
       "\tMerc 450SE & 16.4  & 8     & 275.8 & 180   & 3.07  & 4.070 & 17.40 & 0     & 0     & 3     & 3    \\\\\n",
       "\tMerc 450SLC & 15.2  & 8     & 275.8 & 180   & 3.07  & 3.780 & 18.00 & 0     & 0     & 3     & 3    \\\\\n",
       "\tLincoln Continental & 10.4  & 8     & 460.0 & 215   & 3.00  & 5.424 & 17.82 & 0     & 0     & 3     & 4    \\\\\n",
       "\tFiat 128 & 32.4  & 4     &  78.7 &  66   & 4.08  & 2.200 & 19.47 & 1     & 1     & 4     & 1    \\\\\n",
       "\tToyota Corolla & 33.9  & 4     &  71.1 &  65   & 4.22  & 1.835 & 19.90 & 1     & 1     & 4     & 1    \\\\\n",
       "\tDodge Challenger & 15.5  & 8     & 318.0 & 150   & 2.76  & 3.520 & 16.87 & 0     & 0     & 3     & 2    \\\\\n",
       "\tCamaro Z28 & 13.3  & 8     & 350.0 & 245   & 3.73  & 3.840 & 15.41 & 0     & 0     & 3     & 4    \\\\\n",
       "\tFiat X1-9 & 27.3  & 4     &  79.0 &  66   & 4.08  & 1.935 & 18.90 & 1     & 1     & 4     & 1    \\\\\n",
       "\tLotus Europa & 30.4  & 4     &  95.1 & 113   & 3.77  & 1.513 & 16.90 & 1     & 1     & 5     & 2    \\\\\n",
       "\tFerrari Dino & 19.7  & 6     & 145.0 & 175   & 3.62  & 2.770 & 15.50 & 0     & 1     & 5     & 6    \\\\\n",
       "\tVolvo 142E & 21.4  & 4     & 121.0 & 109   & 4.11  & 2.780 & 18.60 & 1     & 1     & 4     & 2    \\\\\n",
       "\\end{tabular}\n"
      ],
      "text/markdown": [
       "\n",
       "| <!--/--> | mpg | cyl | disp | hp | drat | wt | qsec | vs | am | gear | carb | \n",
       "|---|---|---|---|---|---|---|---|---|---|---|---|---|---|---|---|\n",
       "| Mazda RX4 Wag | 21.0  | 6     | 160.0 | 110   | 3.90  | 2.875 | 17.02 | 0     | 1     | 4     | 4     | \n",
       "| Hornet 4 Drive | 21.4  | 6     | 258.0 | 110   | 3.08  | 3.215 | 19.44 | 1     | 0     | 3     | 1     | \n",
       "| Valiant | 18.1  | 6     | 225.0 | 105   | 2.76  | 3.460 | 20.22 | 1     | 0     | 3     | 1     | \n",
       "| Merc 240D | 24.4  | 4     | 146.7 |  62   | 3.69  | 3.190 | 20.00 | 1     | 0     | 4     | 2     | \n",
       "| Merc 280 | 19.2  | 6     | 167.6 | 123   | 3.92  | 3.440 | 18.30 | 1     | 0     | 4     | 4     | \n",
       "| Merc 450SE | 16.4  | 8     | 275.8 | 180   | 3.07  | 4.070 | 17.40 | 0     | 0     | 3     | 3     | \n",
       "| Merc 450SLC | 15.2  | 8     | 275.8 | 180   | 3.07  | 3.780 | 18.00 | 0     | 0     | 3     | 3     | \n",
       "| Lincoln Continental | 10.4  | 8     | 460.0 | 215   | 3.00  | 5.424 | 17.82 | 0     | 0     | 3     | 4     | \n",
       "| Fiat 128 | 32.4  | 4     |  78.7 |  66   | 4.08  | 2.200 | 19.47 | 1     | 1     | 4     | 1     | \n",
       "| Toyota Corolla | 33.9  | 4     |  71.1 |  65   | 4.22  | 1.835 | 19.90 | 1     | 1     | 4     | 1     | \n",
       "| Dodge Challenger | 15.5  | 8     | 318.0 | 150   | 2.76  | 3.520 | 16.87 | 0     | 0     | 3     | 2     | \n",
       "| Camaro Z28 | 13.3  | 8     | 350.0 | 245   | 3.73  | 3.840 | 15.41 | 0     | 0     | 3     | 4     | \n",
       "| Fiat X1-9 | 27.3  | 4     |  79.0 |  66   | 4.08  | 1.935 | 18.90 | 1     | 1     | 4     | 1     | \n",
       "| Lotus Europa | 30.4  | 4     |  95.1 | 113   | 3.77  | 1.513 | 16.90 | 1     | 1     | 5     | 2     | \n",
       "| Ferrari Dino | 19.7  | 6     | 145.0 | 175   | 3.62  | 2.770 | 15.50 | 0     | 1     | 5     | 6     | \n",
       "| Volvo 142E | 21.4  | 4     | 121.0 | 109   | 4.11  | 2.780 | 18.60 | 1     | 1     | 4     | 2     | \n",
       "\n",
       "\n"
      ],
      "text/plain": [
       "                    mpg  cyl disp  hp  drat wt    qsec  vs am gear carb\n",
       "Mazda RX4 Wag       21.0 6   160.0 110 3.90 2.875 17.02 0  1  4    4   \n",
       "Hornet 4 Drive      21.4 6   258.0 110 3.08 3.215 19.44 1  0  3    1   \n",
       "Valiant             18.1 6   225.0 105 2.76 3.460 20.22 1  0  3    1   \n",
       "Merc 240D           24.4 4   146.7  62 3.69 3.190 20.00 1  0  4    2   \n",
       "Merc 280            19.2 6   167.6 123 3.92 3.440 18.30 1  0  4    4   \n",
       "Merc 450SE          16.4 8   275.8 180 3.07 4.070 17.40 0  0  3    3   \n",
       "Merc 450SLC         15.2 8   275.8 180 3.07 3.780 18.00 0  0  3    3   \n",
       "Lincoln Continental 10.4 8   460.0 215 3.00 5.424 17.82 0  0  3    4   \n",
       "Fiat 128            32.4 4    78.7  66 4.08 2.200 19.47 1  1  4    1   \n",
       "Toyota Corolla      33.9 4    71.1  65 4.22 1.835 19.90 1  1  4    1   \n",
       "Dodge Challenger    15.5 8   318.0 150 2.76 3.520 16.87 0  0  3    2   \n",
       "Camaro Z28          13.3 8   350.0 245 3.73 3.840 15.41 0  0  3    4   \n",
       "Fiat X1-9           27.3 4    79.0  66 4.08 1.935 18.90 1  1  4    1   \n",
       "Lotus Europa        30.4 4    95.1 113 3.77 1.513 16.90 1  1  5    2   \n",
       "Ferrari Dino        19.7 6   145.0 175 3.62 2.770 15.50 0  1  5    6   \n",
       "Volvo 142E          21.4 4   121.0 109 4.11 2.780 18.60 1  1  4    2   "
      ]
     },
     "metadata": {},
     "output_type": "display_data"
    }
   ],
   "source": [
    "mtcars[-seq(1,32,2), ]"
   ]
  },
  {
   "cell_type": "code",
   "execution_count": 2,
   "metadata": {},
   "outputs": [
    {
     "data": {
      "text/html": [
       "32"
      ],
      "text/latex": [
       "32"
      ],
      "text/markdown": [
       "32"
      ],
      "text/plain": [
       "[1] 32"
      ]
     },
     "metadata": {},
     "output_type": "display_data"
    }
   ],
   "source": [
    "length(mpg)"
   ]
  },
  {
   "cell_type": "code",
   "execution_count": 3,
   "metadata": {},
   "outputs": [],
   "source": [
    "out = sample(mpg, 32, replace = T)"
   ]
  },
  {
   "cell_type": "code",
   "execution_count": 4,
   "metadata": {},
   "outputs": [
    {
     "data": {
      "text/html": [
       "<table>\n",
       "<thead><tr><th scope=col>mpg</th><th scope=col>out</th></tr></thead>\n",
       "<tbody>\n",
       "\t<tr><td>21.0</td><td>21.0</td></tr>\n",
       "\t<tr><td>21.0</td><td>16.4</td></tr>\n",
       "\t<tr><td>22.8</td><td>21.0</td></tr>\n",
       "\t<tr><td>21.4</td><td>14.7</td></tr>\n",
       "\t<tr><td>18.7</td><td>27.3</td></tr>\n",
       "\t<tr><td>18.1</td><td>14.7</td></tr>\n",
       "\t<tr><td>14.3</td><td>17.3</td></tr>\n",
       "\t<tr><td>24.4</td><td>32.4</td></tr>\n",
       "\t<tr><td>22.8</td><td>10.4</td></tr>\n",
       "\t<tr><td>19.2</td><td>13.3</td></tr>\n",
       "\t<tr><td>17.8</td><td>22.8</td></tr>\n",
       "\t<tr><td>16.4</td><td>30.4</td></tr>\n",
       "\t<tr><td>17.3</td><td>21.0</td></tr>\n",
       "\t<tr><td>15.2</td><td>13.3</td></tr>\n",
       "\t<tr><td>10.4</td><td>27.3</td></tr>\n",
       "\t<tr><td>10.4</td><td>19.2</td></tr>\n",
       "\t<tr><td>14.7</td><td>21.0</td></tr>\n",
       "\t<tr><td>32.4</td><td>26.0</td></tr>\n",
       "\t<tr><td>30.4</td><td>15.2</td></tr>\n",
       "\t<tr><td>33.9</td><td>15.2</td></tr>\n",
       "\t<tr><td>21.5</td><td>26.0</td></tr>\n",
       "\t<tr><td>15.5</td><td>27.3</td></tr>\n",
       "\t<tr><td>15.2</td><td>18.1</td></tr>\n",
       "\t<tr><td>13.3</td><td>27.3</td></tr>\n",
       "\t<tr><td>19.2</td><td>19.7</td></tr>\n",
       "\t<tr><td>27.3</td><td>19.7</td></tr>\n",
       "\t<tr><td>26.0</td><td>21.0</td></tr>\n",
       "\t<tr><td>30.4</td><td>21.5</td></tr>\n",
       "\t<tr><td>15.8</td><td>19.2</td></tr>\n",
       "\t<tr><td>19.7</td><td>24.4</td></tr>\n",
       "\t<tr><td>15.0</td><td>15.8</td></tr>\n",
       "\t<tr><td>21.4</td><td>33.9</td></tr>\n",
       "</tbody>\n",
       "</table>\n"
      ],
      "text/latex": [
       "\\begin{tabular}{ll}\n",
       " mpg & out\\\\\n",
       "\\hline\n",
       "\t 21.0 & 21.0\\\\\n",
       "\t 21.0 & 16.4\\\\\n",
       "\t 22.8 & 21.0\\\\\n",
       "\t 21.4 & 14.7\\\\\n",
       "\t 18.7 & 27.3\\\\\n",
       "\t 18.1 & 14.7\\\\\n",
       "\t 14.3 & 17.3\\\\\n",
       "\t 24.4 & 32.4\\\\\n",
       "\t 22.8 & 10.4\\\\\n",
       "\t 19.2 & 13.3\\\\\n",
       "\t 17.8 & 22.8\\\\\n",
       "\t 16.4 & 30.4\\\\\n",
       "\t 17.3 & 21.0\\\\\n",
       "\t 15.2 & 13.3\\\\\n",
       "\t 10.4 & 27.3\\\\\n",
       "\t 10.4 & 19.2\\\\\n",
       "\t 14.7 & 21.0\\\\\n",
       "\t 32.4 & 26.0\\\\\n",
       "\t 30.4 & 15.2\\\\\n",
       "\t 33.9 & 15.2\\\\\n",
       "\t 21.5 & 26.0\\\\\n",
       "\t 15.5 & 27.3\\\\\n",
       "\t 15.2 & 18.1\\\\\n",
       "\t 13.3 & 27.3\\\\\n",
       "\t 19.2 & 19.7\\\\\n",
       "\t 27.3 & 19.7\\\\\n",
       "\t 26.0 & 21.0\\\\\n",
       "\t 30.4 & 21.5\\\\\n",
       "\t 15.8 & 19.2\\\\\n",
       "\t 19.7 & 24.4\\\\\n",
       "\t 15.0 & 15.8\\\\\n",
       "\t 21.4 & 33.9\\\\\n",
       "\\end{tabular}\n"
      ],
      "text/markdown": [
       "\n",
       "mpg | out | \n",
       "|---|---|---|---|---|---|---|---|---|---|---|---|---|---|---|---|---|---|---|---|---|---|---|---|---|---|---|---|---|---|---|---|\n",
       "| 21.0 | 21.0 | \n",
       "| 21.0 | 16.4 | \n",
       "| 22.8 | 21.0 | \n",
       "| 21.4 | 14.7 | \n",
       "| 18.7 | 27.3 | \n",
       "| 18.1 | 14.7 | \n",
       "| 14.3 | 17.3 | \n",
       "| 24.4 | 32.4 | \n",
       "| 22.8 | 10.4 | \n",
       "| 19.2 | 13.3 | \n",
       "| 17.8 | 22.8 | \n",
       "| 16.4 | 30.4 | \n",
       "| 17.3 | 21.0 | \n",
       "| 15.2 | 13.3 | \n",
       "| 10.4 | 27.3 | \n",
       "| 10.4 | 19.2 | \n",
       "| 14.7 | 21.0 | \n",
       "| 32.4 | 26.0 | \n",
       "| 30.4 | 15.2 | \n",
       "| 33.9 | 15.2 | \n",
       "| 21.5 | 26.0 | \n",
       "| 15.5 | 27.3 | \n",
       "| 15.2 | 18.1 | \n",
       "| 13.3 | 27.3 | \n",
       "| 19.2 | 19.7 | \n",
       "| 27.3 | 19.7 | \n",
       "| 26.0 | 21.0 | \n",
       "| 30.4 | 21.5 | \n",
       "| 15.8 | 19.2 | \n",
       "| 19.7 | 24.4 | \n",
       "| 15.0 | 15.8 | \n",
       "| 21.4 | 33.9 | \n",
       "\n",
       "\n"
      ],
      "text/plain": [
       "      mpg  out \n",
       " [1,] 21.0 21.0\n",
       " [2,] 21.0 16.4\n",
       " [3,] 22.8 21.0\n",
       " [4,] 21.4 14.7\n",
       " [5,] 18.7 27.3\n",
       " [6,] 18.1 14.7\n",
       " [7,] 14.3 17.3\n",
       " [8,] 24.4 32.4\n",
       " [9,] 22.8 10.4\n",
       "[10,] 19.2 13.3\n",
       "[11,] 17.8 22.8\n",
       "[12,] 16.4 30.4\n",
       "[13,] 17.3 21.0\n",
       "[14,] 15.2 13.3\n",
       "[15,] 10.4 27.3\n",
       "[16,] 10.4 19.2\n",
       "[17,] 14.7 21.0\n",
       "[18,] 32.4 26.0\n",
       "[19,] 30.4 15.2\n",
       "[20,] 33.9 15.2\n",
       "[21,] 21.5 26.0\n",
       "[22,] 15.5 27.3\n",
       "[23,] 15.2 18.1\n",
       "[24,] 13.3 27.3\n",
       "[25,] 19.2 19.7\n",
       "[26,] 27.3 19.7\n",
       "[27,] 26.0 21.0\n",
       "[28,] 30.4 21.5\n",
       "[29,] 15.8 19.2\n",
       "[30,] 19.7 24.4\n",
       "[31,] 15.0 15.8\n",
       "[32,] 21.4 33.9"
      ]
     },
     "metadata": {},
     "output_type": "display_data"
    }
   ],
   "source": [
    "cbind(mpg, out)"
   ]
  },
  {
   "cell_type": "code",
   "execution_count": 8,
   "metadata": {},
   "outputs": [],
   "source": [
    "library(boot)"
   ]
  },
  {
   "cell_type": "code",
   "execution_count": 18,
   "metadata": {},
   "outputs": [
    {
     "data": {
      "text/plain": [
       "\n",
       "ORDINARY NONPARAMETRIC BOOTSTRAP\n",
       "\n",
       "\n",
       "Call:\n",
       "boot(data = mpg, statistic = sampleMean, R = 500)\n",
       "\n",
       "\n",
       "Bootstrap Statistics :\n",
       "    original  bias    std. error\n",
       "t1*     19.2  -0.035    1.265507"
      ]
     },
     "metadata": {},
     "output_type": "display_data"
    }
   ],
   "source": [
    "sampleMean = function(x,d) {\n",
    "    median(x[d])\n",
    "}\n",
    "boot(mpg, sampleMean, 500)"
   ]
  },
  {
   "cell_type": "code",
   "execution_count": 21,
   "metadata": {},
   "outputs": [
    {
     "data": {
      "text/plain": [
       "\n",
       "ORDINARY NONPARAMETRIC BOOTSTRAP\n",
       "\n",
       "\n",
       "Call:\n",
       "boot(data = cbind(mpg, wt), statistic = my.r, R = 500)\n",
       "\n",
       "\n",
       "Bootstrap Statistics :\n",
       "      original       bias    std. error\n",
       "t1* -0.8676594 -0.002840015  0.03376434"
      ]
     },
     "metadata": {},
     "output_type": "display_data"
    }
   ],
   "source": [
    "my.r = function(d, i) {\n",
    "    d2 = d[i,]\n",
    "    return(cor(d2[,1], d2[,2]))\n",
    "}\n",
    "boot(data = cbind(mpg, wt), my.r, 500)"
   ]
  },
  {
   "cell_type": "code",
   "execution_count": 3,
   "metadata": {},
   "outputs": [],
   "source": [
    "attach(USArrests)"
   ]
  },
  {
   "cell_type": "code",
   "execution_count": 4,
   "metadata": {},
   "outputs": [
    {
     "data": {
      "text/html": [
       "<ol class=list-inline>\n",
       "\t<li>6.55017782093077</li>\n",
       "\t<li>9.02582217906923</li>\n",
       "</ol>\n"
      ],
      "text/latex": [
       "\\begin{enumerate*}\n",
       "\\item 6.55017782093077\n",
       "\\item 9.02582217906923\n",
       "\\end{enumerate*}\n"
      ],
      "text/markdown": [
       "1. 6.55017782093077\n",
       "2. 9.02582217906923\n",
       "\n",
       "\n"
      ],
      "text/plain": [
       "[1] 6.550178 9.025822"
      ]
     },
     "metadata": {},
     "output_type": "display_data"
    }
   ],
   "source": [
    "mean(Murder)+qt(c(.025,.975), length(Murder)-1)*sd(Murder)/sqrt(length(Murder))"
   ]
  },
  {
   "cell_type": "code",
   "execution_count": 5,
   "metadata": {},
   "outputs": [
    {
     "data": {
      "image/png": "[encoded data removed]",
      "text/plain": [
       "Plot with title \"Normal Q-Q Plot\""
      ]
     },
     "metadata": {},
     "output_type": "display_data",
     "source": "R display func"
    }
   ],
   "source": [
    "qqnorm(Murder); qqline(Murder, lwd=50)"
   ]
  },
  {
   "cell_type": "code",
   "execution_count": null,
   "metadata": {},
   "outputs": [],
   "source": []
  }
 ],
 "metadata": {
  "kernelspec": {
   "display_name": "R",
   "language": "R",
   "name": "ir"
  },
  "language_info": {
   "codemirror_mode": "r",
   "file_extension": ".r",
   "mimetype": "text/x-r-source",
   "name": "R",
   "pygments_lexer": "r",
   "version": "3.5.1"
  }
 },
 "nbformat": 4,
 "nbformat_minor": 2
}
