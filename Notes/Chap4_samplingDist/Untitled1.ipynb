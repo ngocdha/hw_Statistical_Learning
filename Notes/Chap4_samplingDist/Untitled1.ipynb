{
 "cells": [
  {
   "cell_type": "code",
   "execution_count": 4,
   "metadata": {},
   "outputs": [],
   "source": [
    "my.boot <- function(x,y,R=1000,lower=.025,upper=.975) {\n",
    "    boo = c(1:R)\n",
    "    nx = length(x)\n",
    "    ny = length(y)\n",
    "    for (i in c(1:R)) {\n",
    "        rx = sample(x,nx,replace=T)\n",
    "        ry = sample(y,ny,replace=T)\n",
    "        boo[i] = median(rx)/median(ry)\n",
    "    }\n",
    "    par(mfrow=c(3,1))\n",
    "    hist(boo,prob=T)\n",
    "    boxplot(boo, horizontal = T)\n",
    "    qqnorm(boo)\n",
    "    qqline(boo)\n",
    "    return(list(median(x)/median(y), sd(boo), quantile(boo,c(lower,upper))))\n",
    "}"
   ]
  },
  {
   "cell_type": "code",
   "execution_count": 16,
   "metadata": {},
   "outputs": [
    {
     "data": {
      "text/html": [
       "<ol>\n",
       "\t<li>0.769230769230769</li>\n",
       "\t<li>0.0147669376972655</li>\n",
       "\t<li><dl class=dl-horizontal>\n",
       "\t<dt>2.5%</dt>\n",
       "\t\t<dd>0.746216591461298</dd>\n",
       "\t<dt>97.5%</dt>\n",
       "\t\t<dd>0.796875</dd>\n",
       "</dl>\n",
       "</li>\n",
       "</ol>\n"
      ],
      "text/latex": [
       "\\begin{enumerate}\n",
       "\\item 0.769230769230769\n",
       "\\item 0.0147669376972655\n",
       "\\item \\begin{description*}\n",
       "\\item[2.5\\textbackslash{}\\%] 0.746216591461298\n",
       "\\item[97.5\\textbackslash{}\\%] 0.796875\n",
       "\\end{description*}\n",
       "\n",
       "\\end{enumerate}\n"
      ],
      "text/markdown": [
       "1. 0.769230769230769\n",
       "2. 0.0147669376972655\n",
       "3. 2.5%\n",
       ":   0.74621659146129897.5%\n",
       ":   0.796875\n",
       "\n",
       "\n",
       "\n",
       "\n"
      ],
      "text/plain": [
       "[[1]]\n",
       "[1] 0.7692308\n",
       "\n",
       "[[2]]\n",
       "[1] 0.01476694\n",
       "\n",
       "[[3]]\n",
       "     2.5%     97.5% \n",
       "0.7462166 0.7968750 \n"
      ]
     },
     "metadata": {},
     "output_type": "display_data"
    },
    {
     "data": {
      "image/png": "[encoded data removed]",
      "text/plain": [
       "Plot with title \"Normal Q-Q Plot\""
      ]
     },
     "metadata": {},
     "output_type": "display_data",
     "source": "R display func"
    }
   ],
   "source": [
    "my.boot(Sepal.Length[Species == \"setosa\"],Sepal.Length[Species == \"virginica\"])"
   ]
  },
  {
   "cell_type": "code",
   "execution_count": 17,
   "metadata": {},
   "outputs": [],
   "source": [
    "# prop.test for testing proportion (confidence interval)"
   ]
  },
  {
   "cell_type": "code",
   "execution_count": 3,
   "metadata": {},
   "outputs": [],
   "source": [
    "attach(USArrests)"
   ]
  },
  {
   "cell_type": "code",
   "execution_count": null,
   "metadata": {},
   "outputs": [],
   "source": []
  }
 ],
 "metadata": {
  "kernelspec": {
   "display_name": "R",
   "language": "R",
   "name": "ir"
  },
  "language_info": {
   "codemirror_mode": "r",
   "file_extension": ".r",
   "mimetype": "text/x-r-source",
   "name": "R",
   "pygments_lexer": "r",
   "version": "3.5.1"
  }
 },
 "nbformat": 4,
 "nbformat_minor": 2
}
